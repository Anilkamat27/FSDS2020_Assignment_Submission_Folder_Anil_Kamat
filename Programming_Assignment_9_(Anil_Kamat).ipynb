{
  "nbformat": 4,
  "nbformat_minor": 0,
  "metadata": {
    "colab": {
      "provenance": []
    },
    "kernelspec": {
      "name": "python3",
      "display_name": "Python 3"
    },
    "language_info": {
      "name": "python"
    }
  },
  "cells": [
    {
      "cell_type": "markdown",
      "source": [
        "1. Write a Python program to check if the given number is a Disarium Number?"
      ],
      "metadata": {
        "id": "5yNaw-ivDw6u"
      }
    },
    {
      "cell_type": "code",
      "execution_count": null,
      "metadata": {
        "colab": {
          "base_uri": "https://localhost:8080/"
        },
        "id": "og4vbKfaBd6a",
        "outputId": "d711dd0e-ae7b-4b72-965a-53c6f93d8fff"
      },
      "outputs": [
        {
          "output_type": "stream",
          "name": "stdout",
          "text": [
            "Enter Number : 89\n",
            "89\n",
            "yes it is Disarium number\n"
          ]
        }
      ],
      "source": [
        "try :\n",
        "  number = int(input(\"Enter Number : \"))\n",
        "  def number_of_digits(number):\n",
        "    divider = 10\n",
        "    count = 0\n",
        "    digits =[]\n",
        "    while number > 0:\n",
        "      count += 1\n",
        "      digits.append(number % divider)\n",
        "      number = number//divider\n",
        "    return count , digits\n",
        "\n",
        "  count , digits = number_of_digits(number)\n",
        "  SOP = 0\n",
        "  l = len(digits)\n",
        "  for i in digits:\n",
        "    SOP += i**l\n",
        "    l -= 1\n",
        "  print(SOP)\n",
        "  if SOP == number:\n",
        "    print(\"yes it is Disarium number\")\n",
        "  else :\n",
        "    print(\"it is not a disarium number\")\n",
        "\n",
        "except ValueError as e:\n",
        "  print(\"enter a valid input\")"
      ]
    },
    {
      "cell_type": "markdown",
      "source": [
        "2. Write a Python program to print all disarium numbers between 1 to 100?"
      ],
      "metadata": {
        "id": "RI1IrXCxDvYW"
      }
    },
    {
      "cell_type": "code",
      "source": [
        "try :\n",
        "  start = int(input(\"Enter starting point of range : \"))\n",
        "  end = int(input(\"Enter ending point of range : \"))\n",
        "\n",
        "  def number_of_digits(number):\n",
        "    divider = 10\n",
        "    count = 0\n",
        "    digits =[]\n",
        "    while number > 0:\n",
        "      count += 1\n",
        "      digits.append(number % divider)\n",
        "      number = number//divider\n",
        "    return count , digits\n",
        "\n",
        "  def Armstrong(number):\n",
        "    count , digits = number_of_digits(number)\n",
        "    SOP = 0\n",
        "    l = len(digits)\n",
        "    for i in digits:\n",
        "      SOP += i**l\n",
        "      l -= 1\n",
        "    if SOP == number:\n",
        "      return True\n",
        "    else :\n",
        "      return False\n",
        "\n",
        "  Armstrong_list =[]\n",
        "\n",
        "  for i in range(start,end):\n",
        "    if Armstrong(i) :\n",
        "      Armstrong_list.append(i)\n",
        "  print(Armstrong_list)\n",
        "\n",
        "except ValueError as e:\n",
        "  print(\"enter a valid input\")"
      ],
      "metadata": {
        "colab": {
          "base_uri": "https://localhost:8080/"
        },
        "id": "NGp1sy_0CrlM",
        "outputId": "81ad4ddc-8344-43d4-e7b7-2f442a36da51"
      },
      "execution_count": null,
      "outputs": [
        {
          "output_type": "stream",
          "name": "stdout",
          "text": [
            "Enter starting point of range : 1\n",
            "Enter ending point of range : 100\n",
            "[1, 2, 3, 4, 5, 6, 7, 8, 9, 89]\n"
          ]
        }
      ]
    },
    {
      "cell_type": "markdown",
      "source": [
        "3. Write a Python program to check if the given number is Happy Number?"
      ],
      "metadata": {
        "id": "iVOi7VyBN_zI"
      }
    },
    {
      "cell_type": "code",
      "source": [
        "number = int(input(\"Enter a number: \"))\n",
        "visited = set()\n",
        "while number != 1 and number not in visited:\n",
        "  visited.add(number)\n",
        "  new_num = 0\n",
        "  for digit in str(number):\n",
        "    new_num += (int(digit)**2)\n",
        "  number = new_num\n",
        "if number ==1 :\n",
        "    print(\"It is a happy number.\")\n",
        "else:\n",
        "    print(\"It is not a happy number.\")\n"
      ],
      "metadata": {
        "colab": {
          "base_uri": "https://localhost:8080/"
        },
        "id": "2H0DQY0rHlvU",
        "outputId": "43129be5-2724-40b7-afb3-c0557ad188fd"
      },
      "execution_count": null,
      "outputs": [
        {
          "output_type": "stream",
          "name": "stdout",
          "text": [
            "Enter a number: 19\n",
            "It is a happy number.\n"
          ]
        }
      ]
    },
    {
      "cell_type": "markdown",
      "source": [
        "4. Write a Python program to print all happy numbers between 1 and 100?"
      ],
      "metadata": {
        "id": "m7d-g0twOI_r"
      }
    },
    {
      "cell_type": "code",
      "source": [
        "def _is_Happy(num):\n",
        "  visited = set()\n",
        "  while num != 1 and num not in visited:\n",
        "    visited.add(num)\n",
        "    new_num = 0\n",
        "    for digit in str(num):\n",
        "      new_num += (int(digit)**2)\n",
        "    num = new_num\n",
        "  if num ==1:\n",
        "    return num\n",
        "happy =[]\n",
        "for i in range(1,100):\n",
        "  if _is_Happy(i):\n",
        "    happy.append(i)\n",
        "print(happy)\n",
        "\n"
      ],
      "metadata": {
        "id": "HX4Qu3eEHm5G",
        "colab": {
          "base_uri": "https://localhost:8080/"
        },
        "outputId": "3e0e6346-88f5-4bbc-9194-e4a6eac5167e"
      },
      "execution_count": null,
      "outputs": [
        {
          "output_type": "stream",
          "name": "stdout",
          "text": [
            "[1, 7, 10, 13, 19, 23, 28, 31, 32, 44, 49, 68, 70, 79, 82, 86, 91, 94, 97]\n"
          ]
        }
      ]
    },
    {
      "cell_type": "markdown",
      "source": [
        "5. Write a Python program to determine whether the given number is a Harshad Number?\n",
        "\n"
      ],
      "metadata": {
        "id": "M0DgsamsQdt6"
      }
    },
    {
      "cell_type": "code",
      "source": [
        "number = int(input(\"Enter a number: \"))\n",
        "sum1 = 0\n",
        "for digit in str(number):\n",
        "  sum1 += int(digit)\n",
        "\n",
        "if number % sum1 == 0:\n",
        "    print(\"It is a happy number.\")\n",
        "else:\n",
        "    print(\"It is not a happy number.\")"
      ],
      "metadata": {
        "id": "YtR0_VgEPYr_",
        "colab": {
          "base_uri": "https://localhost:8080/"
        },
        "outputId": "4dbf3955-7870-41da-a5d1-711fc1fe790a"
      },
      "execution_count": null,
      "outputs": [
        {
          "output_type": "stream",
          "name": "stdout",
          "text": [
            "Enter a number: 18\n",
            "It is a happy number.\n"
          ]
        }
      ]
    },
    {
      "cell_type": "markdown",
      "source": [
        "6.Write a Python program to print all pronic numbers between 1 and 100?"
      ],
      "metadata": {
        "id": "y4cLw7-Xwj9I"
      }
    },
    {
      "cell_type": "code",
      "source": [
        "i = 1\n",
        "sum = 0\n",
        "while sum <=100:\n",
        "  sum = i*(i+1)\n",
        "  if sum <=100:\n",
        "    print(sum, end = \" \")\n",
        "  i += 1\n"
      ],
      "metadata": {
        "id": "Wd9F-MeZvcjZ",
        "colab": {
          "base_uri": "https://localhost:8080/"
        },
        "outputId": "93488209-7f14-4d42-ba92-97de2a1c8d6a"
      },
      "execution_count": null,
      "outputs": [
        {
          "output_type": "stream",
          "name": "stdout",
          "text": [
            "2 6 12 20 30 42 56 72 90 "
          ]
        }
      ]
    },
    {
      "cell_type": "code",
      "source": [],
      "metadata": {
        "id": "h8DU0vxaOKgL"
      },
      "execution_count": null,
      "outputs": []
    }
  ]
}