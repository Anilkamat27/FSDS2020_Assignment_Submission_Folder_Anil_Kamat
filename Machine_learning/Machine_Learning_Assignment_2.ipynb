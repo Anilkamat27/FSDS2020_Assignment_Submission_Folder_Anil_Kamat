{
  "nbformat": 4,
  "nbformat_minor": 0,
  "metadata": {
    "colab": {
      "provenance": []
    },
    "kernelspec": {
      "name": "python3",
      "display_name": "Python 3"
    },
    "language_info": {
      "name": "python"
    }
  },
  "cells": [
    {
      "cell_type": "markdown",
      "source": [
        "**Human learning is how we understand things using our thinking and intelligence.**\n",
        "\n",
        "Learning by Watching (Observation): For eg. ,learning how to ride a bike by watching someone else do it. we observe their actions and try to imitate them to learn the skill.\n",
        "\n",
        "Learning by Trial and Error: This is when we try different things until you figure out what works. For example, learning to solve a puzzle or playing a new video game where you learn by experimenting with different moves and strategies."
      ],
      "metadata": {
        "id": "OhEGGRoXWKEA"
      }
    },
    {
      "cell_type": "markdown",
      "source": [
        "**What different forms of human learning are there? Are there any machine learning equivalents?**\n",
        "\n",
        "Explicit & Implicit ,Social ,Experiential,Cognitive ,Conditioned Learning\n",
        "\n",
        "yes ,\n",
        "\n",
        "Supervised Learning: Maps input to output with labeled data.\n",
        "\n",
        "Unsupervised Learning: Finds patterns without labeled data.\n",
        "\n",
        "Reinforcement Learning: Agent learns by interacting with an environment.\n",
        "\n",
        "Deep Learning: Utilizes neural networks for complex, hierarchical representations.\n",
        "\n"
      ],
      "metadata": {
        "id": "okI13R6QWJ9-"
      }
    },
    {
      "cell_type": "markdown",
      "source": [
        "**What is machine learning, and how does it work? What are the key responsibilities of machine learning?**\n",
        "\n",
        "Machine learning is a type of AI where computers learn from data to make decisions. It works by finding patterns in data without much human help. Machine learning engineers design systems, research algorithms, pick data, and make sure it's good quality for accurate results."
      ],
      "metadata": {
        "id": "5oUamQ0lYGJ2"
      }
    },
    {
      "cell_type": "markdown",
      "source": [
        "**Define the terms \"penalty\" and \"reward\" in the context of reinforcement learning.**\n",
        "\n",
        "In reinforcement learning, an agent learns by interacting with its surroundings. It gets rewards for doing things right and penalties for mistakes. The agent learns on its own by maximizing rewards and minimizing penalties, without human interference."
      ],
      "metadata": {
        "id": "1teiIB09YnIo"
      }
    },
    {
      "cell_type": "markdown",
      "source": [
        "**Explain the term \"learning as a search\"?**\n",
        "\n",
        "Learning as a search means finding the best way to describe data or the most suitable hypothesis in a given space , like searching through options to figure out the most accurate representation without knowing it beforehand."
      ],
      "metadata": {
        "id": "VjGa1UK4WKAg"
      }
    },
    {
      "cell_type": "markdown",
      "source": [
        "**What are the various goals of machine learning? What is the relationship between these and human learning?**\n",
        "\n",
        "The goal of machine learning is to understand and replicate learning, including human learning, in computer systems. It aims to enable computers to learn and improve from data. While humans naturally learn and build upon previous knowledge, machine learning enhances or even substitutes this process."
      ],
      "metadata": {
        "id": "_Z7vmBNzZSJG"
      }
    },
    {
      "cell_type": "markdown",
      "source": [
        "**Illustrate the various elements of machine learning using a real-life illustration.**\n",
        "\n",
        "Data: collection of emails labeled as spam or not spam.\n",
        "\n",
        "Goal is to create a system that can automatically classify new emails as spam or not.\n",
        "\n",
        "Model: We choose a logistic regression model, which learns patterns in the words and characteristics of spam and non-spam emails.\n",
        "\n",
        "Loss Function: The model uses a function to measure how well it predicts the correct labels for the emails in the training data.\n",
        "\n",
        "Evaluation: we test the model on a set of new, unseen emails to check how accurately it classifies them as spam or not."
      ],
      "metadata": {
        "id": "V3t0wqH2WJ7W"
      }
    },
    {
      "cell_type": "markdown",
      "source": [
        "**Provide an example of the abstraction method.**\n",
        "\n",
        "Lets take an example of  weather forecasting app on our phone. The app predicts the weather for the next week.\n",
        "\n",
        "we see icons like sun, clouds, or rain, but  complex meteorological data is abstracted , app uses sophisticated algorithms to predict the weather, but we interact with a simple interface, here abstracting away the complex computations.we don't need to understand the mathematical models or coding behind the scenes. The app abstracts the complexity, giving you a user-friendly experience."
      ],
      "metadata": {
        "id": "twswddlCaalK"
      }
    },
    {
      "cell_type": "markdown",
      "source": [
        "**What is the concept of generalization? What function does it play in the machine learning process?**\n",
        "\n",
        "Generalization is how well Our model can answer new questions that never seen but are similar to what we trained ,it's about our model making accurate predictions on new data it hasn't seen before. If it studied only a specific type of dog, generalization helps it recognize other breeds it didn't see during training. This ensures the model isn't just memorizing but truly learning."
      ],
      "metadata": {
        "id": "SOd-CIZuWJ42"
      }
    },
    {
      "cell_type": "markdown",
      "source": [
        "**What is classification, exactly? What are the main distinctions between classification and regression?**\n",
        "\n",
        " Classification refers to a predictive modeling problem where a class label is predicted for a given example of input data.Classification is the task of predicting a discrete class label. Whereas Regression is the task of predicting a continuous quantity."
      ],
      "metadata": {
        "id": "WJP7PtIEWJ2M"
      }
    },
    {
      "cell_type": "markdown",
      "source": [
        "**What is regression, and how does it work? Give an example of a real-world problem that was solved using regression.**\n",
        "\n",
        "Regression is a Supervised Machine Learning technique which is used to predict continuous values. It is use to plot a best-fit line or a curve between the data.The three main metrics that are used for evaluating the trained regression model are Variance, Bias and Error.\n",
        "\n",
        "\n",
        "\n",
        "Eg. , predicting house prices. we gather data on features like size, location, and number of rooms. Regression helps find a line that best fits this data. So, if we add a new house with those features, we can estimate its price based on the line."
      ],
      "metadata": {
        "id": "Vhk8vu2-WJzc"
      }
    },
    {
      "cell_type": "markdown",
      "source": [
        "**Describe the clustering mechanism in detail.**\n",
        "\n",
        "Clustering is the task of dividing the population or data points into a number of groups such that data points in the same groups are more similar to other data points in the same group than those in other groups. In simple words, the aim is to segregate groups with similar traits and assign them into clusters.\n",
        "\n",
        "Eg.,sorting animals. we had put animals with similar traits, like dogs and cats, in one group, and those with different traits, like fish, in another. Clustering helps find these natural groupings in data."
      ],
      "metadata": {
        "id": "q_t50S2PclPP"
      }
    },
    {
      "cell_type": "markdown",
      "source": [
        "**Make brief observations on two of the following topics:**\n",
        "**i. Machine learning algorithms are used ii. Studying under supervision**\n",
        "\n",
        "Machine learning algorithms are used:\n",
        "Machine learning relies on algorithms analyzing data to predict outcomes. As algorithms process new data, they improve and optimize, gaining intelligence over time as trained on new data contionusly.\n",
        "\n",
        "Studying under supervision:\n",
        "In supervised learning, algorithms learn from a training dataset. Corrections are made by a supervisor as the algorithm predicts outcomes, using known correct answers."
      ],
      "metadata": {
        "id": "GaEeizICWJwz"
      }
    },
    {
      "cell_type": "code",
      "execution_count": null,
      "metadata": {
        "id": "WmTKVQS1WGCl"
      },
      "outputs": [],
      "source": []
    }
  ]
}