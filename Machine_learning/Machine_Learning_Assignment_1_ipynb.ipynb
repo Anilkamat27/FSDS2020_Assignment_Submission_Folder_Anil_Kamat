{
  "nbformat": 4,
  "nbformat_minor": 0,
  "metadata": {
    "colab": {
      "provenance": []
    },
    "kernelspec": {
      "name": "python3",
      "display_name": "Python 3"
    },
    "language_info": {
      "name": "python"
    }
  },
  "cells": [
    {
      "cell_type": "markdown",
      "source": [
        "**What does one mean by the term \"machine learning\"?**\n",
        "\n",
        "Machine learning is a part of artificial intelligence that enables software to improve predictions over time without explicit programming.\n",
        "It learns from past data to make better predictions for new situations."
      ],
      "metadata": {
        "id": "by4xVNA5LpFy"
      }
    },
    {
      "cell_type": "markdown",
      "source": [
        "**Can you think of 4 distinct types of issues where it shines?**\n",
        "\n",
        "Healthcare Diagnostics: It can analyze medical data like X-rays or patient records to assist in diagnosing diseases. It helps doctors by providing insights into potential health issues.\n",
        "\n",
        "Fraud Detection in Finance: It can be used to identify unusual patterns in financial transactions, helping detect and prevent fraudulent activities in real-time.\n",
        "\n",
        "Language Translation: Services like Google Translate use machine learning to improve language translations. It learns from various language examples to provide more accurate and natural translations.\n",
        "\n",
        "Autonomous Vehicles: It plays a crucial role in self-driving cars. It helps them recognize objects, pedestrians, and make decisions based on real-time data to navigate safely."
      ],
      "metadata": {
        "id": "07RPLKwoLyUx"
      }
    },
    {
      "cell_type": "markdown",
      "source": [
        "**What is a labeled training set, and how does it work?**\n",
        "\n",
        "It is a group of examples with known answers ,like giving a computer some practice questions and their correct answers to learn from. Once it learns, you test it with new questions to see if it can figure out the answers on its own , bit like teaching and testing with a cheat sheet."
      ],
      "metadata": {
        "id": "MKg--5nhMvGa"
      }
    },
    {
      "cell_type": "markdown",
      "source": [
        "**What are the two most important tasks that are supervised?**\n",
        "\n",
        "Regression and Classification."
      ],
      "metadata": {
        "id": "4RoCoPkwNkUi"
      }
    },
    {
      "cell_type": "markdown",
      "source": [
        "**Can you think of four examples of unsupervised tasks?**\n",
        "\n",
        " Clustering, Visualization, Dimensionality Reduction, and Association Rule Learning"
      ],
      "metadata": {
        "id": "WgOTrCD0NoQS"
      }
    },
    {
      "cell_type": "markdown",
      "source": [
        "**State the machine learning model that would be best to make a robot walk through various unfamiliar terrains?**\n",
        "\n",
        "Reinforcement Learning , here robot tries different steps, and when it does well, it gets a thumbs up. Over time, it learns to take steps that work best in different places. It's a bit like learning to walk by figuring out what steps make you stay upright."
      ],
      "metadata": {
        "id": "3o9b0PueN8Vw"
      }
    },
    {
      "cell_type": "markdown",
      "source": [
        "**Which algorithm will you use to divide your customers into different groups?**\n",
        "\n",
        "Clustering helps identify similar patterns or behaviors in customer data, grouping them together based on similarities."
      ],
      "metadata": {
        "id": "CBcgpojuOWoU"
      }
    },
    {
      "cell_type": "markdown",
      "source": [
        "**Will you consider the problem of spam detection to be a supervised or unsupervised learning problem?**\n",
        "\n",
        "Supervised learning problem, because label are known in training data set"
      ],
      "metadata": {
        "id": "IzLvZKM9OzE-"
      }
    },
    {
      "cell_type": "markdown",
      "source": [
        "**What is the concept of an online learning system?**\n",
        "\n",
        "It is like a machine that keeps learning bit by bit as it gets small pieces of information over time. It's a continuous learning process where the machine gets smarter as it receives new data in small chunks.\n"
      ],
      "metadata": {
        "id": "RZTZ1YDYPGzo"
      }
    },
    {
      "cell_type": "markdown",
      "source": [
        "**What is out-of-core learning, and how does it differ from core learning?**\n",
        "\n",
        "It is like a smart system that deals with really big amounts of data that can't fit all at once in computer's memory. It uses an online learning approach, learning bit by bit as the data comes in, making it easier to handle."
      ],
      "metadata": {
        "id": "23X8i88-PcPd"
      }
    },
    {
      "cell_type": "markdown",
      "source": [
        "**What kind of learning algorithm makes predictions using a similarity measure?**\n",
        "\n",
        "Instance Based learnin Algorithm , it compares new data points to examples in the training set based on similarity and makes predictions or classifications accordingly"
      ],
      "metadata": {
        "id": "tIj36LmMQLGb"
      }
    },
    {
      "cell_type": "markdown",
      "source": [
        "**What's the difference between a model parameter and a hyperparameter in a learning algorithm?**\n",
        "\n",
        "Model Parameter: It decides how the model predicts things for new data. Eg. in a line (y = mx + b), 'm' is a parameter that determines the slope.\n",
        "\n",
        "Hyperparameter: It's a special parameter for the learning algorithm itself, not the model. It's like a setting for the algorithm, not something the model learns from the data."
      ],
      "metadata": {
        "id": "W0YWo-oAQlNZ"
      }
    },
    {
      "cell_type": "markdown",
      "source": [
        "**What are the criteria that model-based learning algorithms look for? What is the most popular method they use to achieve success? What method do they use to make predictions?**\n",
        "\n",
        "Model-based learning algorithms hunt for the best settings in a model to make accurate predictions for new things.\n",
        "\n",
        "We often use a cost function, a kind of guide, to figure out the best settings that minimize errors.\n",
        "\n",
        "Once we find these optimal settings (parameters), we use them in the model's function to make predictions for new data."
      ],
      "metadata": {
        "id": "i2yYQHroRChO"
      }
    },
    {
      "cell_type": "markdown",
      "source": [
        "**Can you name four of the most important Machine Learning challenges?**\n",
        "\n",
        "Overfitting the Data\n",
        "\n",
        " Underfitting the data\n",
        "\n",
        "  Limited Data\n",
        "\n",
        "  Non Representative Data."
      ],
      "metadata": {
        "id": "dgtQNWTBR0iF"
      }
    },
    {
      "cell_type": "markdown",
      "source": [
        "**What happens if the model performs well on the training data but fails to generalize the results to new situations? Can you think of three different options?**\n",
        "\n",
        "Problem : overfitted on the training data\n",
        "\n",
        "*Solution*\n",
        "\n",
        "Get more relational Data : train model on more diverse situations to understand better\n",
        "\n",
        "Use a simpler model: Like using simpler rules instead of complex ones.\n",
        "\n",
        "Clean up the data: Remove weird or noisy data points that might confuse the learning."
      ],
      "metadata": {
        "id": "wI9O2BzFSMEx"
      }
    },
    {
      "cell_type": "markdown",
      "source": [
        "**What exactly is a test set, and why would you need one**?\n",
        "\n",
        "A test set is like a bunch of questions use to check how well your model learned from its practice (training). It helps us to  figure out if our model is actually good at solving new problems, not just repeating what it memorized during training."
      ],
      "metadata": {
        "id": "1-AESDWoTGTp"
      }
    },
    {
      "cell_type": "markdown",
      "source": [
        "**What is a validation set's purpose?**\n",
        "\n",
        "validation set is usedto assess and fine-tune a single model during the training phase. It helps us in preventing overfitting by providing an independent dataset that wasn't used for training."
      ],
      "metadata": {
        "id": "nmL8b_G8TqG2"
      }
    },
    {
      "cell_type": "markdown",
      "source": [
        "**What precisely is the train-dev kit, when will you need it, how do you put it to use?**\n",
        "\n",
        "Cross-validation is a tool to compare models without needing a separate validation set. It is preferred over validation set because we can save from breaking of part of the training set to create a validation set, as having more data is valuable regardless."
      ],
      "metadata": {
        "id": "iFuih8t7UGJo"
      }
    },
    {
      "cell_type": "markdown",
      "source": [
        "**What could go wrong if you use the test set to tune hyperparameters?**\n",
        "\n",
        "If we use the test set to adjust settings(hyperparameters), our model might end up being good only on that specific test set, not on new, unseen data.our model won't be ready for different challenges because it's too tailored to the test set."
      ],
      "metadata": {
        "id": "ecRslzxjUan9"
      }
    },
    {
      "cell_type": "code",
      "source": [],
      "metadata": {
        "id": "t7uKlIuwUaKz"
      },
      "execution_count": null,
      "outputs": []
    },
    {
      "cell_type": "code",
      "source": [],
      "metadata": {
        "id": "cMtgwzzGOVzo"
      },
      "execution_count": null,
      "outputs": []
    },
    {
      "cell_type": "code",
      "source": [],
      "metadata": {
        "id": "NRCCBWH4NhRj"
      },
      "execution_count": null,
      "outputs": []
    },
    {
      "cell_type": "code",
      "source": [],
      "metadata": {
        "id": "kC5GsCiQLfpo"
      },
      "execution_count": null,
      "outputs": []
    },
    {
      "cell_type": "code",
      "execution_count": null,
      "metadata": {
        "id": "QHETeRdFK4Rb"
      },
      "outputs": [],
      "source": []
    }
  ]
}