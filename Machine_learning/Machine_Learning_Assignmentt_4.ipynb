{
  "nbformat": 4,
  "nbformat_minor": 0,
  "metadata": {
    "colab": {
      "provenance": []
    },
    "kernelspec": {
      "name": "python3",
      "display_name": "Python 3"
    },
    "language_info": {
      "name": "python"
    }
  },
  "cells": [
    {
      "cell_type": "markdown",
      "source": [
        "**1. What are the key tasks involved in getting ready to work with machine learning modeling?**\n",
        "\n",
        "Data Collection:Define the problem and gather relevant data.\n",
        "\n",
        "Data Preparation: Clean, preprocess, and organize the data for modeling.\n",
        "\n",
        "Choosing a Model: Select a suitable machine learning model based on the nature of the problem.\n",
        "\n",
        "Training the Model: Develop a model that performs better than a baseline using the prepared data.\n",
        "\n",
        "Evaluating the Model: Choose a measure of success and establish an evaluation protocol.\n",
        "\n",
        "Parameter Tuning: Fine-tune model parameters, address overfitting, and optimize performance.\n",
        "\n",
        "Prediction or Inference: Use the trained model to make predictions or draw inferences."
      ],
      "metadata": {
        "id": "v6ddBW-jHBn5"
      }
    },
    {
      "cell_type": "markdown",
      "source": [
        "**2.What are the different forms of data used in machine learning? Give a specific example for each of them.**\n",
        "\n",
        "\n",
        "Numerical Data:\n",
        "\n",
        "Data represented by exact numbers, often used for measurements or counts.\n",
        "Example: House prices, number of properties, or sales figures.\n",
        "\n",
        "Categorical Data:\n",
        "\n",
        " Data representing characteristics, not numerical, often used for categories.\n",
        "Example: Player positions in Football, team names, or hometowns.\n",
        "\n",
        "Time Series Data:\n",
        "\n",
        "A sequence of numbers collected at regular intervals over time.\n",
        "Example: Stock prices over days, temperature readings over months.\n",
        "\n",
        "Text Data:\n",
        "\n",
        "Data represented by words, often requiring conversion into numerical forms.\n",
        "Example: Articles, reviews, or any text-based information."
      ],
      "metadata": {
        "id": "Xml6nhPrHBka"
      }
    },
    {
      "cell_type": "markdown",
      "source": [
        "**3. Distinguish:**\n",
        "\n",
        "**1. Numeric vs. categorical attributes**\n",
        "\n",
        "**2. Feature selection vs. dimensionality reduction**\n",
        "\n",
        "Numeric Attributes:Numeric attributes are values for quantitative variables, representing quantities with a sense of magnitude.\n",
        "Example: Age, temperature, or income.\n",
        "\n",
        "Categorical Attributes:Categorical attributes are values for qualitative variables, without a sense of magnitude.\n",
        "Example: Colors, gender, or types of fruits.\n",
        "\n",
        "Feature Selection:Choosing relevant features from the original set.\n",
        "Example: Selecting the most important variables for predicting house prices.\n",
        "\n",
        "Dimensionality Reduction: Reducing the number of features by transforming them into a lower-dimensional space.\n",
        "Example: Using techniques like Principal Component Analysis (PCA) to combine correlated features.\n",
        "\n",
        "\n"
      ],
      "metadata": {
        "id": "t1ucfPLTHBhq"
      }
    },
    {
      "cell_type": "markdown",
      "source": [
        "**4. Make quick notes on any two of the following:**\n",
        "\n",
        "**1. The histogram**\n",
        "\n",
        "**2. Use a scatter plot**\n",
        "\n",
        "**3.PCA (Personal Computer Aid)**\n",
        "\n",
        "The Histogram:\n",
        "\n",
        "A graphical representation organizing data into user-specified ranges, condensing data into easily interpreted visual bins.It Provides a quick overview of the distribution and frequency of data points.\n",
        "\n",
        "Use a Scatter Plot:\n",
        "\n",
        "A graph using dots to represent values for two different numeric variables, showing relationships between them.It Observes patterns and trends between two variables in a visual manner.\n",
        "\n",
        "PCA (Principal Component Analysis):\n",
        "\n",
        "A technique for dimensionality reduction in large datasets, simplifying data exploration and visualization.\n",
        "It Reduces the number of features, making large datasets more manageable without sacrificing too much accuracy."
      ],
      "metadata": {
        "id": "LGJSm6KzHBfB"
      }
    },
    {
      "cell_type": "markdown",
      "source": [
        "**5. Why is it necessary to investigate data? Is there a discrepancy in how qualitative and quantitative data are explored?**\n",
        "\n",
        "Data investigation is crucial before building machine learning models to prevent inaccurate predictions . Whether dealing with qualitative or quantitative data, understanding the dataset is essential for reliable outcomes, ensuring the quality of input and effective algorithm performance."
      ],
      "metadata": {
        "id": "lCMADWdLHBcm"
      }
    },
    {
      "cell_type": "markdown",
      "source": [
        "6.**What are the various histogram shapes? What exactly are ‘bins'**\n",
        "Bins are the units or intervals on the X-axis in a histogram.They represent ranges of data, and the height of each bin indicates the frequency of data points within that range.It organize data into intervals, providing a visual representation of the distribution of values in a dataset.Various Histogram Shapes:\n",
        "\n",
        "Uniform Histogram\n",
        "\n",
        "Symmetric Histogram\n",
        "\n",
        "Bimodal Histogram\n",
        "\n",
        "Probability Histogram"
      ],
      "metadata": {
        "id": "HSXesoYNKlIz"
      }
    },
    {
      "cell_type": "markdown",
      "source": [
        "**7. How do we deal with data outliers?**\n",
        "\n",
        "Identify outliers using visualizations or statistical methods.\n",
        "\n",
        "Correct errors in data entry or collection.\n",
        "\n",
        "Understand the source and nature of outliers.\n",
        "\n",
        "Transform data using mathematical operations.\n",
        "\n",
        "Truncate or cap extreme values to a specified threshold.\n",
        "\n",
        "Impute missing values cautiously, avoiding distortion.\n",
        "\n",
        "Use robust statistical methods like median and MAD.\n",
        "\n",
        "Choose machine learning algorithms robust to outliers.\n",
        "\n",
        "Analyze data both with and without outliers.\n",
        "\n",
        "Seek domain expertise for insights."
      ],
      "metadata": {
        "id": "EtieyDyGHBaE"
      }
    },
    {
      "cell_type": "markdown",
      "source": [
        "**8. What are the various central inclination measures? Why does mean vary too much from median in certain data sets?**\n",
        "\n",
        " Mean, Median and Mode are Central Inclination Measures. Mean varies more than Median due to presence of outliers, as mean is averaging all points while median in like finding a middle number."
      ],
      "metadata": {
        "id": "NL-YQT9UHBXb"
      }
    },
    {
      "cell_type": "markdown",
      "source": [
        "**9. Describe how a scatter plot can be used to investigate bivariate relationships. Is it possible to find outliers using a scatter plot?**\n",
        "\n",
        "Scatter Plot uses dots to represent values for two different numeric variables. The position of each dot on the horizontal and vertical axis indicates values for an individual data point. So this visualization gives us the idea of bivariate relationship."
      ],
      "metadata": {
        "id": "xp8xqiPwHBUz"
      }
    },
    {
      "cell_type": "markdown",
      "source": [
        "**10. Describe how cross-tabs can be used to figure out how two variables are related.**\n",
        "\n",
        "Cross-tabs, also called contingency tables, help us see how two or more things are connected. It groups the information to show if there are patterns or connections between different categories. It's like looking at how things change or relate when we focus on specific groups or types. So, it helps us figure out the relationships between variables in a structured way."
      ],
      "metadata": {
        "id": "pv_akaBmHBSR"
      }
    },
    {
      "cell_type": "markdown",
      "source": [],
      "metadata": {
        "id": "uBieoALlHBPl"
      }
    },
    {
      "cell_type": "code",
      "execution_count": null,
      "metadata": {
        "id": "Hy3X9oUYG-xV"
      },
      "outputs": [],
      "source": []
    }
  ]
}