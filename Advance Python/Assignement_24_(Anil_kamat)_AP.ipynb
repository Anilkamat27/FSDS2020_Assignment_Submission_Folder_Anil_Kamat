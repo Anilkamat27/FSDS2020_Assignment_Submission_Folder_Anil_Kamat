{
  "nbformat": 4,
  "nbformat_minor": 0,
  "metadata": {
    "colab": {
      "provenance": []
    },
    "kernelspec": {
      "name": "python3",
      "display_name": "Python 3"
    },
    "language_info": {
      "name": "python"
    }
  },
  "cells": [
    {
      "cell_type": "markdown",
      "source": [
        "Q1. Is it permissible to use several import statements to import the same module? What would the goal be? Can you think of a situation where it would be beneficial ?\n",
        "\n",
        "Ans: Yes, it is permissible to use several import statements to import the same module. But not necessary , i find difficulty in figuring out in which case it is beneficial except if you want to make multiple aliasis of different function from same module"
      ],
      "metadata": {
        "id": "LU2C0P7BynWI"
      }
    },
    {
      "cell_type": "markdown",
      "source": [
        "Q2. What are some of a module's characteristics?\n",
        "\n",
        "Scope: The scope of a module is the set of names that are visible within the module.\n",
        "\n",
        "Reusability: A module should be designed to be reused in other applications or modules.\n",
        "\n",
        "namesapce : A module's namespace is a collection of names that are used to refer to objects within the module."
      ],
      "metadata": {
        "id": "ebAGu7GD0HRb"
      }
    },
    {
      "cell_type": "markdown",
      "source": [
        "Q3. Circular importing, such as when two modules import each other, can lead to dependencies and bugs that aren't visible. How can you go about creating a program that avoids mutual importing?\n",
        "\n",
        "To avoid it, I try to organize my code into smaller parts that do specific things.I try to use a middleman module or interface if two parts need each other, if possible. Import modules only when you need them, not at the beginning."
      ],
      "metadata": {
        "id": "1UZRl4_4N-bo"
      }
    },
    {
      "cell_type": "markdown",
      "source": [
        "Q4. Why is __all__ in Python ?\n",
        "\n",
        "We use __all__ in Python to decide which parts of a module can be used by other programs or which function can be imported during importing of module."
      ],
      "metadata": {
        "id": "6tOUVUPOPgS3"
      }
    },
    {
      "cell_type": "markdown",
      "source": [
        "Q5. In what situation is it useful to refer to the name attribute or the string _main _ ?\n",
        "\n",
        "The name attribute helps us know which module we are working in when the code is running. If the module is imported from another module, the name attribute will show the name of the imported module. The string __main__ represents the current module we are working on."
      ],
      "metadata": {
        "id": "pfvyfY7unLl2"
      }
    },
    {
      "cell_type": "code",
      "execution_count": 2,
      "metadata": {
        "id": "j6-QEU1KyVue",
        "colab": {
          "base_uri": "https://localhost:8080/"
        },
        "outputId": "72601df2-b8d6-4501-f774-f29c6effcc59"
      },
      "outputs": [
        {
          "output_type": "stream",
          "name": "stdout",
          "text": [
            "__main__\n"
          ]
        }
      ],
      "source": [
        "print(__name__)"
      ]
    },
    {
      "cell_type": "markdown",
      "source": [
        "Q6. What are some of the benefits of attaching a program counter to the RPN interpreter\n",
        "application, which interprets an RPN script line by line?\n",
        "\n",
        "Attaching a program counter to the RPN interpreter helps the computer know which instruction to execute next. It makes the program run faster, helps find errors, and ensures that the instructions in the RPN script are followed in the right order."
      ],
      "metadata": {
        "id": "YNy5aAq1n9MB"
      }
    },
    {
      "cell_type": "markdown",
      "source": [
        "Q7. What are the minimum expressions or statements (or both) that you'd need to render a basic programming language like RPN primitive but complete— that is, capable of carrying out any computerised task theoretically possible?\n",
        "\n",
        "To render a basic programming language like RPN primitive , we need a set of minimum expressions and statements such as arithmetic operations (addition, subtraction, multiplication, division), conditional statements (if else), loops (for, while), assignments of variable functionallity, input output operations capability to perform any computerized task theoretically possible."
      ],
      "metadata": {
        "id": "2d6Xa_PEoGGR"
      }
    },
    {
      "cell_type": "code",
      "source": [],
      "metadata": {
        "id": "vv18HsOLnU3B"
      },
      "execution_count": null,
      "outputs": []
    }
  ]
}