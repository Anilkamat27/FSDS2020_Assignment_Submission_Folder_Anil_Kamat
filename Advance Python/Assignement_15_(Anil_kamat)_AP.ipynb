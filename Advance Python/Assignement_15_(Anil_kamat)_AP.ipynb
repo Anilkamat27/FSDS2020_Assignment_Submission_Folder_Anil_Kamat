{
  "nbformat": 4,
  "nbformat_minor": 0,
  "metadata": {
    "colab": {
      "provenance": []
    },
    "kernelspec": {
      "name": "python3",
      "display_name": "Python 3"
    },
    "language_info": {
      "name": "python"
    }
  },
  "cells": [
    {
      "cell_type": "markdown",
      "source": [
        "1. What are the new features added in Python 3.8 version?\n",
        "\n",
        "Python 3.8 includes various performance optimizations, resulting in faster execution of built-in functions, dictionary lookups ( inbuilt reverse() function is introduced), and more efficient memory usage."
      ],
      "metadata": {
        "id": "0zyh3JrYlh9B"
      }
    },
    {
      "cell_type": "markdown",
      "source": [
        "2. What is monkey patching in Python?\n",
        "\n",
        "Monkey patching is practice of modifying or extending the behavior of existing modules, classes, or objects at runtime. It involves adding, modifying, or replacing attributes, methods, or functions of existing code without directly modifying the original source code."
      ],
      "metadata": {
        "id": "NLj55G0XoElg"
      }
    },
    {
      "cell_type": "markdown",
      "source": [
        "3. What is the difference between a shallow copy and deep copy?\n",
        "\n",
        "A shallow copy is like making a duplicate of a list, but it still shares the same elements with the original. A deep copy, however, makes a complete separate copy, so they can be changed independently."
      ],
      "metadata": {
        "id": "OrgQxKT4okeN"
      }
    },
    {
      "cell_type": "code",
      "source": [
        "import copy\n",
        "\n",
        "list1 = [1, 2, 3, 4]\n",
        "shallow_copy = copy.copy(list1)\n",
        "list1[2] = 5\n",
        "\n",
        "print(\"list\",list1)\n",
        "print(\"shallow_copy\",shallow_copy)\n",
        "\n",
        "deep_copy = copy.deepcopy(list1)\n",
        "\n",
        "list1[3] =6\n",
        "\n",
        "print(list1)\n",
        "print(\"deep_copy\",deep_copy)\n"
      ],
      "metadata": {
        "colab": {
          "base_uri": "https://localhost:8080/"
        },
        "id": "aUNLk-4rqlwQ",
        "outputId": "d20e6c7a-1322-4d60-f967-5d949c9c6406"
      },
      "execution_count": 2,
      "outputs": [
        {
          "output_type": "stream",
          "name": "stdout",
          "text": [
            "list [1, 2, 5, 4]\n",
            "shallow_copy [1, 2, 3, 4]\n",
            "[1, 2, 5, 6]\n",
            "deep_copy [1, 2, 5, 4]\n"
          ]
        }
      ]
    },
    {
      "cell_type": "markdown",
      "source": [
        "4. What is the maximum possible length of an identifier?\n",
        "\n",
        "Python uses a fixed-size buffer to store identifier names, and this buffer has a maximum size of 255 characters but Python's style guide, PEP 8, recommends keeping the line length, including identifiers, limited to 79 characters for better readability."
      ],
      "metadata": {
        "id": "yKGYRhnQoERV"
      }
    },
    {
      "cell_type": "markdown",
      "source": [
        "5. What is generator comprehension?\n",
        "\n",
        "Generator comprehension is a way to make generators easily. It looks like list comprehension, but instead of creating a list, it creates a generator. Generators generate values one at a time, so they save memory and are useful for large data.Compared to list comprehensions, generator comprehensions use parentheses instead of square brackets, which differentiates them syntactically."
      ],
      "metadata": {
        "id": "EaxCbaEItYzs"
      }
    },
    {
      "cell_type": "code",
      "execution_count": 3,
      "metadata": {
        "colab": {
          "base_uri": "https://localhost:8080/"
        },
        "id": "tPn_McRTlJ5A",
        "outputId": "4df950cd-417b-41d8-8e4f-9a474cbbd7ab"
      },
      "outputs": [
        {
          "output_type": "stream",
          "name": "stdout",
          "text": [
            "2 4 6 8 "
          ]
        }
      ],
      "source": [
        "even = (n for n in range(1, 10) if n % 2 == 0)\n",
        "for i in even:\n",
        "    print(i,end = \" \")"
      ]
    },
    {
      "cell_type": "code",
      "source": [],
      "metadata": {
        "id": "0plpX9K0uTEO"
      },
      "execution_count": null,
      "outputs": []
    }
  ]
}