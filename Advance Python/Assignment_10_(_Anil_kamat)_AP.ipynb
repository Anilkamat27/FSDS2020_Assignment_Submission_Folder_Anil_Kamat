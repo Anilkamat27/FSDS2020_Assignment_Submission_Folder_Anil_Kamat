{
  "nbformat": 4,
  "nbformat_minor": 0,
  "metadata": {
    "colab": {
      "provenance": []
    },
    "kernelspec": {
      "name": "python3",
      "display_name": "Python 3"
    },
    "language_info": {
      "name": "python"
    }
  },
  "cells": [
    {
      "cell_type": "markdown",
      "source": [
        "Q1. What is the difference between __getattr__ and __getattribute__?\n",
        "\n",
        "__getattr__ is called when an attribute is not found through normal lookup, while __getattribute__ is called for every attribute access, regardless of whether the attribute exists or not."
      ],
      "metadata": {
        "id": "JdZFAb6cUikK"
      }
    },
    {
      "cell_type": "markdown",
      "source": [
        "Q2. What is the difference between properties and descriptors?\n",
        "\n",
        "Properties: Properties let us define special functions (getter, setter, deleter) for an attribute. We access the attribute like a regular one, but these functions are automatically used when we get, set, or delete the attribute. They help us control how attributes are accessed, assigned, or deleted.\n",
        "\n",
        "Descriptors: Descriptors are like a bundle of functions for an attribute. We attach this bundle (an instance of a descriptor class) to the attribute in our class. When we access the attribute, the appropriate functions in the bundle are called, letting us customize how the attribute works. Descriptors give us more control over attribute behavior."
      ],
      "metadata": {
        "id": "f1c_Y7Oztf-Z"
      }
    },
    {
      "cell_type": "code",
      "source": [
        "\n"
      ],
      "metadata": {
        "id": "ZyesE0OVU_BU"
      },
      "execution_count": null,
      "outputs": []
    }
  ]
}