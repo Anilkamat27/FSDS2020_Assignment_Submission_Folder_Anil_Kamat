{
  "nbformat": 4,
  "nbformat_minor": 0,
  "metadata": {
    "colab": {
      "provenance": []
    },
    "kernelspec": {
      "name": "python3",
      "display_name": "Python 3"
    },
    "language_info": {
      "name": "python"
    }
  },
  "cells": [
    {
      "cell_type": "markdown",
      "source": [
        "Q1. What is a probability distribution, exactly? If the values are meant to be random, how can you predict them at all?\n",
        "\n",
        "if we have a box filled with colorful balls. A probability distribution is like a guide that tells us the chances of picking different colors of balls. Even though each ball you pick is random, the distribution helps us tp understand how likely it is to get a red, blue, or green ball based on how many of each color are in the box. So, the distribution helps us make an estimate about which color we might pick, even though we can't be certain about the exact outcome."
      ],
      "metadata": {
        "id": "5HCEN70blC1o"
      }
    },
    {
      "cell_type": "markdown",
      "source": [
        "Q2. Is there a distinction between true random numbers and pseudo-random numbers, if there is one? Why are the latter considered “good enough”?\n",
        "\n",
        "True random numbers are like flipping a fair coin or rolling a dice, which are totally unpredictable. Pseudo-random numbers are made by following rules, like a secret code. The starting point, called the seed, determines the sequence. Pseudo-random numbers (latter) are \"good enough\" for most things, like making fun games, even if they're not truly random."
      ],
      "metadata": {
        "id": "_LyyeCVXJDl3"
      }
    },
    {
      "cell_type": "markdown",
      "source": [
        "Q3. What are the two main factors that influence the behaviour of a \"normal\" probability distribution ?\n",
        "\n",
        "mean (average) and standard deviation (spread)"
      ],
      "metadata": {
        "id": "HqxKLemvMPzZ"
      }
    },
    {
      "cell_type": "markdown",
      "source": [
        "Q4. Provide a real-life example of a normal distribution ?\n",
        "\n",
        " The heights of males in a population. Imagine a group of grown-up boys standing in a line from shortest to tallest. If we draw a line graph showing how many boys have each height, it will look like a smooth curve, with most boys being of average height and fewer boys being very tall or very short."
      ],
      "metadata": {
        "id": "bt8Py6ocOqwD"
      }
    },
    {
      "cell_type": "markdown",
      "source": [
        "Q5. In the short term, how can you expect a probability distribution to behave? What do you think will happen as the number of trials grows ?\n",
        "\n",
        "As the number of trials increases, the distribution becomes more predictable , consistent"
      ],
      "metadata": {
        "id": "MnDPLjkPPKJa"
      }
    },
    {
      "cell_type": "markdown",
      "source": [
        "Q6. What kind of object can be shuffled by using random.shuffle ?\n",
        "\n",
        "Examples of sequence objects that can be shuffled using random.shuffle are Lists, Strings, Tuples, Range, Arrays, NumPy arrays, Pandas Series."
      ],
      "metadata": {
        "id": "D8fSBYvGPv_U"
      }
    },
    {
      "cell_type": "markdown",
      "source": [
        "Q7. Describe the math package&#39;s general categories of functions.\n",
        "\n",
        "The math package in Python provides several general categories of functions. Here are the main categories:\n",
        "1. Basic Arthimetic functions\n",
        "2. Trignometric Function\n",
        "3. Exponential and logarithm function\n",
        "4. Constants ( Pi , e )\n",
        "5. Some special Function (factorial , Sqrt, radians, degrees)\n"
      ],
      "metadata": {
        "id": "JmDPASX_Qkw9"
      }
    },
    {
      "cell_type": "markdown",
      "source": [
        "Q8. What is the relationship between exponentiation and logarithms ?\n",
        "\n",
        "Ans: Both are inverses of each other."
      ],
      "metadata": {
        "id": "nM56_DGRRlxq"
      }
    },
    {
      "cell_type": "markdown",
      "source": [
        "\n",
        "Q9. What are the three logarithmic functions that Python supports ?\n",
        "\n",
        "Natural logarithm (log2(x)) - logarithmic value of x to base 2\n",
        "\n",
        "common logarithm (log10(x)) - logarithmic value of x to base 10\n",
        "\n",
        "Custom base logarithm (log(x, base))- logarithm of a number to a custom base"
      ],
      "metadata": {
        "id": "leU0Wz9jR3V-"
      }
    },
    {
      "cell_type": "code",
      "execution_count": null,
      "metadata": {
        "id": "LORom0rKkW8W"
      },
      "outputs": [],
      "source": []
    }
  ]
}