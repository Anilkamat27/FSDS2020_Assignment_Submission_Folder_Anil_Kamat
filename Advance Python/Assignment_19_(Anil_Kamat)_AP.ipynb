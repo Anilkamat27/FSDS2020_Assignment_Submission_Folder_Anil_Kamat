{
  "nbformat": 4,
  "nbformat_minor": 0,
  "metadata": {
    "colab": {
      "provenance": []
    },
    "kernelspec": {
      "name": "python3",
      "display_name": "Python 3"
    },
    "language_info": {
      "name": "python"
    }
  },
  "cells": [
    {
      "cell_type": "markdown",
      "source": [
        "Q1. Define the relationship between a class and its instances. Is it a one-to-one or a one-to-many partnership, for example?\n",
        "\n",
        "one to many partnership"
      ],
      "metadata": {
        "id": "3V45vXxv1v3X"
      }
    },
    {
      "cell_type": "markdown",
      "source": [
        "Q2. What kind of data is held only in an instance?\n",
        "\n",
        "It held instance variables which are specific to specific instance object."
      ],
      "metadata": {
        "id": "F4Y87J6dnx0L"
      }
    },
    {
      "cell_type": "markdown",
      "source": [
        "Q3. What kind of knowledge is stored in a class?\n",
        "\n",
        "A class in programming is like a blueprint. It contains information about what an object should have (variables) and what it can do (functions). It helps create and define objects with specific characteristics and behaviors.\n"
      ],
      "metadata": {
        "id": "uGQzSSBRofbH"
      }
    },
    {
      "cell_type": "markdown",
      "source": [
        "Q4. What exactly is a method, and how is it different from a regular function?\n",
        "\n",
        "A method is a special function that belongs to a class. It is used to perform some function or operations related to objects created from that class. The main difference of method .from a regular function is that a method can access and modify the object's data."
      ],
      "metadata": {
        "id": "whVxmmUiszoy"
      }
    },
    {
      "cell_type": "markdown",
      "source": [
        "Q5. Is inheritance supported in Python, and if so, what is the syntax?\n",
        "\n",
        " yes"
      ],
      "metadata": {
        "id": "ZtRybXXytp1l"
      }
    },
    {
      "cell_type": "code",
      "execution_count": null,
      "metadata": {
        "id": "-T7amWFxlEZZ",
        "colab": {
          "base_uri": "https://localhost:8080/"
        },
        "outputId": "073527f4-225e-420d-af3c-e7d2e91f6c6b"
      },
      "outputs": [
        {
          "output_type": "stream",
          "name": "stdout",
          "text": [
            "ISRO is launching a space mission.\n",
            "Chandrayaan-3 is exploring the Moon.\n"
          ]
        }
      ],
      "source": [
        "class ISRO:\n",
        "  def launch_mission(self):\n",
        "    print(\"ISRO is launching a space mission.\")\n",
        "\n",
        "class Chandrayan3(ISRO):\n",
        "  def explore_moon(self):\n",
        "    print(\"Chandrayaan-3 is exploring the Moon.\")\n",
        "\n",
        "mission = Chandrayan3()\n",
        "mission.launch_mission()\n",
        "mission.explore_moon()\n"
      ]
    },
    {
      "cell_type": "markdown",
      "source": [
        "Q6. How much encapsulation (making instance or class variables private) does Python support?\n",
        "\n",
        "Encapsulation in Python means bundling data and behaviors in classes when controlling access for data or maintain integrity.Python supports encapsulation through naming conventions (underscores used as prefix for privacy , making it difficult to access from outside the class).But there is no strict rules enforced by the language to prevent external access or modification."
      ],
      "metadata": {
        "id": "6EDCH4hOvmF_"
      }
    },
    {
      "cell_type": "markdown",
      "source": [
        "Q7. How do you distinguish between a class variable and an instance variable?\n",
        "\n",
        "Class Attribute is accesible to all the instance objects of that class. whereas Instance Attributes are accessible only to the object or Instance of that class.\n",
        "The virtual machine keeps a single instance of class attributes at class level, while it manages multiple copies of instance attributes at the object level."
      ],
      "metadata": {
        "id": "YeSnOHRRw2Hq"
      }
    },
    {
      "cell_type": "markdown",
      "source": [
        "Q8. When, if ever, can self be included in a class's method definitions?\n",
        "\n",
        "Yes,to make access the instance variables possible inside class methods.\n"
      ],
      "metadata": {
        "id": "EO5C2ajlybA1"
      }
    },
    {
      "cell_type": "markdown",
      "source": [
        "Q9. What is the difference between the add and the radd methods ?\n",
        "\n",
        "If the left-hand operand's __add__ method returns NotImplemented, Python will check if the right-hand operand has the __radd__ method. If it does, Python will invoke __radd__ instead of raising a TypeError."
      ],
      "metadata": {
        "id": "3yUNLN0e3epA"
      }
    },
    {
      "cell_type": "markdown",
      "source": [
        "Q10. When is it necessary to use a reflection method? When do you not need it, even though you support the operation in question?\n",
        "\n",
        "Reflection methods are necessary when the left-hand side object does not have a regular method for a specific operation or when we want to customize the behavior of the operation"
      ],
      "metadata": {
        "id": "5IBWezR7LFTV"
      }
    },
    {
      "cell_type": "markdown",
      "source": [
        "Q11. What is the iadd method called?\n",
        "\n",
        "The iadd method is a special method in Python that is triggered when the += operator is used on an object. It allows the object to modify itself directly by performing the addition operation and updating its internal state."
      ],
      "metadata": {
        "id": "QcX95SzhMUKt"
      }
    },
    {
      "cell_type": "markdown",
      "source": [
        "Q12. Is the _ init _ method inherited by subclasses? What do you do if you need to customize its behavior within a subclass ?\n",
        "\n",
        "\n",
        "\n",
        "\n",
        "Yes, the __init__ method is inherited by subclasses. To customize its behavior within a subclass, we can override it or extend it by calling the parent __init__ method."
      ],
      "metadata": {
        "id": "QBtvI1I-M5o1"
      }
    },
    {
      "cell_type": "code",
      "source": [
        "class ParentClass:\n",
        "  def __init__(self, val1):\n",
        "    self.val1 = val1\n",
        "\n",
        "class ChildClass(ParentClass):\n",
        "  def __init__(self, val1, val2):\n",
        "    self.val2 = val2\n",
        "    super().__init__(val1)"
      ],
      "metadata": {
        "id": "II7WZMFa4daD"
      },
      "execution_count": 2,
      "outputs": []
    },
    {
      "cell_type": "code",
      "source": [],
      "metadata": {
        "id": "jzvu-3WeNz1B"
      },
      "execution_count": null,
      "outputs": []
    }
  ]
}