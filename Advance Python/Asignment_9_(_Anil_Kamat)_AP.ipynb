{
  "nbformat": 4,
  "nbformat_minor": 0,
  "metadata": {
    "colab": {
      "provenance": []
    },
    "kernelspec": {
      "name": "python3",
      "display_name": "Python 3"
    },
    "language_info": {
      "name": "python"
    }
  },
  "cells": [
    {
      "cell_type": "markdown",
      "source": [
        "Q1. In Python 3.X, what are the names and functions of string object types?"
      ],
      "metadata": {
        "id": "PNIJjrvSu7tI"
      }
    },
    {
      "cell_type": "code",
      "execution_count": null,
      "metadata": {
        "colab": {
          "base_uri": "https://localhost:8080/"
        },
        "id": "BYov1bDHu3cQ",
        "outputId": "10af8a08-ecf6-4a15-dbc4-3c6d436df37a"
      },
      "outputs": [
        {
          "output_type": "stream",
          "name": "stdout",
          "text": [
            "True\n",
            "False\n",
            "False\n",
            "('Dr. ', 'Anil', ' Kamat')\n",
            "Anil    kamat\n",
            "1\n",
            "11\n",
            "('Dr. Anil ', 'Kamat', '')\n",
            "True\n",
            "29\n",
            "left      \n",
            "     Right\n"
          ]
        }
      ],
      "source": [
        "print('1234890'.isdecimal())\n",
        "print('anilakamat@294gmail.com'.isalnum())\n",
        "print('TATA IPL'.istitle())\n",
        "print('Dr. Anil Kamat'.partition('Anil'))\n",
        "print('Anil\\tkamat'.expandtabs(8))\n",
        "print('Ineuron & PW'.find('n'))\n",
        "print('Ineuron & PWSkill'.rfind('W'))\n",
        "print('Dr. Anil Kamat'.rpartition('Kamat'))\n",
        "print('range'.isidentifier())\n",
        "print(len('Multi-level Linear Regression'))\n",
        "print('left'.ljust(10))\n",
        "print('Right'.rjust(10))"
      ]
    },
    {
      "cell_type": "markdown",
      "source": [
        "Q2. How do the string forms in Python 3.X vary in terms of operations?\n",
        "\n",
        "Ans: In Python2 we need to explicitly mention Unicode value using u where as in Python 3.X default format of strings is Unicode."
      ],
      "metadata": {
        "id": "hNtm13iCwWaC"
      }
    },
    {
      "cell_type": "markdown",
      "source": [
        "Q3. In Python 3.X, how do you put non-ASCII Unicode characters in a string?\n",
        "\n",
        "To put non-ASCII Unicode Characters in a string ,unidecode() method from unidecode library s used."
      ],
      "metadata": {
        "id": "0t-d1Ho-xuZH"
      }
    },
    {
      "cell_type": "code",
      "source": [
        "!pip install unidecode"
      ],
      "metadata": {
        "colab": {
          "base_uri": "https://localhost:8080/"
        },
        "id": "EhLDspTVyqdN",
        "outputId": "7b100249-791b-48f7-d9db-4e1567cd58f9"
      },
      "execution_count": null,
      "outputs": [
        {
          "output_type": "stream",
          "name": "stdout",
          "text": [
            "Collecting unidecode\n",
            "  Downloading Unidecode-1.3.6-py3-none-any.whl (235 kB)\n",
            "\u001b[?25l     \u001b[90m━━━━━━━━━━━━━━━━━━━━━━━━━━━━━━━━━━━━━━━━\u001b[0m \u001b[32m0.0/235.9 kB\u001b[0m \u001b[31m?\u001b[0m eta \u001b[36m-:--:--\u001b[0m\r\u001b[2K     \u001b[90m━━━━━━━━━━━━━━━━━━━━━━━━━━━━━━━━━━━━━━━\u001b[0m \u001b[32m235.9/235.9 kB\u001b[0m \u001b[31m8.8 MB/s\u001b[0m eta \u001b[36m0:00:00\u001b[0m\n",
            "\u001b[?25hInstalling collected packages: unidecode\n",
            "Successfully installed unidecode-1.3.6\n"
          ]
        }
      ]
    },
    {
      "cell_type": "code",
      "source": [
        "from unidecode import unidecode\n",
        "print(unidecode(\" अंतःअस्ति प्रारंभः\"))\n",
        "print(unidecode(\" अंत से ही एक नई शुरुआत होती है \"))\n"
      ],
      "metadata": {
        "colab": {
          "base_uri": "https://localhost:8080/"
        },
        "id": "DHfzoPZXwSiS",
        "outputId": "3ab1b27b-a254-41c7-bbd3-b801276d8115"
      },
      "execution_count": null,
      "outputs": [
        {
          "output_type": "stream",
          "name": "stdout",
          "text": [
            " aNtHasti praarNbhH\n",
            " aNt se hii ek nii shuruaat hotii hai \n"
          ]
        }
      ]
    },
    {
      "cell_type": "markdown",
      "source": [
        "Q4. In Python 3.X, what are the key differences between text-mode and binary-mode files?\n",
        "\n",
        "Ans: A text file contains textual information in the form of alphabets, digits and special characters or symbols. On the other hand, a binary file contains bytes or a compiled version of a text file.\n",
        "\n",
        "When a file is opened in text mode, reading its data automatically decodes its content, and returns it as a string; writing operation takes a string, and automatically encodes it before transferring to file.\n",
        "\n",
        "When a file is opened in binary mode , reading its data does not decode it in any way, and simply returns its content unchanged same as bytes object. They treat the data as a sequence of bytes without any character encoding or newline translations. Binary-mode files preserve the exact data representation without any modifications."
      ],
      "metadata": {
        "id": "DHTQVCYoz1ey"
      }
    },
    {
      "cell_type": "markdown",
      "source": [
        "Q5. How can you interpret a Unicode text file containing text encoded in a different encoding than your platform's default?"
      ],
      "metadata": {
        "id": "ZGAxI-uA6Zaj"
      }
    },
    {
      "cell_type": "markdown",
      "source": [
        " By using encoding parameter of the open() function , and by explicitly specifying the encoding, we can ensure that the text file is read and interpreted correctly, even if the default encoding of your platform is different."
      ],
      "metadata": {
        "id": "RwTm3tX54i9O"
      }
    },
    {
      "cell_type": "code",
      "source": [
        "content = \"Assignment 8 Ineuron Advance python.\"\n",
        "enc_content = content.encode('utf-32')\n",
        "with open(\"Assignment.txt\", \"wb\") as file:\n",
        "    file.write(enc_content)\n"
      ],
      "metadata": {
        "id": "JUQyg8hI3lcp"
      },
      "execution_count": null,
      "outputs": []
    },
    {
      "cell_type": "code",
      "source": [
        "with open(\"Assignment.txt\", \"r\", encoding=\"utf-32\") as file:\n",
        "    content = file.read()\n",
        "    print(content)"
      ],
      "metadata": {
        "colab": {
          "base_uri": "https://localhost:8080/"
        },
        "id": "uxH_0iH530se",
        "outputId": "5270b11d-eefb-4c4a-e5ce-db6775581991"
      },
      "execution_count": null,
      "outputs": [
        {
          "output_type": "stream",
          "name": "stdout",
          "text": [
            "Assignment 8 Ineuron Advance python.\n"
          ]
        }
      ]
    },
    {
      "cell_type": "markdown",
      "source": [
        "Q6. What is the best way to make a Unicode text file in a particular encoding format?\n",
        "\n",
        "Prepare the content as a Unicode string.\n",
        "\n",
        "Encode the content using the desired encoding.\n",
        "\n",
        "Open the file in binary write mode.\n",
        "\n",
        "Write the encoded content to the file.\n",
        "\n",
        "Close the file\n",
        "\n",
        "\n"
      ],
      "metadata": {
        "id": "QnXzAssJ6lzi"
      }
    },
    {
      "cell_type": "code",
      "source": [
        "content = \"Assignment 8 Ineuron Advance python.\"\n",
        "enc_content = content.encode('utf-16')\n",
        "with open(\"Assignment1.txt\", \"wb\") as file:\n",
        "    file.write(enc_content)"
      ],
      "metadata": {
        "id": "uQJ4r7I84PNj"
      },
      "execution_count": null,
      "outputs": []
    },
    {
      "cell_type": "markdown",
      "source": [
        "Q7. What qualifies ASCII text as a form of Unicode text?\n",
        "\n",
        "Unicode represents most written languages in the world.ASCII characters are also a subset of the Unicode character set. The ASCII represents lowercase letters (a-z), uppercase letters (A-Z), digits (0–9) and symbols such as punctuation marks while Unicode represents many wide range of characters than ASCII."
      ],
      "metadata": {
        "id": "A--GBnBn7rQ4"
      }
    },
    {
      "cell_type": "markdown",
      "source": [
        "Q8. How much of an effect does the change in string types in Python 3.X have on your code?\n",
        "\n",
        "In python 3.x, strings are stored as Unicode by default,not as in python 2.x where you have to specfically specify to do this , allowing you to work with a wider range of characters and languages without explicitly marking them."
      ],
      "metadata": {
        "id": "jSHAlbRdPv1U"
      }
    },
    {
      "cell_type": "code",
      "source": [],
      "metadata": {
        "id": "gJFfxSKG8p3o"
      },
      "execution_count": null,
      "outputs": []
    }
  ]
}