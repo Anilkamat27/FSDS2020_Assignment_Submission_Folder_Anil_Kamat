{
  "nbformat": 4,
  "nbformat_minor": 0,
  "metadata": {
    "colab": {
      "provenance": []
    },
    "kernelspec": {
      "name": "python3",
      "display_name": "Python 3"
    },
    "language_info": {
      "name": "python"
    }
  },
  "cells": [
    {
      "cell_type": "markdown",
      "source": [
        "Q1. Can you create a programme or function that employs both positive and negative indexing? Is there any repercussion if you do so?"
      ],
      "metadata": {
        "id": "8SdaMAKE5NGP"
      }
    },
    {
      "cell_type": "code",
      "execution_count": null,
      "metadata": {
        "colab": {
          "base_uri": "https://localhost:8080/"
        },
        "id": "cP8x86_V5ESm",
        "outputId": "4a6c45ad-03a2-4db7-ad9e-8c090ebd80d2"
      },
      "outputs": [
        {
          "output_type": "stream",
          "name": "stdout",
          "text": [
            "Enter list: 1 2 3 4 5 6 7 8 9\n",
            "Enter position: 4\n",
            "Positive Indexing: 5\n",
            "Enter position: -1\n",
            "Negative Indexing: 9\n"
          ]
        }
      ],
      "source": [
        "def dual_indexing(my_list, position):\n",
        "    return my_list[position]\n",
        "\n",
        "user = input(\"Enter list: \")\n",
        "list1 = user.split(\" \")\n",
        "position = int(input(\"Enter position: \"))\n",
        "print('Positive Indexing:', dual_indexing(list1, position))\n",
        "\n",
        "position = int(input(\"Enter position: \"))\n",
        "print('Negative Indexing:', dual_indexing(list1, position))\n",
        "\n"
      ]
    },
    {
      "cell_type": "markdown",
      "source": [
        "Q2. What is the most effective way of starting with 1,000 elements in a Python list? Assume that all elements should be set to the same value."
      ],
      "metadata": {
        "id": "hM1e_G7J6JnV"
      }
    },
    {
      "cell_type": "code",
      "source": [
        "list100 = [0 for x in range(0,1000)]\n",
        "print(list100[1:100]) # i not find printis 1000 zeroes useful in output\n"
      ],
      "metadata": {
        "colab": {
          "base_uri": "https://localhost:8080/"
        },
        "id": "mWQf8iK56FmL",
        "outputId": "d8d2731d-5f34-4aa4-cb65-167e05eb8f6f"
      },
      "execution_count": 10,
      "outputs": [
        {
          "output_type": "stream",
          "name": "stdout",
          "text": [
            "[0, 0, 0, 0, 0, 0, 0, 0, 0, 0, 0, 0, 0, 0, 0, 0, 0, 0, 0, 0, 0, 0, 0, 0, 0, 0, 0, 0, 0, 0, 0, 0, 0, 0, 0, 0, 0, 0, 0, 0, 0, 0, 0, 0, 0, 0, 0, 0, 0, 0, 0, 0, 0, 0, 0, 0, 0, 0, 0, 0, 0, 0, 0, 0, 0, 0, 0, 0, 0, 0, 0, 0, 0, 0, 0, 0, 0, 0, 0, 0, 0, 0, 0, 0, 0, 0, 0, 0, 0, 0, 0, 0, 0, 0, 0, 0, 0, 0, 0]\n"
          ]
        }
      ]
    },
    {
      "cell_type": "markdown",
      "source": [
        "Q3. How do you slice a list to get any other part while missing the rest? (For example, suppose you want to make a new list with the elements first, third, fifth, seventh, and so on.)"
      ],
      "metadata": {
        "id": "Qa0tTanh9h9s"
      }
    },
    {
      "cell_type": "code",
      "source": [
        "list1 = [1, 2, 3, 4, 5, 6, 7, 8, 9, 10, 11, 12 ,13 ,14 , 15]\n",
        "list2 = list1[::2]\n",
        "print(list2)"
      ],
      "metadata": {
        "colab": {
          "base_uri": "https://localhost:8080/"
        },
        "id": "TpvQWkNp9DEo",
        "outputId": "5518bd6a-c175-4696-b09c-08cfb1d2224a"
      },
      "execution_count": null,
      "outputs": [
        {
          "output_type": "stream",
          "name": "stdout",
          "text": [
            "[1, 3, 5, 7, 9, 11, 13, 15]\n"
          ]
        }
      ]
    },
    {
      "cell_type": "markdown",
      "source": [
        "Q4. Explain the distinctions between indexing and slicing ?\n",
        "\n",
        "Indexing is accessing a specific item in a sequence, while slicing is extracting a portion of the sequence."
      ],
      "metadata": {
        "id": "QE4ETF4shxGK"
      }
    },
    {
      "cell_type": "code",
      "source": [
        "string = \"ABCD\"\n",
        "print(\"type of indexing\",type(string[0]) ) #indexing\n",
        "print(\"types of slicing\",type(string[::-1]) ) #slicing"
      ],
      "metadata": {
        "id": "gm9w6O6W95Il",
        "colab": {
          "base_uri": "https://localhost:8080/"
        },
        "outputId": "78b45933-ebf0-4433-c8e6-f726dfc638f7"
      },
      "execution_count": 1,
      "outputs": [
        {
          "output_type": "stream",
          "name": "stdout",
          "text": [
            "type of indexing <class 'str'>\n",
            "types of slicing <class 'str'>\n"
          ]
        }
      ]
    },
    {
      "cell_type": "markdown",
      "source": [
        "Q5. What happens if one of the slicing expression's indexes is out of range?\n",
        "\n",
        "If  slicing expression indexes is out of range, it will result in empty sequence."
      ],
      "metadata": {
        "id": "NLqNzGiVjjWX"
      }
    },
    {
      "cell_type": "code",
      "source": [
        "list1 = [1,2,3,45,6,7,8]\n",
        "print(list1[7:20])"
      ],
      "metadata": {
        "colab": {
          "base_uri": "https://localhost:8080/"
        },
        "id": "B0i2Tr6pjSu-",
        "outputId": "ebcf8dfa-16f5-41ca-c0c3-fb197b183195"
      },
      "execution_count": 6,
      "outputs": [
        {
          "output_type": "stream",
          "name": "stdout",
          "text": [
            "[]\n"
          ]
        }
      ]
    },
    {
      "cell_type": "markdown",
      "source": [
        "Q6. If you pass a list to a function, and if you want the function to be able to change the values of the list—so that the list is different after the function returns—what action should you do?"
      ],
      "metadata": {
        "id": "zphqiVjRkqvB"
      }
    },
    {
      "cell_type": "code",
      "source": [
        "def modify_list(list1):\n",
        "    list1.append(23)\n",
        "    return list1\n",
        "user = input(\"Enter list: \")\n",
        "list1 = user.split(\" \")\n",
        "print(modify_list(list1))"
      ],
      "metadata": {
        "colab": {
          "base_uri": "https://localhost:8080/"
        },
        "id": "2sDgL48kkIi6",
        "outputId": "898ffd3c-783e-49d5-81c4-54d392e47bdb"
      },
      "execution_count": 7,
      "outputs": [
        {
          "output_type": "stream",
          "name": "stdout",
          "text": [
            "Enter list: 1 2 3 4 5 6 7 8 9\n",
            "['1', '2', '3', '4', '5', '6', '7', '8', '9', 23]\n"
          ]
        }
      ]
    },
    {
      "cell_type": "markdown",
      "source": [
        "Q7. What is the concept of an unbalanced matrix?\n",
        "\n",
        "An unbalanced is one in which the number of elements in each row or column is not equal"
      ],
      "metadata": {
        "id": "FUrPi9Jlm4A6"
      }
    },
    {
      "cell_type": "code",
      "source": [
        "X_matrix = [[1, 2, 3],[4, 5],[6, 7, 8, 9]]\n",
        "for i in X_matrix:\n",
        "    print(i)"
      ],
      "metadata": {
        "colab": {
          "base_uri": "https://localhost:8080/"
        },
        "id": "wX2BOTuMmrOP",
        "outputId": "50d97d24-b4eb-4298-fb7f-859e35a11212"
      },
      "execution_count": 8,
      "outputs": [
        {
          "output_type": "stream",
          "name": "stdout",
          "text": [
            "[1, 2, 3]\n",
            "[4, 5]\n",
            "[6, 7, 8, 9]\n"
          ]
        }
      ]
    },
    {
      "cell_type": "markdown",
      "source": [
        "Q8. Why is it necessary to use either list comprehension or a loop to create arbitrarily large matrices?"
      ],
      "metadata": {
        "id": "YzrQi0xWotck"
      }
    },
    {
      "cell_type": "markdown",
      "source": [
        " for efficient memory usage and readable code to generate matrix elements , also avoid possible errors that can happen."
      ],
      "metadata": {
        "id": "byrXxwdpp5Wo"
      }
    },
    {
      "cell_type": "code",
      "source": [],
      "metadata": {
        "id": "Ka8JCGqAok4e"
      },
      "execution_count": null,
      "outputs": []
    }
  ]
}