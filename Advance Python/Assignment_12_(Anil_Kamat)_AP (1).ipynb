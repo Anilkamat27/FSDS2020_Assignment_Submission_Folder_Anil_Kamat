{
  "nbformat": 4,
  "nbformat_minor": 0,
  "metadata": {
    "colab": {
      "provenance": []
    },
    "kernelspec": {
      "name": "python3",
      "display_name": "Python 3"
    },
    "language_info": {
      "name": "python"
    }
  },
  "cells": [
    {
      "cell_type": "markdown",
      "source": [
        "Q1. Does assigning a value to a string's indexed character violate Python's string immutability ?\n",
        "\n",
        "Strings cannot be changed after creation. Assigning a value to a character violates immutability. we have to create a new string for modifications."
      ],
      "metadata": {
        "id": "jzjU3eDqlw_k"
      }
    },
    {
      "cell_type": "markdown",
      "source": [
        "Q2. Does using the += operator to concatenate strings violate Python's string immutability? Why or why not ?\n",
        "\n",
        "No ,using the += operator to concatenate strings does not violate Python's string immutability. It creates a new string by combining the original strings, but the original strings remain unchanged."
      ],
      "metadata": {
        "id": "ikjOp9kxnCDd"
      }
    },
    {
      "cell_type": "code",
      "execution_count": 1,
      "metadata": {
        "colab": {
          "base_uri": "https://localhost:8080/"
        },
        "id": "OSFpwOyvlq3b",
        "outputId": "8ae22274-a7dd-4fb2-9883-eb8b7307dcea"
      },
      "outputs": [
        {
          "output_type": "stream",
          "name": "stdout",
          "text": [
            "Anil\n",
            "AnilKamat\n"
          ]
        }
      ],
      "source": [
        "name = 'Anil'\n",
        "print(name)\n",
        "name += 'Kamat'\n",
        "print(name)"
      ]
    },
    {
      "cell_type": "markdown",
      "source": [
        "Q3. In Python, how many different ways are there to index a character?\n",
        "\n",
        "In Python, there are two ways to index a character in a string: positive indexing and negative indexing. Positive indexing starts from 0 at the beginning of the string, while negative indexing starts from -1 at the end of the string."
      ],
      "metadata": {
        "id": "tF4WpO5CoqQG"
      }
    },
    {
      "cell_type": "code",
      "source": [
        "string = \"ABCD\"\n",
        "print(\"positive\",string[0] )\n",
        "print(\"negative\",string[-1] )"
      ],
      "metadata": {
        "colab": {
          "base_uri": "https://localhost:8080/"
        },
        "id": "BUOJkMDkokju",
        "outputId": "286a8d62-a3c3-42ff-ed74-22166f5df7d7"
      },
      "execution_count": 2,
      "outputs": [
        {
          "output_type": "stream",
          "name": "stdout",
          "text": [
            "positive A\n",
            "positive D\n"
          ]
        }
      ]
    },
    {
      "cell_type": "markdown",
      "source": [
        "Q4. What is the relationship between indexing and slicing?\n",
        "indexing allows accessing individual elements, while slicing allows extracting subsequences by specifying a range of indices."
      ],
      "metadata": {
        "id": "Hh8oIQVPrwQP"
      }
    },
    {
      "cell_type": "code",
      "source": [
        "string = \"ABCD\"\n",
        "print(\"indexing\",string[0] ) #indexing\n",
        "print(\"slicing\",string[::-1] ) #slicing"
      ],
      "metadata": {
        "colab": {
          "base_uri": "https://localhost:8080/"
        },
        "id": "kL5pIes3ro7w",
        "outputId": "30359a2e-6b30-4f8e-efc9-583dc342690f"
      },
      "execution_count": 4,
      "outputs": [
        {
          "output_type": "stream",
          "name": "stdout",
          "text": [
            "positive A\n",
            "positive DCBA\n"
          ]
        }
      ]
    },
    {
      "cell_type": "markdown",
      "source": [
        "Q5. What is an indexed character's exact data type? What is the data form of a slicing-generated substring?\n",
        "\n",
        "Both indexed characters and sliced substrings have datatype String."
      ],
      "metadata": {
        "id": "LkDWW_lEs_Rj"
      }
    },
    {
      "cell_type": "code",
      "source": [
        "string = \"ABCD\"\n",
        "print(\"type of indexing\",type(string[0]) ) #indexing\n",
        "print(\"types of slicing\",type(string[::-1]) ) #slicing"
      ],
      "metadata": {
        "colab": {
          "base_uri": "https://localhost:8080/"
        },
        "id": "66v6MK_dr_if",
        "outputId": "9e2d14dd-ca41-4995-bbbe-6fce52a6d15e"
      },
      "execution_count": 5,
      "outputs": [
        {
          "output_type": "stream",
          "name": "stdout",
          "text": [
            "type of indexing <class 'str'>\n",
            "types of slicing <class 'str'>\n"
          ]
        }
      ]
    },
    {
      "cell_type": "markdown",
      "source": [
        "Q6. What is the relationship between string and character \"types\" in Python?\n",
        "\n",
        "strings are composed of individual characters. The type of a character in a string is simply a string itself."
      ],
      "metadata": {
        "id": "h-AR_7jAteBF"
      }
    },
    {
      "cell_type": "markdown",
      "source": [
        "Q7. Identify at least two operators & one method that allow you to combine one\n",
        "or more smaller strings to create a larger string ?"
      ],
      "metadata": {
        "id": "Awb1bkoBu6gg"
      }
    },
    {
      "cell_type": "code",
      "source": [
        "name = 'Anil'\n",
        "name += 'Kamat'\n",
        "print(name)\n",
        "print(\"Jai Hind \"*4)\n",
        "print(\"  Anil  \".join(\"123456\"))"
      ],
      "metadata": {
        "colab": {
          "base_uri": "https://localhost:8080/"
        },
        "id": "HbZKQJKdtWPC",
        "outputId": "b95ee413-f0c7-43c7-ed21-601bbc7ae412"
      },
      "execution_count": 8,
      "outputs": [
        {
          "output_type": "stream",
          "name": "stdout",
          "text": [
            "AnilKamat\n",
            "Jai Hind Jai Hind Jai Hind Jai Hind \n",
            "1  Anil  2  Anil  3  Anil  4  Anil  5  Anil  6\n"
          ]
        }
      ]
    },
    {
      "cell_type": "markdown",
      "source": [
        "Q8. What is the benefit of first checking the target string with in or not in\n",
        "before using the index method to find a substring ?\n",
        "\n",
        "Checking with in or not in ensures substring existence before using index, preventing ValueError if substring not found."
      ],
      "metadata": {
        "id": "INpr6rhxu3HR"
      }
    },
    {
      "cell_type": "markdown",
      "source": [
        "Q9. Which operators and built-in string methods produce simple Boolean (true/false) results?\n",
        "\n",
        ".isalpha(), .isalnum(), .isdecimal(), .isdigit(), .islower(), .isnumeric(),.isspace(), .istitle()"
      ],
      "metadata": {
        "id": "m8AHDv20v7FX"
      }
    },
    {
      "cell_type": "code",
      "source": [],
      "metadata": {
        "id": "KuxXucWRucR5"
      },
      "execution_count": null,
      "outputs": []
    }
  ]
}