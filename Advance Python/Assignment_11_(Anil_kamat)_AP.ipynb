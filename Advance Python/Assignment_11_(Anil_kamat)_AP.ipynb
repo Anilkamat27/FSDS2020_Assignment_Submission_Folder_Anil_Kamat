{
  "nbformat": 4,
  "nbformat_minor": 0,
  "metadata": {
    "colab": {
      "provenance": []
    },
    "kernelspec": {
      "name": "python3",
      "display_name": "Python 3"
    },
    "language_info": {
      "name": "python"
    }
  },
  "cells": [
    {
      "cell_type": "markdown",
      "source": [
        "Q1. What is the concept of a metaclass?\n",
        "\n",
        "A metaclass is the class of a class. It defines the behavior and structure of classes, including how they are created, what attributes and methods they have, and how their instances (objects) behave. Metaclasses provide a way to customize and control the creation and behavior of classes."
      ],
      "metadata": {
        "id": "Wq0jQa4YrbXm"
      }
    },
    {
      "cell_type": "markdown",
      "source": [
        "Q2. What is the best way to declare a class&#39;s metaclass?\n",
        "\n",
        "by using metaclass keyword in class definition."
      ],
      "metadata": {
        "id": "nx3bfV4ksG3r"
      }
    },
    {
      "cell_type": "code",
      "execution_count": 2,
      "metadata": {
        "colab": {
          "base_uri": "https://localhost:8080/"
        },
        "id": "h7mMHrzmrawf",
        "outputId": "2d3065e2-3030-49d3-94d9-3f509d183e9a"
      },
      "outputs": [
        {
          "output_type": "stream",
          "name": "stdout",
          "text": [
            "<class 'type'>\n",
            "<class '__main__.MyMetaClass'>\n"
          ]
        }
      ],
      "source": [
        "class MyMetaClass(type):\n",
        "  pass\n",
        "class MyClass(metaclass=MyMetaClass):\n",
        "    pass\n",
        "print(type(MyMetaClass))\n",
        "print(type(MyClass))"
      ]
    },
    {
      "cell_type": "markdown",
      "source": [
        "Q3. How do class decorators overlap with metaclasses for handling classes ?\n",
        "\n",
        "Class decorators and metaclasses are ways to handle classes in Python. Class decorators modify classes after they are defined, like adding extra features. They work on the final class and are used to extend or enhance class functionality. Metaclasses, on the other hand, have control over the whole class creation process. They can change the class structure and behavior at a deeper level. Metaclasses are used for advanced cases that need detailed control over class creation and behavior."
      ],
      "metadata": {
        "id": "YaF3uZWRfsJC"
      }
    },
    {
      "cell_type": "markdown",
      "source": [
        "Q4. How do class decorators overlap with metaclasses for handling instances?\n",
        "\n",
        "Class decorators modify existing instances, while metaclasses control instance creation. Decorators extend or change instance behavior, while metaclasses have more power over how instances are created and behave. Decorators are simpler, while metaclasses provide greater control."
      ],
      "metadata": {
        "id": "gQI9r4hLheMR"
      }
    },
    {
      "cell_type": "code",
      "source": [],
      "metadata": {
        "id": "_SrL-IGFsJl_"
      },
      "execution_count": null,
      "outputs": []
    }
  ]
}