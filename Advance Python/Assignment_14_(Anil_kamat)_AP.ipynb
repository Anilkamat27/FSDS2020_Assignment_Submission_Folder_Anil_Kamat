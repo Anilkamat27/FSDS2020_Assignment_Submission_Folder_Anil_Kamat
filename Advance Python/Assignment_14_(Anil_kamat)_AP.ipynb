{
  "nbformat": 4,
  "nbformat_minor": 0,
  "metadata": {
    "colab": {
      "provenance": []
    },
    "kernelspec": {
      "name": "python3",
      "display_name": "Python 3"
    },
    "language_info": {
      "name": "python"
    }
  },
  "cells": [
    {
      "cell_type": "markdown",
      "source": [
        "\n",
        "Q1. Is an assignment operator like += only for show? Is it possible that it would lead to faster results at the runtime ?\n",
        "\n",
        "+= operator combines the operation of addition and assignment, allowing you to add a value to an existing variable and update its value there. It can be more efficient than creating a new object and reassigning it to the variable."
      ],
      "metadata": {
        "id": "hOIvnQMXuAOe"
      }
    },
    {
      "cell_type": "markdown",
      "source": [
        "Q2. What is the smallest no of statements you'd have to write in most programming languages to replace the Python expr a, b = a + b, a ?\n",
        "\n",
        "we need at least 3 lines of code to replace above line code , this 3 lines are those which do swapping using third temporary varibale ."
      ],
      "metadata": {
        "id": "7RbZIyY-u8YS"
      }
    },
    {
      "cell_type": "code",
      "execution_count": null,
      "metadata": {
        "colab": {
          "base_uri": "https://localhost:8080/"
        },
        "id": "DGXM1Yi4t6RY",
        "outputId": "58b30673-3621-4ee6-c3ed-36de5879c62b"
      },
      "outputs": [
        {
          "output_type": "stream",
          "name": "stdout",
          "text": [
            "A 30 B 10\n"
          ]
        }
      ],
      "source": [
        "a,b = 10, 20\n",
        "temp = a\n",
        "a = a + b\n",
        "b = temp\n",
        "\n",
        "print(\"A\",a,\"B\",b)"
      ]
    },
    {
      "cell_type": "markdown",
      "source": [
        "Q3. In Python, what is the most effective way to set a list of 100 integers to 0?"
      ],
      "metadata": {
        "id": "UJbxJKTD0iF9"
      }
    },
    {
      "cell_type": "code",
      "source": [
        "list1 = [0 for i in range(0,100)]\n",
        "print(list1)"
      ],
      "metadata": {
        "colab": {
          "base_uri": "https://localhost:8080/"
        },
        "id": "MHFhW4mfziLn",
        "outputId": "3e83ed4d-7f88-45f0-8e04-73a82cf5d048"
      },
      "execution_count": null,
      "outputs": [
        {
          "output_type": "stream",
          "name": "stdout",
          "text": [
            "[0, 0, 0, 0, 0, 0, 0, 0, 0, 0, 0, 0, 0, 0, 0, 0, 0, 0, 0, 0, 0, 0, 0, 0, 0, 0, 0, 0, 0, 0, 0, 0, 0, 0, 0, 0, 0, 0, 0, 0, 0, 0, 0, 0, 0, 0, 0, 0, 0, 0, 0, 0, 0, 0, 0, 0, 0, 0, 0, 0, 0, 0, 0, 0, 0, 0, 0, 0, 0, 0, 0, 0, 0, 0, 0, 0, 0, 0, 0, 0, 0, 0, 0, 0, 0, 0, 0, 0, 0, 0, 0, 0, 0, 0, 0, 0, 0, 0, 0, 0]\n"
          ]
        }
      ]
    },
    {
      "cell_type": "markdown",
      "source": [
        "Q4. What is the most effective way to initialise a list of 99 integers that repeats the sequence 1, 2, 3? S If necessary, show step-by-step instructions on how to accomplish this."
      ],
      "metadata": {
        "id": "HT7HcjY301qA"
      }
    },
    {
      "cell_type": "code",
      "source": [
        "list1 = [1,2,3]*33\n",
        "print(list1)"
      ],
      "metadata": {
        "colab": {
          "base_uri": "https://localhost:8080/"
        },
        "id": "wc5yO7Wu0pYd",
        "outputId": "f5d2accf-800f-4412-fed3-930e2ad076a6"
      },
      "execution_count": null,
      "outputs": [
        {
          "output_type": "stream",
          "name": "stdout",
          "text": [
            "[1, 2, 3, 1, 2, 3, 1, 2, 3, 1, 2, 3, 1, 2, 3, 1, 2, 3, 1, 2, 3, 1, 2, 3, 1, 2, 3, 1, 2, 3, 1, 2, 3, 1, 2, 3, 1, 2, 3, 1, 2, 3, 1, 2, 3, 1, 2, 3, 1, 2, 3, 1, 2, 3, 1, 2, 3, 1, 2, 3, 1, 2, 3, 1, 2, 3, 1, 2, 3, 1, 2, 3, 1, 2, 3, 1, 2, 3, 1, 2, 3, 1, 2, 3, 1, 2, 3, 1, 2, 3, 1, 2, 3, 1, 2, 3, 1, 2, 3]\n"
          ]
        }
      ]
    },
    {
      "cell_type": "markdown",
      "source": [
        "Q5. If you're using IDLE to run a Python application, explain how to print a multidimensional list as efficiently?"
      ],
      "metadata": {
        "id": "II_mTP-L8Cv_"
      }
    },
    {
      "cell_type": "code",
      "source": [
        "list1 = [[1,1,1],[2,2,2],[3,3,3],[4,4,4],[5,5,5]] # 2 dimensional List\n",
        "for i in list1:\n",
        "  for j in i:\n",
        "    print(j, end=\" \")"
      ],
      "metadata": {
        "colab": {
          "base_uri": "https://localhost:8080/"
        },
        "id": "ij6Qqsh67_t5",
        "outputId": "0fd6d4f7-808c-4277-b848-5c39ff1cfb02"
      },
      "execution_count": null,
      "outputs": [
        {
          "output_type": "stream",
          "name": "stdout",
          "text": [
            "1 1 1 2 2 2 3 3 3 4 4 4 5 5 5 "
          ]
        }
      ]
    },
    {
      "cell_type": "markdown",
      "source": [
        "Q6. Is it possible to use list comprehension with a string? If so, how can you go about doing it?"
      ],
      "metadata": {
        "id": "7TCs5-ZN8wdC"
      }
    },
    {
      "cell_type": "code",
      "source": [
        "list1 = [i for i in 'Anil kamat']\n",
        "print(list1)"
      ],
      "metadata": {
        "id": "6mrAhd758hL0",
        "colab": {
          "base_uri": "https://localhost:8080/"
        },
        "outputId": "ca412f8e-b954-4e97-d86e-f4060deee261"
      },
      "execution_count": 14,
      "outputs": [
        {
          "output_type": "stream",
          "name": "stdout",
          "text": [
            "['A', 'n', 'i', 'l', ' ', 'k', 'a', 'm', 'a', 't']\n"
          ]
        }
      ]
    },
    {
      "cell_type": "markdown",
      "source": [
        "Q7. From the command line, how do you get support with a user-written Python programme? Is this possible from inside IDLE?\n",
        "\n",
        "In command line if i have any problem related to any function , keyword , or any other pre  defined entity ,we can get help by using help function , which return the documentation of asked entity , and it is also possible from IDLE.\n",
        "\n"
      ],
      "metadata": {
        "id": "uB9_75f9Awj_"
      }
    },
    {
      "cell_type": "code",
      "source": [
        "help(\"for\")"
      ],
      "metadata": {
        "colab": {
          "base_uri": "https://localhost:8080/"
        },
        "id": "Ebr64FzBAUsE",
        "outputId": "a22f0070-a905-4049-f187-2fada5d0ffc3"
      },
      "execution_count": 20,
      "outputs": [
        {
          "output_type": "stream",
          "name": "stdout",
          "text": [
            "The \"for\" statement\n",
            "*******************\n",
            "\n",
            "The \"for\" statement is used to iterate over the elements of a sequence\n",
            "(such as a string, tuple or list) or other iterable object:\n",
            "\n",
            "   for_stmt ::= \"for\" target_list \"in\" expression_list \":\" suite\n",
            "                [\"else\" \":\" suite]\n",
            "\n",
            "The expression list is evaluated once; it should yield an iterable\n",
            "object.  An iterator is created for the result of the\n",
            "\"expression_list\".  The suite is then executed once for each item\n",
            "provided by the iterator, in the order returned by the iterator.  Each\n",
            "item in turn is assigned to the target list using the standard rules\n",
            "for assignments (see Assignment statements), and then the suite is\n",
            "executed.  When the items are exhausted (which is immediately when the\n",
            "sequence is empty or an iterator raises a \"StopIteration\" exception),\n",
            "the suite in the \"else\" clause, if present, is executed, and the loop\n",
            "terminates.\n",
            "\n",
            "A \"break\" statement executed in the first suite terminates the loop\n",
            "without executing the \"else\" clause’s suite.  A \"continue\" statement\n",
            "executed in the first suite skips the rest of the suite and continues\n",
            "with the next item, or with the \"else\" clause if there is no next\n",
            "item.\n",
            "\n",
            "The for-loop makes assignments to the variables in the target list.\n",
            "This overwrites all previous assignments to those variables including\n",
            "those made in the suite of the for-loop:\n",
            "\n",
            "   for i in range(10):\n",
            "       print(i)\n",
            "       i = 5             # this will not affect the for-loop\n",
            "                         # because i will be overwritten with the next\n",
            "                         # index in the range\n",
            "\n",
            "Names in the target list are not deleted when the loop is finished,\n",
            "but if the sequence is empty, they will not have been assigned to at\n",
            "all by the loop.  Hint: the built-in type \"range()\" represents\n",
            "immutable arithmetic sequences of integers. For instance, iterating\n",
            "\"range(3)\" successively yields 0, 1, and then 2.\n",
            "\n",
            "Related help topics: break, continue, while\n",
            "\n"
          ]
        }
      ]
    },
    {
      "cell_type": "markdown",
      "source": [
        "Q8. Functions are said to be “first-class objects” in Python but not in most other languages, such as C++ or Java. What can you do in Python with a function (callable object) that you can't do in C or C++?"
      ],
      "metadata": {
        "id": "1Csmq8Z5Gotb"
      }
    },
    {
      "cell_type": "code",
      "source": [
        "#Assign Functions to Variable:\n",
        "def add(a,b):\n",
        "  return a+b\n",
        "\n",
        "mediator = add\n",
        "print(mediator(12,13))"
      ],
      "metadata": {
        "colab": {
          "base_uri": "https://localhost:8080/"
        },
        "id": "UXMJF45DAX81",
        "outputId": "e2558518-5740-4ec1-841a-8cd32c8226bc"
      },
      "execution_count": 23,
      "outputs": [
        {
          "output_type": "stream",
          "name": "stdout",
          "text": [
            "25\n"
          ]
        }
      ]
    },
    {
      "cell_type": "code",
      "source": [
        "#Return Functions from Functions:\n",
        "def caller(func, x,y):\n",
        "    return func(x,y)\n",
        "\n",
        "result = caller(add, 5,6)\n",
        "print(result)\n"
      ],
      "metadata": {
        "colab": {
          "base_uri": "https://localhost:8080/"
        },
        "id": "qnNkw0hQCMlb",
        "outputId": "0b9995bb-d097-4d0e-80ee-89e5f4807197"
      },
      "execution_count": 26,
      "outputs": [
        {
          "output_type": "stream",
          "name": "stdout",
          "text": [
            "11\n"
          ]
        }
      ]
    },
    {
      "cell_type": "code",
      "source": [
        "#Store Functions in Data Structures:\n",
        "def sub(a,b):\n",
        "  return a-b\n",
        "bundle = [add,sub]\n",
        "\n",
        "result = bundle[0](5, 3)\n",
        "print(result)\n",
        "result = bundle[1](5, 3)\n",
        "print(result)"
      ],
      "metadata": {
        "colab": {
          "base_uri": "https://localhost:8080/"
        },
        "id": "zh8MDGc6DHZ0",
        "outputId": "a4c994a0-e334-4664-c4be-b06027104e3f"
      },
      "execution_count": 29,
      "outputs": [
        {
          "output_type": "stream",
          "name": "stdout",
          "text": [
            "8\n",
            "2\n"
          ]
        }
      ]
    },
    {
      "cell_type": "code",
      "source": [
        "# decorators\n",
        "def validate(func):\n",
        "    def wrapper(x, y):\n",
        "        if y != 0:\n",
        "          return func(x, y)\n",
        "    return wrapper\n",
        "\n",
        "@validate\n",
        "def divide(x, y):\n",
        "    return x / y\n",
        "\n",
        "result = divide(10, 2)\n",
        "print(result)\n",
        "\n",
        "result = divide(10, 0)\n",
        "print(result)"
      ],
      "metadata": {
        "colab": {
          "base_uri": "https://localhost:8080/"
        },
        "id": "gOQAtgyhEA4M",
        "outputId": "6e34f38a-dab3-480b-d0df-7803f18efc4c"
      },
      "execution_count": 2,
      "outputs": [
        {
          "output_type": "stream",
          "name": "stdout",
          "text": [
            "5.0\n",
            "None\n"
          ]
        }
      ]
    },
    {
      "cell_type": "markdown",
      "source": [
        "Q9. How do you distinguish between a wrapper, a wrapped feature, and a decorator?\n",
        "\n",
        "A wrapper is like a layer that adds extra functionality to a function. The wrapped feature is the main function being protected and modified. A decorator is a tool that applies the wrapper to the function automatically."
      ],
      "metadata": {
        "id": "7Mh-74ABG4P2"
      }
    },
    {
      "cell_type": "markdown",
      "source": [
        "Q10. If a function is a generator function, what does it return?\n",
        "\n",
        "A generator function returns a generator object.This object can be iterated over to get a sequence of values one at a time, using the yield keyword with the function."
      ],
      "metadata": {
        "id": "uftgeNBBHhwM"
      }
    },
    {
      "cell_type": "markdown",
      "source": [
        "Q11. What is the one improvement that must be made to a function in order for it to become a generator function in the Python language?\n",
        "\n",
        "Generator is same as normal function only difference is that it uses yield keyword to return values instead of return keyword."
      ],
      "metadata": {
        "id": "DYxCA9IRIxUB"
      }
    },
    {
      "cell_type": "markdown",
      "source": [
        "Q12. Identify at least one benefit of generators.\n",
        "\n",
        "function's return statement sends a specified value back to its caller whereas yield statment produce a sequence of values.It will be usefull to use generator when we want to iterate over a sequence,and not want to store the entire sequence in memory."
      ],
      "metadata": {
        "id": "MeatRIlNJaVE"
      }
    },
    {
      "cell_type": "code",
      "source": [],
      "metadata": {
        "id": "E4wRAujLIuf8"
      },
      "execution_count": 3,
      "outputs": []
    }
  ]
}