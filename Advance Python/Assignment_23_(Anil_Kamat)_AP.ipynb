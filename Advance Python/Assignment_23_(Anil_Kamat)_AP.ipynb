{
  "nbformat": 4,
  "nbformat_minor": 0,
  "metadata": {
    "colab": {
      "provenance": []
    },
    "kernelspec": {
      "name": "python3",
      "display_name": "Python 3"
    },
    "language_info": {
      "name": "python"
    }
  },
  "cells": [
    {
      "cell_type": "markdown",
      "source": [
        "Q1. If you have any, what are your choices for increasing the comparison between different figures on\n",
        "the same graph?\n",
        "\n",
        "Use clear labels and consistent colors, Use a consistent scale and labels.Keep the graph simple and easy to read. We can also use subplots function which allow us to create a group of smaller axes (or subplots) within a single figure."
      ],
      "metadata": {
        "id": "riSzXLxiVIO7"
      }
    },
    {
      "cell_type": "markdown",
      "source": [
        "Q2. Can you explain the benefit of compound interest over a higher rate of interest that does not compound after reading this chapter?\n",
        "\n",
        "Compound interest has a benefit over a higher rate of interest that does not compound because it allows your money to grow faster over time. When our money earns interest and that interest is added to our initial amount, it starts to grow even faster. It's like getting interest on top of interest, and it helps our money become much bigger over time"
      ],
      "metadata": {
        "id": "WOoRKaPRZo-F"
      }
    },
    {
      "cell_type": "markdown",
      "source": [
        "Q3. What is a histogram, exactly? Name a numpy method for creating such a graph ?\n",
        "\n",
        "A histogram is a graph that shows the distribution of data by dividing it into bins and displaying the frequency or count of values in each bin. The NumPy method for creating a histogram is numpy.histogram()."
      ],
      "metadata": {
        "id": "RrXP1Y4uaMT_"
      }
    },
    {
      "cell_type": "markdown",
      "source": [
        "Q4. If necessary, how do you change the aspect ratios between the X and Y axes ?\n",
        "\n",
        "We can use the figure(figsize=(width, height)) function in Matplotlib to adjust the size of the graph. By specifying the figsize parameter with the desired width and height values."
      ],
      "metadata": {
        "id": "LDz6VbNLaxpj"
      }
    },
    {
      "cell_type": "markdown",
      "source": [
        "Q5. Compare and contrast the three types of array multiplication between two numpy arrays: dot product, outer product, and regular multiplication of two numpy arrays ?\n",
        "\n",
        "\n",
        "Dot product: Multiply and add corresponding numbers.\n",
        "\n",
        "Outer product: Multiply each number from the first list with each number from the second list.\n",
        "\n",
        "Regular multiplication: Multiply corresponding numbers."
      ],
      "metadata": {
        "id": "7Drreq4ja-eb"
      }
    },
    {
      "cell_type": "code",
      "execution_count": 1,
      "metadata": {
        "colab": {
          "base_uri": "https://localhost:8080/"
        },
        "id": "biqUmSI8U-y8",
        "outputId": "087de93a-c976-472b-c350-f1cfac65e9f5"
      },
      "outputs": [
        {
          "output_type": "stream",
          "name": "stdout",
          "text": [
            "Dot Product 32\n",
            "Outer Product [[ 4  5  6]\n",
            " [ 8 10 12]\n",
            " [12 15 18]]\n",
            "Regular Product [ 4 10 18]\n"
          ]
        }
      ],
      "source": [
        "import numpy as np\n",
        "arr1 = np.array([1, 2, 3])\n",
        "arr2 = np.array([4, 5, 6])\n",
        "dot_product = np.dot(arr1, arr2)\n",
        "print(\"Dot Product\", dot_product)\n",
        "outer_product = np.outer(arr1, arr2)\n",
        "print(\"Outer Product\", outer_product)\n",
        "regular_product = arr1 * arr2\n",
        "print(\"Regular Product\", regular_product)\n",
        "\n"
      ]
    },
    {
      "cell_type": "markdown",
      "source": [
        "Q6. Before you buy a home, which numpy function will you use to measure your monthly mortgage payment ?\n",
        "\n",
        "numpy.pmt(rate,nper,pv) function. It calculates the monthly payment based on the loan amount, interest rate, and loan term.\n",
        "\n",
        "rate = The periodic interest rate , nper = The number of payment periods, pv = The total value of the mortgage loan"
      ],
      "metadata": {
        "id": "fnZhNXdgcK4h"
      }
    },
    {
      "cell_type": "markdown",
      "source": [
        "Q7. Can string data be stored in numpy arrays? If so, list at least one restriction that applies to this data ?\n",
        "\n",
        "Yes, string data can be stored in NumPy arrays, but they require fixedlength strings. All strings must have the same length, and longer strings will be truncated while shorter ones will be added."
      ],
      "metadata": {
        "id": "gV9jZf5vcqe0"
      }
    },
    {
      "cell_type": "code",
      "source": [],
      "metadata": {
        "id": "IFzVzHlPbniF"
      },
      "execution_count": null,
      "outputs": []
    }
  ]
}