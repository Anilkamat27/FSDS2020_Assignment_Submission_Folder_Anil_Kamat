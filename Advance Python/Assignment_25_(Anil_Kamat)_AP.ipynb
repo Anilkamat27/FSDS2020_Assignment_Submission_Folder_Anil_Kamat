{
  "nbformat": 4,
  "nbformat_minor": 0,
  "metadata": {
    "colab": {
      "provenance": []
    },
    "kernelspec": {
      "name": "python3",
      "display_name": "Python 3"
    },
    "language_info": {
      "name": "python"
    }
  },
  "cells": [
    {
      "cell_type": "markdown",
      "source": [
        "Q1. What is the distinction between a numpy array and a pandas data frame? Is there a way to convert between the two if there is ?\n",
        "\n",
        "A NumPy array is a homogeneous multidimensional array, while a Pandas DataFrame is a labeled tabular data structure. You can convert a NumPy array to a DataFrame using pd.DataFrame() and a DataFrame to a NumPy array using the .values attribute."
      ],
      "metadata": {
        "id": "zuOau8A2HSKI"
      }
    },
    {
      "cell_type": "code",
      "source": [
        "import pandas as pd\n",
        "import numpy as np\n",
        "\n",
        "numpy_array = np.array([[1, 2], [3, 4]])\n",
        "df = pd.DataFrame(numpy_array, columns=['A','B'])\n",
        "print(\"panda data frame \\n\",df)\n",
        "numpy_arr = df.values\n",
        "print(\"arr \\n\", numpy_arr)\n"
      ],
      "metadata": {
        "colab": {
          "base_uri": "https://localhost:8080/"
        },
        "id": "l0MV1RtpHagV",
        "outputId": "4237a864-2103-406d-ee50-e5746c6c7efd"
      },
      "execution_count": 5,
      "outputs": [
        {
          "output_type": "stream",
          "name": "stdout",
          "text": [
            "panda data frame \n",
            "    A  B\n",
            "0  1  2\n",
            "1  3  4\n",
            "arr \n",
            " [[1 2]\n",
            " [3 4]]\n"
          ]
        }
      ]
    },
    {
      "cell_type": "markdown",
      "source": [
        "Q2. What can go wrong when an user enters in a stock-ticker symbol, and how do you handle it?\n",
        "\n",
        "When a user enters a stock symbol, things can go wrong if they enter an incorrect symbol or if the symbol is not recognized. To handle this, we need to check if the symbol is valid and handle any errors that occur while getting the data."
      ],
      "metadata": {
        "id": "Ms47P2xuHSIp"
      }
    },
    {
      "cell_type": "markdown",
      "source": [
        "Q3. Identify some of the plotting techniques that are used to produce a stock-market chart ?\n",
        "\n",
        "Some of the techniques used to make stock market charts are bar charts and line charts. These charts help show the price and performance of stocks over time in a way that is easy to understand."
      ],
      "metadata": {
        "id": "2sHxaTHfJI-y"
      }
    },
    {
      "cell_type": "markdown",
      "source": [
        "Q4. Why is it essential to print a legend on a stock market chart ?\n",
        "\n",
        "It is important to have a legend on a stock market chart because it helps us understand and compare different stocks. The legend tells us which line or color represents which stock, making it easier to interpret the information shown in the chart."
      ],
      "metadata": {
        "id": "ZZJtR8VOJb6q"
      }
    },
    {
      "cell_type": "markdown",
      "source": [
        "Q5. What is the best way to limit the length of a pandas data frame to less than a year ?\n",
        "\n",
        "We can use the start and end parameters. We need to Specify the desired start and end dates to restrict the duration of the DataFrame within that time frame."
      ],
      "metadata": {
        "id": "TJZZ-lF2JiP4"
      }
    },
    {
      "cell_type": "markdown",
      "source": [
        "Q6. What is the definition of a 180-day moving average ?\n",
        "\n",
        "The 180-day moving average is a line on a chart that shows the average price of something, like a stock, over the past 180 days. It helps traders see if the price is going up or down and find important price levels."
      ],
      "metadata": {
        "id": "m66V1My2KNhf"
      }
    },
    {
      "cell_type": "markdown",
      "source": [
        "Q7. Did the chapters final example use \"indirect\" importing? If so, how exactly do you do it?\n",
        "\n",
        "No .Indirect importing refers to importing a module indirectly through another module.we can achieve indirect importing by importing a module into one module and then importing that module into another module."
      ],
      "metadata": {
        "id": "dHQtsC1FLFid"
      }
    },
    {
      "cell_type": "code",
      "execution_count": 5,
      "metadata": {
        "id": "8Q9WJ1ZKFEPQ"
      },
      "outputs": [],
      "source": []
    }
  ]
}