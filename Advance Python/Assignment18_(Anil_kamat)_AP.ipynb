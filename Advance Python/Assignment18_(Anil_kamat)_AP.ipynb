{
  "nbformat": 4,
  "nbformat_minor": 0,
  "metadata": {
    "colab": {
      "provenance": []
    },
    "kernelspec": {
      "name": "python3",
      "display_name": "Python 3"
    },
    "language_info": {
      "name": "python"
    }
  },
  "cells": [
    {
      "cell_type": "markdown",
      "source": [
        "Q1. Describe the differences between text and binary files in a single paragraph.\n",
        "\n",
        "Text files store data that humans can read and understand, like words and sentences. Binary files store data in a format that computers understand, using 0s and 1s. Binary files are used for more complex data and things like images or software programs."
      ],
      "metadata": {
        "id": "MoxEZaKC0SYz"
      }
    },
    {
      "cell_type": "markdown",
      "source": [
        "Q2. What are some scenarios where using text files will be the better option? When would you like to use binary files instead of text files?\n",
        "\n",
        "Text files are good for things you can read, like letters or articles. Binary files are used for things like pictures or computer programs that need to be saved in a special way for the computer to understand them."
      ],
      "metadata": {
        "id": "ryptu7JF3R6V"
      }
    },
    {
      "cell_type": "markdown",
      "source": [
        "Q3. What are some of the issues with using binary operations to read and write a Python integer directly to disc?\n",
        "\n",
        "one major general issue is if you write a data using binary operations on a system that uses different byter order, and then try to read the data on a system that uses different byte order, the interpretation of the data will be incorrect, leading to data inconsistency. This platform dependence can cause issues when sharing or migrating data across different systems."
      ],
      "metadata": {
        "id": "gqu7QQeH3g9M"
      }
    },
    {
      "cell_type": "markdown",
      "source": [
        "Q4. Describe a benefit of using the with keyword instead of explicitly opening a file ?\n",
        "\n",
        "Using the with keyword in Python instead of explicitly opening a file provides the benefit of automatic file closing. It ensures that the file is always properly closed, even if an error occurs,preventing resource leaks."
      ],
      "metadata": {
        "id": "Ptem9ezji6OU"
      }
    },
    {
      "cell_type": "markdown",
      "source": [
        "Q5. Does Python have the trailing newline while reading a line of text? Does Python append a newline when you write a line of text?\n",
        "\n",
        "yes When we read a line of text using readline(), it includes the trailing newline character if it exists in the file.\n",
        "\n",
        "When you write a line of text using write(), we need to explicitly include the newline character \\n at the end of the line if we want to add it. Python doesn't automatically add a newline when writing a line of text."
      ],
      "metadata": {
        "id": "wk9rGQNBjE5M"
      }
    },
    {
      "cell_type": "markdown",
      "source": [
        "Q6. What file operations enable for random-access operation?\n",
        "  \n",
        "\n",
        "seek() , tell()"
      ],
      "metadata": {
        "id": "e75Oy0Mrpkcz"
      }
    },
    {
      "cell_type": "code",
      "execution_count": null,
      "metadata": {
        "id": "6b1rqywY0I9O",
        "colab": {
          "base_uri": "https://localhost:8080/"
        },
        "outputId": "e05a6911-d31c-4cfd-8f76-3e3babcbb08a"
      },
      "outputs": [
        {
          "output_type": "stream",
          "name": "stdout",
          "text": [
            "Current position: 0\n",
            "File content: Anil KamatIneuron Intelligence\n",
            "Current position: 5\n",
            "File content: KamatIneuron Intelligence\n"
          ]
        }
      ],
      "source": [
        "\n",
        "with open(\"Assignment.txt\", \"w\") as file:\n",
        "    file.write(\"Anil Kamat\")\n",
        "    file.write(\"Ineuron Intelligence\")\n",
        "\n",
        "with open(\"Assignment.txt\", \"r\") as file:\n",
        "    position = file.tell()\n",
        "    print(\"Current position:\", position)\n",
        "    content = file.read()\n",
        "    print(\"File content:\",content)\n",
        "    file.seek(5)\n",
        "    print(\"Current position:\", file.tell())\n",
        "    content = file.read()\n",
        "    print(\"File content:\",content)\n"
      ]
    },
    {
      "cell_type": "markdown",
      "source": [
        "Q7. When do you think you'll use the struct package the most?\n",
        "\n",
        "struct package is mostly used while converting a common python types into C language types.\n"
      ],
      "metadata": {
        "id": "jlLhmMf1prTv"
      }
    },
    {
      "cell_type": "markdown",
      "source": [
        "Q8. When is pickling the best option?\n",
        "\n",
        " Pickling is best option for creating a new binary file using python or transfer them between different parts of a program or different Python programs."
      ],
      "metadata": {
        "id": "T09H-e2QsHNo"
      }
    },
    {
      "cell_type": "markdown",
      "source": [
        "Q9. When will it be best to use the shelve package?\n",
        "\n",
        "We can use the shelve package when we want a simple way to store and retrieve data using keys, similar to how we use a dictionary. It's great for small projects, quick testing, or when we need a basic database-like functionality."
      ],
      "metadata": {
        "id": "2SuSo-K6ssgb"
      }
    },
    {
      "cell_type": "markdown",
      "source": [
        "Q10. What is a special restriction when using the shelve package, as opposed to using other data dictionaries?\n",
        "\n",
        "one major restriction to keep in mind is that the keys must be strings. The keys in shelve object are stored and retrieved as strings. If  we try to use a key that is not a string, it will be automatically converted to a string before being stored."
      ],
      "metadata": {
        "id": "zfZ6kpv41ixc"
      }
    },
    {
      "cell_type": "code",
      "source": [],
      "metadata": {
        "id": "vMKeBf9ImQMB"
      },
      "execution_count": null,
      "outputs": []
    }
  ]
}