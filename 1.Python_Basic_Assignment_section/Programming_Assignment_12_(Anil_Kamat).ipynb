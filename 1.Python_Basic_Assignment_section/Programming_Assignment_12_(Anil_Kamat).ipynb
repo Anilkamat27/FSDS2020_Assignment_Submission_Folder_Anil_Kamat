{
  "nbformat": 4,
  "nbformat_minor": 0,
  "metadata": {
    "colab": {
      "provenance": []
    },
    "kernelspec": {
      "name": "python3",
      "display_name": "Python 3"
    },
    "language_info": {
      "name": "python"
    }
  },
  "cells": [
    {
      "cell_type": "markdown",
      "source": [
        "1. Write a Python program to Extract Unique values dictionary values?"
      ],
      "metadata": {
        "id": "1LbjE8FHn6UU"
      }
    },
    {
      "cell_type": "code",
      "execution_count": null,
      "metadata": {
        "colab": {
          "base_uri": "https://localhost:8080/"
        },
        "id": "rlc7nEy6nxqE",
        "outputId": "be28b726-5337-4130-a902-843b78e566b9"
      },
      "outputs": [
        {
          "output_type": "stream",
          "name": "stdout",
          "text": [
            "{1, 2, 14, 79, 82, 27}\n"
          ]
        }
      ],
      "source": [
        "moons = {\"Mercury\": 0, \"Venus\": 0, \"Earth\": 1, \"Mars\": 2,\"Jupiter\": 79, \"Saturn\": 82, \"Uranus\": 27, \"Neptune\": 14}\n",
        "present = set()\n",
        "for i in moons.values():\n",
        "  count = 0\n",
        "  for j in moons.values():\n",
        "    if i == j :\n",
        "      count +=1\n",
        "  if count == 1:\n",
        "    present.add(i)\n",
        "print(present)\n"
      ]
    },
    {
      "cell_type": "markdown",
      "source": [
        "2. Write a Python program to find the sum of all items in a dictionary?"
      ],
      "metadata": {
        "id": "Pz0CQhZHn82n"
      }
    },
    {
      "cell_type": "code",
      "source": [
        "moons = {\"Mercury\": 0, \"Venus\": 0, \"Earth\": 1, \"Mars\": 2,\"Jupiter\": 79, \"Saturn\": 82, \"Uranus\": 27, \"Neptune\": 14}\n",
        "sum =0\n",
        "for i in moons.values():\n",
        "  sum += i\n",
        "print(sum)"
      ],
      "metadata": {
        "colab": {
          "base_uri": "https://localhost:8080/"
        },
        "id": "UkoAFhdOn7ef",
        "outputId": "f5ac76db-2631-43c1-ebe5-c9f109920f73"
      },
      "execution_count": null,
      "outputs": [
        {
          "output_type": "stream",
          "name": "stdout",
          "text": [
            "205\n"
          ]
        }
      ]
    },
    {
      "cell_type": "markdown",
      "source": [
        "3. Write a Python program to Merging two Dictionaries?"
      ],
      "metadata": {
        "id": "46jVmRo0n987"
      }
    },
    {
      "cell_type": "code",
      "source": [
        "moons = {\"Mercury\": 0,\"Venus\": 0,\"Earth\": 1,\"Mars\": 2, \"Jupiter\": 79, \"Saturn\": 82, \"Uranus\": 27, \"Neptune\": 14}\n",
        "dwarfs = {\"Pluto\": 5,  \"Eris\": 1}\n",
        "moons.update(dwarfs)\n",
        "print(moons)"
      ],
      "metadata": {
        "colab": {
          "base_uri": "https://localhost:8080/"
        },
        "id": "4EJ_Azd-n9Ya",
        "outputId": "b2aff34a-51b0-48ad-a90c-186174ac14af"
      },
      "execution_count": null,
      "outputs": [
        {
          "output_type": "stream",
          "name": "stdout",
          "text": [
            "{'Mercury': 0, 'Venus': 0, 'Earth': 1, 'Mars': 2, 'Jupiter': 79, 'Saturn': 82, 'Uranus': 27, 'Neptune': 14, 'Pluto': 5, 'Eris': 1}\n"
          ]
        }
      ]
    },
    {
      "cell_type": "markdown",
      "source": [
        "4. Write a Python program to convert key-values list to flat dictionary?"
      ],
      "metadata": {
        "id": "WEN9f1SAn7HX"
      }
    },
    {
      "cell_type": "code",
      "source": [
        "import pprint\n",
        "planets = {\n",
        "    'Earth': {'distance_from_sun': '149.6 million km', 'diameter': '12,742 km', 'moons': 1, 'orbital_period': '365.25 days'},\n",
        "    'Mars': {'distance_from_sun': '227.9 million km', 'diameter': '6,779 km', 'moons': 2, 'orbital_period': '687 days'}\n",
        "}\n",
        "\n",
        "dict1 = {}\n",
        "for key,value in planets.items():\n",
        "  if type(value) == dict:\n",
        "    for keys,values in value.items():\n",
        "      new_key = str(key)+\" \"+str(keys)\n",
        "      dict1[new_key] = values\n",
        "  else:\n",
        "    dict1[key] = value\n",
        "\n",
        "pprint.pprint(dict1)"
      ],
      "metadata": {
        "id": "Ov3SjEZgn_rt",
        "colab": {
          "base_uri": "https://localhost:8080/"
        },
        "outputId": "89d0074e-a5cd-4206-fa1a-85c7db131817"
      },
      "execution_count": 24,
      "outputs": [
        {
          "output_type": "stream",
          "name": "stdout",
          "text": [
            "{'Earth diameter': '12,742 km',\n",
            " 'Earth distance_from_sun': '149.6 million km',\n",
            " 'Earth moons': 1,\n",
            " 'Earth orbital_period': '365.25 days',\n",
            " 'Mars diameter': '6,779 km',\n",
            " 'Mars distance_from_sun': '227.9 million km',\n",
            " 'Mars moons': 2,\n",
            " 'Mars orbital_period': '687 days'}\n"
          ]
        }
      ]
    },
    {
      "cell_type": "markdown",
      "source": [
        "5. Write a Python program to insertion at the beginning in OrderedDict?"
      ],
      "metadata": {
        "id": "GZ1fW0fcoAW6"
      }
    },
    {
      "cell_type": "code",
      "source": [
        "from collections import OrderedDict\n",
        "\n",
        "dict_1 = OrderedDict({'akshat': 1 , 'nikhil':2})\n",
        "dict_1.update({'manjeet':'3'})\n",
        "dict_1.move_to_end('manjeet', last = False)\n",
        "\n",
        "print(dict_1)"
      ],
      "metadata": {
        "colab": {
          "base_uri": "https://localhost:8080/"
        },
        "id": "5TgSY7yQoA0d",
        "outputId": "bf045a88-fc24-47c3-b6e0-571c874d5b16"
      },
      "execution_count": 3,
      "outputs": [
        {
          "output_type": "stream",
          "name": "stdout",
          "text": [
            "OrderedDict([('manjeet', '3'), ('akshat', 1), ('nikhil', 2)])\n"
          ]
        }
      ]
    },
    {
      "cell_type": "markdown",
      "source": [
        "6. Write a Python program to check order of character in string using OrderedDict()?"
      ],
      "metadata": {
        "id": "GgY-V93apHTX"
      }
    },
    {
      "cell_type": "code",
      "source": [
        "from collections import OrderedDict\n",
        "\n",
        "def checkOrder(string, sample_str):\n",
        "    dict_1 = OrderedDict.fromkeys(string)\n",
        "    #print(dict)\n",
        "    ptr = 0\n",
        "    for key, value in dict_1.items():\n",
        "        if (key == sample_str[ptr]):\n",
        "            ptr = ptr + 1\n",
        "\n",
        "        if (ptr == (len(sample_str))):\n",
        "            return True\n",
        "\n",
        "    return False\n",
        "\n",
        "print(checkOrder('Ineuron intelligence', 'In'))"
      ],
      "metadata": {
        "id": "darwtrOcpLms",
        "colab": {
          "base_uri": "https://localhost:8080/"
        },
        "outputId": "46e8276b-d671-4a6a-c3cc-7e21f492cea6"
      },
      "execution_count": 15,
      "outputs": [
        {
          "output_type": "stream",
          "name": "stdout",
          "text": [
            "True\n"
          ]
        }
      ]
    },
    {
      "cell_type": "markdown",
      "source": [
        "7. Write a Python program to sort Python Dictionaries by Key or Value?\n"
      ],
      "metadata": {
        "id": "g-L8g5jrpMcK"
      }
    },
    {
      "cell_type": "code",
      "source": [
        "dict_1 = {\"Mercury\": 0,\"Venus\": 0,\"Earth\": 1,\"Mars\": 2, \"Jupiter\": 79, \"Saturn\": 82, \"Uranus\": 27, \"Neptune\": 14}\n",
        "sorted_dict = dict(sorted(dict_1.items()))\n",
        "print(sorted_dict)"
      ],
      "metadata": {
        "id": "M0lPjetNpZ7J",
        "colab": {
          "base_uri": "https://localhost:8080/"
        },
        "outputId": "bffb5cfc-a35a-42db-ce97-132b06ce40d6"
      },
      "execution_count": 1,
      "outputs": [
        {
          "output_type": "stream",
          "name": "stdout",
          "text": [
            "{'Earth': 1, 'Jupiter': 79, 'Mars': 2, 'Mercury': 0, 'Neptune': 14, 'Saturn': 82, 'Uranus': 27, 'Venus': 0}\n"
          ]
        }
      ]
    }
  ]
}