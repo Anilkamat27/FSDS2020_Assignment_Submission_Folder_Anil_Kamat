{
  "nbformat": 4,
  "nbformat_minor": 0,
  "metadata": {
    "colab": {
      "provenance": []
    },
    "kernelspec": {
      "name": "python3",
      "display_name": "Python 3"
    },
    "language_info": {
      "name": "python"
    }
  },
  "cells": [
    {
      "cell_type": "markdown",
      "source": [
        "1. Create a list called years_list, starting with the year of your birth, and each year thereafter until the year of your fifth birthday. For example, if you were born in 1980. the list would be years_list = [1980, 1981, 1982, 1983, 1984, 1985]."
      ],
      "metadata": {
        "id": "0Xc4zQg6TJyD"
      }
    },
    {
      "cell_type": "code",
      "execution_count": 20,
      "metadata": {
        "id": "_A_uym3zTBIH"
      },
      "outputs": [],
      "source": [
        "years_list = [2001,2002,2003,2004,2005 ,2006]"
      ]
    },
    {
      "cell_type": "markdown",
      "source": [
        "2. In which year in years_list was your third birthday? Remember, you were 0 years of age for your first year."
      ],
      "metadata": {
        "id": "DhjOqhpnUF3u"
      }
    },
    {
      "cell_type": "code",
      "source": [
        "years_list[3]"
      ],
      "metadata": {
        "colab": {
          "base_uri": "https://localhost:8080/"
        },
        "id": "t308GbCHTn4P",
        "outputId": "8ded268f-ea28-413a-cfb5-c826be397fa3"
      },
      "execution_count": 21,
      "outputs": [
        {
          "output_type": "execute_result",
          "data": {
            "text/plain": [
              "2004"
            ]
          },
          "metadata": {},
          "execution_count": 21
        }
      ]
    },
    {
      "cell_type": "markdown",
      "source": [
        "3.In the years list, which year were you the oldest?"
      ],
      "metadata": {
        "id": "bU0ehureUaPD"
      }
    },
    {
      "cell_type": "code",
      "source": [
        "max(years_list)"
      ],
      "metadata": {
        "colab": {
          "base_uri": "https://localhost:8080/"
        },
        "id": "DtCUWX3KULpo",
        "outputId": "6f2fd789-5de5-45e2-b98b-0f5e26e51120"
      },
      "execution_count": 22,
      "outputs": [
        {
          "output_type": "execute_result",
          "data": {
            "text/plain": [
              "2006"
            ]
          },
          "metadata": {},
          "execution_count": 22
        }
      ]
    },
    {
      "cell_type": "markdown",
      "source": [
        "4. Make a list called things with these three strings as elements: \"mozzarella\", \"cinderella\", \"salmonella\"."
      ],
      "metadata": {
        "id": "7UvPuON1VM93"
      }
    },
    {
      "cell_type": "code",
      "source": [
        "things = [\"mozzarella\", \"cinderella\", \"salmonella\"]"
      ],
      "metadata": {
        "id": "_ifvgNFAUtRM"
      },
      "execution_count": 23,
      "outputs": []
    },
    {
      "cell_type": "markdown",
      "source": [
        "User\n",
        "5. Capitalize the element in things that refers to a person and then print the list. Did it change the element in the list?"
      ],
      "metadata": {
        "id": "6m8KbBn7VtR1"
      }
    },
    {
      "cell_type": "code",
      "source": [
        "things[1] = things[1].capitalize()\n",
        "print(things)"
      ],
      "metadata": {
        "colab": {
          "base_uri": "https://localhost:8080/"
        },
        "id": "MztD8Q7EVYoA",
        "outputId": "85fdf9c3-4c77-4738-ada5-6741db5fbd11"
      },
      "execution_count": 24,
      "outputs": [
        {
          "output_type": "stream",
          "name": "stdout",
          "text": [
            "['mozzarella', 'Cinderella', 'salmonella']\n"
          ]
        }
      ]
    },
    {
      "cell_type": "markdown",
      "source": [
        "6. Make a surprise list with the elements \"Groucho,\" \"Chico,\" and \"Harpo.\""
      ],
      "metadata": {
        "id": "vHCC5QFkV0iw"
      }
    },
    {
      "cell_type": "code",
      "source": [
        "surprise = [\"Groucho\", \"Chico\",\"Harpo\"]"
      ],
      "metadata": {
        "id": "54hc-DhZVrz1"
      },
      "execution_count": 25,
      "outputs": []
    },
    {
      "cell_type": "markdown",
      "source": [
        "7. Lowercase the last element of the surprise list, reverse it, and then capitalize it."
      ],
      "metadata": {
        "id": "Ii_LYdHSXbLc"
      }
    },
    {
      "cell_type": "code",
      "source": [
        "last = surprise[-1].lower()\n",
        "reverse = last[::-1]\n",
        "capitalized = reverse.capitalize()\n",
        "surprise[-1] = capitalized\n",
        "print(surprise)"
      ],
      "metadata": {
        "colab": {
          "base_uri": "https://localhost:8080/"
        },
        "id": "_LUPlo82V7NK",
        "outputId": "990558ca-afa7-4514-f25c-c90248cb98a7"
      },
      "execution_count": 26,
      "outputs": [
        {
          "output_type": "stream",
          "name": "stdout",
          "text": [
            "['Groucho', 'Chico', 'Oprah']\n"
          ]
        }
      ]
    },
    {
      "cell_type": "markdown",
      "source": [
        "8. Make an English-to-French dictionary called e2f and print it. Here are your starter words: dog is chien, cat is chat, and walrus is morse."
      ],
      "metadata": {
        "id": "dNJTNGViYObp"
      }
    },
    {
      "cell_type": "code",
      "source": [
        "e2f = {'dog': 'chien','cat': 'chat','walrus': 'morse'}\n",
        "print(e2f)"
      ],
      "metadata": {
        "colab": {
          "base_uri": "https://localhost:8080/"
        },
        "id": "d8QhTcwvWkMf",
        "outputId": "3df72a99-57f1-44fa-d553-cc975b02efea"
      },
      "execution_count": 27,
      "outputs": [
        {
          "output_type": "stream",
          "name": "stdout",
          "text": [
            "{'dog': 'chien', 'cat': 'chat', 'walrus': 'morse'}\n"
          ]
        }
      ]
    },
    {
      "cell_type": "markdown",
      "source": [
        "9. Write the French word for walrus in your three-word dictionary e2f."
      ],
      "metadata": {
        "id": "fZVOqoWUYjNv"
      }
    },
    {
      "cell_type": "code",
      "source": [
        "french = e2f['walrus']\n",
        "print(french)"
      ],
      "metadata": {
        "colab": {
          "base_uri": "https://localhost:8080/"
        },
        "id": "1Yh-reIUYMAE",
        "outputId": "02c79c57-83e4-42d4-f359-78054b869334"
      },
      "execution_count": 28,
      "outputs": [
        {
          "output_type": "stream",
          "name": "stdout",
          "text": [
            "morse\n"
          ]
        }
      ]
    },
    {
      "cell_type": "markdown",
      "source": [
        "10. Make a French-to-English dictionary called f2e from e2f. Use the items method."
      ],
      "metadata": {
        "id": "Nd5-Y-EaYmos"
      }
    },
    {
      "cell_type": "code",
      "source": [
        "f2e = {}\n",
        "for key, value in e2f.items():\n",
        "    f2e[value] = key\n",
        "print(f2e)"
      ],
      "metadata": {
        "id": "qH__2GymYiAr",
        "colab": {
          "base_uri": "https://localhost:8080/"
        },
        "outputId": "6f69cb6f-3183-4f39-f62c-6b0ee2769e8a"
      },
      "execution_count": 29,
      "outputs": [
        {
          "output_type": "stream",
          "name": "stdout",
          "text": [
            "{'chien': 'dog', 'chat': 'cat', 'morse': 'walrus'}\n"
          ]
        }
      ]
    },
    {
      "cell_type": "markdown",
      "source": [
        "11. Print the English version of the French word chien using f2e."
      ],
      "metadata": {
        "id": "n-VdwsxBoJcO"
      }
    },
    {
      "cell_type": "code",
      "source": [
        "print(f2e['chien'])"
      ],
      "metadata": {
        "colab": {
          "base_uri": "https://localhost:8080/"
        },
        "id": "tJVSUKuCoAsT",
        "outputId": "8a72114a-8235-49e5-c6eb-c249af31a0dc"
      },
      "execution_count": 31,
      "outputs": [
        {
          "output_type": "stream",
          "name": "stdout",
          "text": [
            "dog\n"
          ]
        }
      ]
    },
    {
      "cell_type": "markdown",
      "source": [
        "12. Make and print a set of English words from the keys in e2f."
      ],
      "metadata": {
        "id": "4B6pbOQZpFPH"
      }
    },
    {
      "cell_type": "code",
      "source": [
        "english_words = set(e2f.keys())\n",
        "print(english_words)"
      ],
      "metadata": {
        "colab": {
          "base_uri": "https://localhost:8080/"
        },
        "id": "aCqTPB8ko7K4",
        "outputId": "bb990c3a-1354-483f-90c3-a987776fe694"
      },
      "execution_count": 32,
      "outputs": [
        {
          "output_type": "stream",
          "name": "stdout",
          "text": [
            "{'cat', 'dog', 'walrus'}\n"
          ]
        }
      ]
    },
    {
      "cell_type": "markdown",
      "source": [
        "13. Make a multilevel dictionary called life. Use these strings for the topmost keys: 'animals', 'plants', and 'other'. Make the 'animals' key refer to another dictionary with the keys 'cats', 'octopi', and 'emus'. Make the 'cats' key refer to a list of strings with the values 'Henri', 'Grumpy', and 'Lucy'. Make all the other keys refer to empty dictionaries."
      ],
      "metadata": {
        "id": "f-gWPJaRp_nm"
      }
    },
    {
      "cell_type": "code",
      "source": [
        "life = {'animals':\n",
        " {'cats': ['Henri', 'Grumpy', 'Lucy'],\n",
        " 'octopi': {},\n",
        "  'emus': {}},\n",
        "  'plants': {},'other': {}}\n",
        "\n",
        "print(life)\n"
      ],
      "metadata": {
        "colab": {
          "base_uri": "https://localhost:8080/"
        },
        "id": "TwQjk3QypWQ2",
        "outputId": "c58fcd34-b6ea-41ef-83b2-e9a2e209676a"
      },
      "execution_count": 37,
      "outputs": [
        {
          "output_type": "stream",
          "name": "stdout",
          "text": [
            "{'animals': {'cats': ['Henri', 'Grumpy', 'Lucy'], 'octopi': {}, 'emus': {}}, 'plants': {}, 'other': {}}\n"
          ]
        }
      ]
    },
    {
      "cell_type": "markdown",
      "source": [
        "14. Print the top-level keys of life."
      ],
      "metadata": {
        "id": "FaM7m8r_qaWn"
      }
    },
    {
      "cell_type": "code",
      "source": [
        "print(life.keys())"
      ],
      "metadata": {
        "colab": {
          "base_uri": "https://localhost:8080/"
        },
        "id": "SU1FNg0Rp7ts",
        "outputId": "8895481e-18d0-4b05-b146-a360e9eaefc6"
      },
      "execution_count": 34,
      "outputs": [
        {
          "output_type": "stream",
          "name": "stdout",
          "text": [
            "dict_keys(['animals', 'plants', 'other'])\n"
          ]
        }
      ]
    },
    {
      "cell_type": "markdown",
      "source": [
        "15. Print the keys for life['animals']."
      ],
      "metadata": {
        "id": "GCUv3kNaqeER"
      }
    },
    {
      "cell_type": "code",
      "source": [
        "print(life['animals'].keys())"
      ],
      "metadata": {
        "colab": {
          "base_uri": "https://localhost:8080/"
        },
        "id": "kV1AVwYMqY4t",
        "outputId": "95f56700-0fa4-442f-d0bb-552d1d786913"
      },
      "execution_count": 35,
      "outputs": [
        {
          "output_type": "stream",
          "name": "stdout",
          "text": [
            "dict_keys(['cats', 'octopi', 'emus'])\n"
          ]
        }
      ]
    },
    {
      "cell_type": "markdown",
      "source": [
        "16. Print the values for life['animals']['cats']"
      ],
      "metadata": {
        "id": "7zvlp3mZqysj"
      }
    },
    {
      "cell_type": "code",
      "source": [
        "print(life['animals']['cats'])"
      ],
      "metadata": {
        "colab": {
          "base_uri": "https://localhost:8080/"
        },
        "id": "pySBH95QqsgG",
        "outputId": "d622ebcc-a2ea-4f00-e6af-b3bc00f08bed"
      },
      "execution_count": 36,
      "outputs": [
        {
          "output_type": "stream",
          "name": "stdout",
          "text": [
            "['Henri', 'Grumpy', 'Lucy']\n"
          ]
        }
      ]
    },
    {
      "cell_type": "code",
      "source": [],
      "metadata": {
        "id": "P2F69RSOq3-Z"
      },
      "execution_count": null,
      "outputs": []
    }
  ]
}