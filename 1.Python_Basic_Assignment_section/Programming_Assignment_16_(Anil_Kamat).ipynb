{
  "nbformat": 4,
  "nbformat_minor": 0,
  "metadata": {
    "colab": {
      "provenance": []
    },
    "kernelspec": {
      "name": "python3",
      "display_name": "Python 3"
    },
    "language_info": {
      "name": "python"
    }
  },
  "cells": [
    {
      "cell_type": "markdown",
      "source": [
        "Question1. Write a function that stutters a word as if someone is struggling to read it. Thefirst two letters are repeated twice with an ellipsis ... and space after each, and then the word is pronounced with a question mark ?.\n",
        "\n",
        "Examples\n",
        "\n",
        "stutter(&quot;incredible&quot;) ➞ &quot;in... in... incredible?&quot;\n",
        "\n",
        "stutter(&quot;enthusiastic&quot;) ➞ &quot;en... en... enthusiastic?&quot;\n",
        "\n",
        "stutter(&quot;outstanding&quot;) ➞ &quot;ou... ou... outstanding?&quot;\n",
        "\n",
        "Hint :- Assume all input is in lower case and at least two characters long."
      ],
      "metadata": {
        "id": "ciP5g3iYwAF3"
      }
    },
    {
      "cell_type": "code",
      "execution_count": null,
      "metadata": {
        "colab": {
          "base_uri": "https://localhost:8080/"
        },
        "id": "d5rwbnqFv50x",
        "outputId": "bfb9621a-2cb6-4069-bc37-9361480492c9"
      },
      "outputs": [
        {
          "output_type": "stream",
          "name": "stdout",
          "text": [
            "enthusiastic\n",
            "en...en...enthusiastic?\n"
          ]
        }
      ],
      "source": [
        "def stutter(string):\n",
        "  print(f\"{string[0:2]}...{string[0:2]}...{string[:]}?\")\n",
        "\n",
        "s = input()\n",
        "stutter(s)"
      ]
    },
    {
      "cell_type": "markdown",
      "source": [
        "Question 2.Create a function that takes an angle in radians and returns the corresponding\n",
        "angle in degrees rounded to one decimal place.\n",
        "\n",
        "Examples\n",
        "\n",
        "radians_to_degrees(1) ➞ 57.3\n",
        "\n",
        "radians_to_degrees(20) ➞ 1145.9\n",
        "\n",
        "radians_to_degrees(50) ➞ 2864.8"
      ],
      "metadata": {
        "id": "niTraTBUwQKC"
      }
    },
    {
      "cell_type": "code",
      "source": [
        "import math\n",
        "def radians_to_degrees(rad):\n",
        "  degree = rad * (180/math.pi)\n",
        "  return round(degree,1)\n",
        "\n",
        "d = int(input(\"Enter degree : \"))\n",
        "print(radians_to_degrees(d))"
      ],
      "metadata": {
        "colab": {
          "base_uri": "https://localhost:8080/"
        },
        "id": "cXlaU992wTkJ",
        "outputId": "170a24ac-aa6f-44f6-8d9a-2add01dfefc0"
      },
      "execution_count": 20,
      "outputs": [
        {
          "output_type": "stream",
          "name": "stdout",
          "text": [
            "Enter degree : 20\n",
            "1145.9\n"
          ]
        }
      ]
    },
    {
      "cell_type": "markdown",
      "source": [
        "**Question 3.** In this challenge, establish if a given integer num is a Curzon number. If 1 plus\n",
        "2 elevated to num is exactly divisible by 1 plus 2 multiplied by num, then num is a Curzon\n",
        "number.\n",
        "\n",
        "Given a non-negative integer num, implement a function that returns True if num is a Curzon\n",
        "number, or False otherwise.\n",
        "\n",
        "**Examples**\n",
        "\n",
        "**is_curzon(5) ➞ True**\n",
        "\n",
        "2 ** 5 + 1 = 33\n",
        "\n",
        "2 * 5 + 1 = 11\n",
        "\n",
        "33 is a multiple of 11\n",
        "\n",
        "**is_curzon(10) ➞ False**\n",
        "\n",
        "2 ** 10 + 1 = 1025\n",
        "\n",
        "2 * 10 + 1 = 21\n",
        "\n",
        "1025 is not a multiple of 21\n",
        "\n",
        "is_curzon(14) ➞ True\n",
        "\n",
        "2 ** 14 + 1 = 16385\n",
        "\n",
        "2 * 14 + 1 = 29\n",
        "\n",
        "16385 is a multiple of 29"
      ],
      "metadata": {
        "id": "YaAYhd-5wUon"
      }
    },
    {
      "cell_type": "code",
      "source": [
        "def curzon(num):\n",
        "  first_test = (2 ** num) + 1\n",
        "  second_test = (2 * num) + 1\n",
        "  if first_test % second_test == 0 :\n",
        "    return True\n",
        "  else :\n",
        "    return False\n",
        "n = int(input())\n",
        "print(curzon(n))"
      ],
      "metadata": {
        "id": "PU-EIfvtxBIW",
        "colab": {
          "base_uri": "https://localhost:8080/"
        },
        "outputId": "0fb5ba65-f99a-46d3-ce87-ffa962c9834f"
      },
      "execution_count": null,
      "outputs": [
        {
          "output_type": "stream",
          "name": "stdout",
          "text": [
            "5\n",
            "True\n"
          ]
        }
      ]
    },
    {
      "cell_type": "markdown",
      "source": [
        "Question 4.Given the side length x find the area of a hexagon.\n",
        "\n",
        "Examples\n",
        "\n",
        "area_of_hexagon(1) ➞ 2.6\n",
        "\n",
        "area_of_hexagon(2) ➞ 10.4\n",
        "\n",
        "area_of_hexagon(3) ➞ 23.4"
      ],
      "metadata": {
        "id": "s-2es_R9xGdz"
      }
    },
    {
      "cell_type": "code",
      "source": [
        "import math\n",
        "def area_of_hexagon(num):\n",
        "  res = (3* (math.sqrt(3))*(num)**2)/2\n",
        "  return round(res,1)\n",
        "\n",
        "n = int(input())\n",
        "print(area_of_hexagon(n))"
      ],
      "metadata": {
        "id": "S2XDcPVaxNVz",
        "colab": {
          "base_uri": "https://localhost:8080/"
        },
        "outputId": "72f41c0f-17fd-4921-bd9d-ff44437f6093"
      },
      "execution_count": null,
      "outputs": [
        {
          "output_type": "stream",
          "name": "stdout",
          "text": [
            "1\n",
            "2.6\n"
          ]
        }
      ]
    },
    {
      "cell_type": "markdown",
      "source": [
        "Question 5. Create a function that returns a base-2 (binary) representation of a base-10\n",
        "(decimal) string number. To convert is simple: ((2) means base-2 and (10) means base-10)\n",
        "010101001(2) = 1 + 8 + 32 + 128.\n",
        "\n",
        "Going from right to left, the value of the most right bit is 1, now from that every bit to the left\n",
        "will be x2 the value, value of an 8 bit binary numbers are (256, 128, 64, 32, 16, 8, 4, 2, 1).\n",
        "\n",
        "Examples\n",
        "\n",
        "binary(1) ➞ &quot;1&quot;\n",
        "\n",
        "1*1 = 1\n",
        "\n",
        "binary(5) ➞ &quot;101&quot;\n",
        "\n",
        "1*1 + 1*4 = 5\n",
        "\n",
        "binary(10) ➞ &quot;1010&quot;\n",
        "\n",
        "1*2 + 1*8 = 10"
      ],
      "metadata": {
        "id": "Rcy4w5DBxQxo"
      }
    },
    {
      "cell_type": "code",
      "source": [
        "def Binary_to_decimal(num):\n",
        "  l = len(num)-1\n",
        "  res =0\n",
        "  for i in num :\n",
        "    i2 = int(i)\n",
        "    res += i2* (2**l)\n",
        "    l -= 1\n",
        "  return res\n",
        "\n",
        "n = list(input())\n",
        "\n",
        "print(Binary_to_decimal(n))\n"
      ],
      "metadata": {
        "id": "MTxOsxiyxfY_",
        "colab": {
          "base_uri": "https://localhost:8080/"
        },
        "outputId": "76459a1d-ad02-49d1-b05c-1aae400efcc4"
      },
      "execution_count": 19,
      "outputs": [
        {
          "output_type": "stream",
          "name": "stdout",
          "text": [
            "1010\n",
            "10\n"
          ]
        }
      ]
    },
    {
      "cell_type": "code",
      "source": [],
      "metadata": {
        "id": "XiBrEyxV4D85"
      },
      "execution_count": null,
      "outputs": []
    }
  ]
}