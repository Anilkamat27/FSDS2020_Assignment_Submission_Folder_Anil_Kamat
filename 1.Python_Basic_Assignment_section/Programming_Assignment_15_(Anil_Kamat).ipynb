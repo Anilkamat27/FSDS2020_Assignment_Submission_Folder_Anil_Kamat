{
  "nbformat": 4,
  "nbformat_minor": 0,
  "metadata": {
    "colab": {
      "provenance": []
    },
    "kernelspec": {
      "name": "python3",
      "display_name": "Python 3"
    },
    "language_info": {
      "name": "python"
    }
  },
  "cells": [
    {
      "cell_type": "markdown",
      "source": [
        "Question 1:\n",
        "\n",
        "Please write a program using generator to print the numbers which can be divisible by 5 and 7 between 0 and n in comma separated form while n is input by console.\n",
        "\n",
        "Example:\n",
        "\n",
        "If the following n is given as input to the program:\n",
        "\n",
        "100\n",
        "\n",
        "Then, the output of the program should be:\n",
        "\n",
        "0,35,70"
      ],
      "metadata": {
        "id": "Ukw1qq9suYRi"
      }
    },
    {
      "cell_type": "code",
      "execution_count": null,
      "metadata": {
        "id": "_z8vjICOuPIu",
        "colab": {
          "base_uri": "https://localhost:8080/"
        },
        "outputId": "831fb384-ddaa-480e-9a2e-9782b8ddb215"
      },
      "outputs": [
        {
          "output_type": "stream",
          "name": "stdout",
          "text": [
            "Enter n : 100\n",
            "0,35,70\n"
          ]
        }
      ],
      "source": [
        "def generator(n):\n",
        "  R_list = range(0,n+1)\n",
        "  for i in R_list:\n",
        "    if i % 7 == 0 and i % 5 ==0 :\n",
        "      yield i\n",
        "\n",
        "n = int(input('Enter n : '))\n",
        "list_1 = list(generator(n))\n",
        "string = ','.join(map(str, list_1))\n",
        "print(string)"
      ]
    },
    {
      "cell_type": "markdown",
      "source": [
        "Question 2:\n",
        "\n",
        "Please write a program using generator to print the even numbers between 0 and n in comma separated form while n is input by console.\n",
        "\n",
        "Example:\n",
        "\n",
        "If the following n is given as input to the program:\n",
        "\n",
        "10\n",
        "\n",
        "Then, the output of the program should be:\n",
        "\n",
        "0,2,4,6,8,10"
      ],
      "metadata": {
        "id": "7XE1SWp2uqDX"
      }
    },
    {
      "cell_type": "code",
      "source": [
        "def generator(n):\n",
        "  R_list = range(0,n+1)\n",
        "  for i in R_list:\n",
        "    if i % 2 == 0 :\n",
        "      yield i\n",
        "\n",
        "n = int(input('Enter n : '))\n",
        "list_1 = list(generator(n))\n",
        "string = ','.join(map(str, list_1))\n",
        "print(string)"
      ],
      "metadata": {
        "id": "p3ekD3Jeuu4b",
        "colab": {
          "base_uri": "https://localhost:8080/"
        },
        "outputId": "b0a6a234-7e2b-4fa2-988f-557659850d15"
      },
      "execution_count": null,
      "outputs": [
        {
          "output_type": "stream",
          "name": "stdout",
          "text": [
            "Enter n : 10\n",
            "0,2,4,6,8,10\n"
          ]
        }
      ]
    },
    {
      "cell_type": "markdown",
      "source": [
        "Question 3:\n",
        "\n",
        "The Fibonacci Sequence is computed based on the following formula:\n",
        "\n",
        "f(n)=0 if n=0\n",
        "\n",
        "f(n)=1 if n=1\n",
        "\n",
        "f(n)=f(n-1)+f(n-2) if n&gt;1\n",
        "\n",
        "Please write a program using list comprehension to print the Fibonacci Sequence in comma\n",
        "separated form with a given n input by console.\n",
        "\n",
        "Example:\n",
        "If the following n is given as input to the program:\n",
        "\n",
        "7\n",
        "\n",
        "Then, the output of the program should be:\n",
        "\n",
        "0,1,1,2,3,5,8,13"
      ],
      "metadata": {
        "id": "_JEbQyDZuv3a"
      }
    },
    {
      "cell_type": "code",
      "source": [
        "n = int(input(\"Enter a number: \"))\n",
        "if n > 1:\n",
        "  list_1 = [0,1]\n",
        "  [list_1.append(list_1 [-2]+list_1[-1]) for i in range(0,n-1)]\n",
        "string = ','.join(map(str, list_1))\n",
        "print(string)"
      ],
      "metadata": {
        "id": "mLHCg0rtu3-e",
        "colab": {
          "base_uri": "https://localhost:8080/"
        },
        "outputId": "1a0a42d4-46f7-4ad1-9cdf-784711cebad2"
      },
      "execution_count": 5,
      "outputs": [
        {
          "output_type": "stream",
          "name": "stdout",
          "text": [
            "Enter a number: 7\n",
            "0,1,1,2,3,5,8,13\n"
          ]
        }
      ]
    },
    {
      "cell_type": "markdown",
      "source": [
        "Question 4:\n",
        "Assuming that we have some email addresses in the &quot;username@companyname.com&quot; format, please write program to print the user name of a given email address. Both user names and company names are composed of letters only.\n",
        "\n",
        "Example:\n",
        "\n",
        "If the following email address is given as input to the program:\n",
        "\n",
        "john@google.com\n",
        "\n",
        "\n",
        "Then, the output of the program should be:\n",
        "\n",
        "john"
      ],
      "metadata": {
        "id": "kKkF3nquvEgp"
      }
    },
    {
      "cell_type": "code",
      "source": [
        "string = input(\"Enter string :\")\n",
        "data1 = string.split('@')\n",
        "print(data1[0])"
      ],
      "metadata": {
        "id": "FV7FlZY4vZYW",
        "colab": {
          "base_uri": "https://localhost:8080/"
        },
        "outputId": "7b146fff-961d-4cbf-ff8f-40534938264a"
      },
      "execution_count": 7,
      "outputs": [
        {
          "output_type": "stream",
          "name": "stdout",
          "text": [
            "Enter string :john@google.com\n",
            "john\n"
          ]
        }
      ]
    },
    {
      "cell_type": "markdown",
      "source": [
        "Question 5:\n",
        "\n",
        "Define a class named Shape and its subclass Square. The Square class has an init function\n",
        "which takes a length as argument. Both classes have a area function which can print the area\n",
        "of the shape where Shape&#39;s area is 0 by default."
      ],
      "metadata": {
        "id": "l9OzL83evczc"
      }
    },
    {
      "cell_type": "code",
      "source": [
        "class Shape:\n",
        "  def __init__(self):\n",
        "    self.area = 0\n",
        "\n",
        "  def area(self):\n",
        "    print(\"area of the shape:\", self.area)\n",
        "\n",
        "class Square(Shape):\n",
        "  def __init__(self, length):\n",
        "    super().__init__()\n",
        "    self.length = length\n",
        "\n",
        "  def Sarea(self):\n",
        "    self.area = self.length ** 2\n",
        "    print(\"Area of the square:\", self.area)\n",
        "\n",
        "s2 = Square(2)\n",
        "s2.Sarea()"
      ],
      "metadata": {
        "id": "7dUaOsNcvfCI",
        "colab": {
          "base_uri": "https://localhost:8080/"
        },
        "outputId": "67744e1f-8896-4f50-9235-da3cad19a2ba"
      },
      "execution_count": 13,
      "outputs": [
        {
          "output_type": "stream",
          "name": "stdout",
          "text": [
            "Area of the square: 4\n"
          ]
        }
      ]
    },
    {
      "cell_type": "code",
      "source": [],
      "metadata": {
        "id": "Bm8JglniZ5IP"
      },
      "execution_count": null,
      "outputs": []
    }
  ]
}