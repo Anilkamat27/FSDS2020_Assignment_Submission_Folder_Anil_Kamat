{
  "cells": [
    {
      "cell_type": "markdown",
      "id": "7947aaa7",
      "metadata": {
        "id": "7947aaa7"
      },
      "source": [
        "1. Add the current date to the text file today.txt as a string."
      ]
    },
    {
      "cell_type": "code",
      "execution_count": null,
      "id": "252cab28",
      "metadata": {
        "id": "252cab28"
      },
      "outputs": [],
      "source": [
        "import datetime\n",
        "from datetime import date\n",
        "Today= date.today()\n",
        "date = Today.isoformat()\n",
        "with open('today.txt','w') as file:\n",
        "    file.write(date)"
      ]
    },
    {
      "cell_type": "markdown",
      "id": "4021fb65",
      "metadata": {
        "id": "4021fb65"
      },
      "source": [
        "2. Read the text file today.txt into the string today_string"
      ]
    },
    {
      "cell_type": "code",
      "execution_count": null,
      "id": "15800a55",
      "metadata": {
        "id": "15800a55",
        "outputId": "3c9486ad-e849-48bc-8c3d-8bc29c370f54"
      },
      "outputs": [
        {
          "name": "stdout",
          "output_type": "stream",
          "text": [
            "2023-06-26\n"
          ]
        }
      ],
      "source": [
        "with open('today.txt','r') as file:\n",
        "    today_string = file.read()\n",
        "print(today_string)"
      ]
    },
    {
      "cell_type": "markdown",
      "id": "5b7fcffa",
      "metadata": {
        "id": "5b7fcffa"
      },
      "source": [
        "3. Parse the date from today_string."
      ]
    },
    {
      "cell_type": "code",
      "execution_count": null,
      "id": "9730dd8e",
      "metadata": {
        "id": "9730dd8e"
      },
      "outputs": [],
      "source": [
        "from datetime import datetime\n",
        "datep = datetime.strptime(today_string, \"%Y-%m-%d\")\n",
        "parsed = datep.date()"
      ]
    },
    {
      "cell_type": "markdown",
      "id": "703d3546",
      "metadata": {
        "id": "703d3546"
      },
      "source": [
        "4. List the files in your current directory"
      ]
    },
    {
      "cell_type": "code",
      "execution_count": null,
      "id": "e62b7cdf",
      "metadata": {
        "id": "e62b7cdf",
        "outputId": "ebe3d1d3-5196-4f53-fa7a-162801744490"
      },
      "outputs": [
        {
          "data": {
            "text/plain": [
              "['.ipynb_checkpoints', 'Assignment_21 (Anil Kamat).ipynb', 'today.txt']"
            ]
          },
          "execution_count": 2,
          "metadata": {},
          "output_type": "execute_result"
        }
      ],
      "source": [
        "import os\n",
        "os.listdir('.')"
      ]
    },
    {
      "cell_type": "markdown",
      "id": "c0aa863b",
      "metadata": {
        "id": "c0aa863b"
      },
      "source": [
        "5.\tCreate a list of all of the files in your parent directory (minimum five files should be available)."
      ]
    },
    {
      "cell_type": "code",
      "execution_count": null,
      "id": "08bff251",
      "metadata": {
        "id": "08bff251",
        "outputId": "d3e475e2-5f14-4f3d-f5c7-a08bde894581"
      },
      "outputs": [
        {
          "name": "stdout",
          "output_type": "stream",
          "text": [
            ".ipynb_checkpoints\n",
            ".~Untitled.ipynb\n",
            "Anil - Chrome.lnk\n",
            "desktop.ini\n",
            "Free Desktop Timer.lnk\n",
            "hosts\n",
            "Ineuron Assignment\n",
            "Microsoft Edge.lnk\n",
            "PrashPriNtInorganic\n",
            "Untitled Folder\n",
            "Untitled Folder 1\n",
            "Untitled.ipynb\n",
            "Word.lnk\n",
            "Zoom.lnk\n"
          ]
        }
      ],
      "source": [
        "parent_directory = os.path.dirname(os.getcwd())\n",
        "files = os.listdir(parent_directory)\n",
        "for i in files:\n",
        "    print(i)"
      ]
    },
    {
      "cell_type": "markdown",
      "id": "413e2847",
      "metadata": {
        "id": "413e2847"
      },
      "source": [
        "6. Use multiprocessing to create three separate processes. Make each one wait a random number of seconds between one and five, print the current time, and then exit."
      ]
    },
    {
      "cell_type": "code",
      "execution_count": 2,
      "id": "58bd1d27",
      "metadata": {
        "colab": {
          "base_uri": "https://localhost:8080/"
        },
        "id": "58bd1d27",
        "outputId": "6cad11b4-64c2-4e23-b435-fc31aba68908"
      },
      "outputs": [
        {
          "output_type": "stream",
          "name": "stdout",
          "text": [
            "Done Sleeping....\n",
            "Current time: 2023-06-26 19:15:11\n",
            "Done Sleeping....\n",
            "Current time: 2023-06-26 19:15:13\n",
            "Done Sleeping....\n",
            "Current time: 2023-06-26 19:15:13\n"
          ]
        }
      ],
      "source": [
        "import multiprocessing\n",
        "import random\n",
        "import time\n",
        "from datetime import datetime\n",
        "\n",
        "start = time.perf_counter()\n",
        "\n",
        "def do_something():\n",
        "    x = random.randint(1, 5)\n",
        "    time.sleep(x)\n",
        "    print('Done Sleeping....')\n",
        "    current_time = datetime.now().strftime(\"%Y-%m-%d %H:%M:%S\")\n",
        "    print(f\"Current time: {current_time}\")\n",
        "\n",
        "\n",
        "p1 = multiprocessing.Process(target=do_something)\n",
        "p2 = multiprocessing.Process(target=do_something)\n",
        "p3 = multiprocessing.Process(target=do_something)\n",
        "\n",
        "p1.start()\n",
        "p2.start()\n",
        "p3.start()\n",
        "\n",
        "p1.join()\n",
        "p2.join()\n",
        "p3.join()"
      ]
    },
    {
      "cell_type": "markdown",
      "id": "aab36b09",
      "metadata": {
        "id": "aab36b09"
      },
      "source": [
        "7.\tCreate a date object of your day of birth."
      ]
    },
    {
      "cell_type": "code",
      "execution_count": null,
      "id": "df87e551",
      "metadata": {
        "id": "df87e551"
      },
      "outputs": [],
      "source": [
        "import datetime\n",
        "from datetime import date\n",
        "\n",
        "dob = date(2001,9,27)"
      ]
    },
    {
      "cell_type": "markdown",
      "id": "2f6c1aea",
      "metadata": {
        "id": "2f6c1aea"
      },
      "source": [
        "8. What day of the week was your day of birth?"
      ]
    },
    {
      "cell_type": "code",
      "execution_count": null,
      "id": "d6511ddd",
      "metadata": {
        "id": "d6511ddd",
        "outputId": "13d902ba-5537-44c8-bcda-c7cf89f647c4"
      },
      "outputs": [
        {
          "data": {
            "text/plain": [
              "3"
            ]
          },
          "execution_count": 8,
          "metadata": {},
          "output_type": "execute_result"
        }
      ],
      "source": [
        "dob.weekday()"
      ]
    },
    {
      "cell_type": "markdown",
      "id": "26e1efda",
      "metadata": {
        "id": "26e1efda"
      },
      "source": [
        "9.\tWhen will you be (or when were you) 10,000 days old?"
      ]
    },
    {
      "cell_type": "code",
      "execution_count": null,
      "id": "3f76c471",
      "metadata": {
        "id": "3f76c471"
      },
      "outputs": [],
      "source": [
        "from datetime import timedelta\n",
        "day = my_dob + timedelta(days=10000)"
      ]
    },
    {
      "cell_type": "code",
      "execution_count": null,
      "id": "a05e571e",
      "metadata": {
        "id": "a05e571e",
        "outputId": "9eb49f24-d307-4b93-c74b-dd31b940e60a"
      },
      "outputs": [
        {
          "name": "stdout",
          "output_type": "stream",
          "text": [
            "2029-02-12\n"
          ]
        }
      ],
      "source": [
        "print(day)"
      ]
    },
    {
      "cell_type": "code",
      "execution_count": null,
      "id": "c8c80e65",
      "metadata": {
        "id": "c8c80e65"
      },
      "outputs": [],
      "source": []
    }
  ],
  "metadata": {
    "kernelspec": {
      "display_name": "Python 3 (ipykernel)",
      "language": "python",
      "name": "python3"
    },
    "language_info": {
      "codemirror_mode": {
        "name": "ipython",
        "version": 3
      },
      "file_extension": ".py",
      "mimetype": "text/x-python",
      "name": "python",
      "nbconvert_exporter": "python",
      "pygments_lexer": "ipython3",
      "version": "3.10.10"
    },
    "colab": {
      "provenance": []
    }
  },
  "nbformat": 4,
  "nbformat_minor": 5
}