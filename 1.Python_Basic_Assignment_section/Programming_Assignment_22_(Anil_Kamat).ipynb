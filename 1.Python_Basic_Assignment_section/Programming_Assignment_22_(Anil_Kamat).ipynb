{
  "nbformat": 4,
  "nbformat_minor": 0,
  "metadata": {
    "colab": {
      "provenance": []
    },
    "kernelspec": {
      "name": "python3",
      "display_name": "Python 3"
    },
    "language_info": {
      "name": "python"
    }
  },
  "cells": [
    {
      "cell_type": "markdown",
      "source": [
        "Question1\n",
        "\n",
        "Create a function that takes three parameters where:\n",
        "\n",
        " x is the start of the range (inclusive).\n",
        "\n",
        " y is the end of the range (inclusive).\n",
        "\n",
        " n is the divisor to be checked against.\n",
        "\n",
        "Return an ordered list with numbers in the range that are divisible by the third parameter n.\n",
        "\n",
        "Return an empty list if there are no numbers that are divisible by n.\n",
        "\n",
        "Examples\n",
        "\n",
        "list_operation(1, 10, 3) ➞ [3, 6, 9]\n",
        "\n",
        "list_operation(7, 9, 2) ➞ [8]\n",
        "\n",
        "list_operation(15, 20, 7) ➞ []"
      ],
      "metadata": {
        "id": "YQnvIdxLslD5"
      }
    },
    {
      "cell_type": "code",
      "execution_count": 11,
      "metadata": {
        "colab": {
          "base_uri": "https://localhost:8080/"
        },
        "id": "C8RktD3asPQS",
        "outputId": "6fb3337b-dffc-4219-c082-3b618a44a2ff"
      },
      "outputs": [
        {
          "output_type": "stream",
          "name": "stdout",
          "text": [
            "[3, 6, 9]\n"
          ]
        }
      ],
      "source": [
        "def list_operation(x,y,n):\n",
        "  lis_1 = []\n",
        "  for i in range(x,y+1):\n",
        "    if i % n == 0:\n",
        "      lis_1.append(i)\n",
        "  return lis_1\n",
        "print(list_operation(1,10,3))"
      ]
    },
    {
      "cell_type": "markdown",
      "source": [
        "Question2\n",
        "\n",
        "Create a function that takes in two lists and returns True if the second list follows the first list\n",
        "by one element, and False otherwise. In other words, determine if the second list is the first\n",
        "list shifted to the right by 1.\n",
        "\n",
        "Examples\n",
        "\n",
        "simon_says([1, 2], [5, 1]) ➞ True\n",
        "\n",
        "simon_says([1, 2], [5, 5]) ➞ False\n",
        "\n",
        "simon_says([1, 2, 3, 4, 5], [0, 1, 2, 3, 4]) ➞ True\n",
        "\n",
        "simon_says([1, 2, 3, 4, 5], [5, 5, 1, 2, 3]) ➞ False\n",
        "\n",
        "Notes\n",
        "\n",
        " Both input lists will be of the same length, and will have a minimum length of 2.\n",
        "\n",
        " The values of the 0-indexed element in the second list and the n-1th indexed element\n",
        "in the first list do not matter."
      ],
      "metadata": {
        "id": "-z80pr42szXl"
      }
    },
    {
      "cell_type": "code",
      "source": [
        "def simon_says(lis_1,lis_2):\n",
        "  if lis_1[0:len(lis_1)-1] == lis_2[1:len(lis_2)]:\n",
        "    return True\n",
        "  return False\n",
        "\n",
        "print(simon_says([1, 2], [5, 1]))"
      ],
      "metadata": {
        "colab": {
          "base_uri": "https://localhost:8080/"
        },
        "id": "OUe4svY0s4Hy",
        "outputId": "084e6710-07c4-4fc7-ed78-cd4147653409"
      },
      "execution_count": 2,
      "outputs": [
        {
          "output_type": "stream",
          "name": "stdout",
          "text": [
            "True\n"
          ]
        }
      ]
    },
    {
      "cell_type": "markdown",
      "source": [
        "Question3\n",
        "\n",
        "A group of friends have decided to start a secret society. The name will be the first letter of\n",
        "each of their names, sorted in alphabetical order.\n",
        "Create a function that takes in a list of names and returns the name of the secret society.\n",
        "\n",
        "Examples\n",
        "\n",
        "society_name([&quot;Adam&quot;, &quot;Sarah&quot;, &quot;Malcolm&quot;]) ➞ &quot;AMS&quot;\n",
        "\n",
        "society_name([&quot;Harry&quot;, &quot;Newt&quot;, &quot;Luna&quot;, &quot;Cho&quot;]) ➞ &quot;CHLN&quot;\n",
        "\n",
        "society_name([&quot;Phoebe&quot;, &quot;Chandler&quot;, &quot;Rachel&quot;, &quot;Ross&quot;, &quot;Monica&quot;, &quot;Joey&quot;])"
      ],
      "metadata": {
        "id": "sqBBTes2s7kq"
      }
    },
    {
      "cell_type": "code",
      "source": [
        "def society_name(list1):\n",
        "  first = []\n",
        "  for i in list1:\n",
        "    first.append(i[0])\n",
        "  first.sort()\n",
        "  string = ''.join(first)\n",
        "  return string\n",
        "\n",
        "print(society_name([\"Phoebe\", \"Chandler\", \"Rachel\", \"Ross\", \"Monica\", \"Joey\"]))"
      ],
      "metadata": {
        "colab": {
          "base_uri": "https://localhost:8080/"
        },
        "id": "68Lir32Xs-PC",
        "outputId": "074a2b23-30cd-4d09-859a-bc7194769016"
      },
      "execution_count": 5,
      "outputs": [
        {
          "output_type": "stream",
          "name": "stdout",
          "text": [
            "CJMPRR\n"
          ]
        }
      ]
    },
    {
      "cell_type": "markdown",
      "source": [
        "Question4\n",
        "\n",
        "An isogram is a word that has no duplicate letters. Create a function that takes a string and\n",
        "returns either True or False depending on whether or not it&#39;s an &quot;isogram&quot;.\n",
        "\n",
        "Examples\n",
        "\n",
        "is_isogram(&quot;Algorism&quot;) ➞ True\n",
        "\n",
        "is_isogram(&quot;PasSword&quot;) ➞ False\n",
        "\n",
        "Not case sensitive.\n",
        "\n",
        "\n",
        "is_isogram(&quot;Consecutive&quot;) ➞ False\n",
        "Notes\n",
        "\n",
        " Ignore letter case (should not be case sensitive).\n",
        "\n",
        " All test cases contain valid one word strings."
      ],
      "metadata": {
        "id": "NK9H5_EUtBWm"
      }
    },
    {
      "cell_type": "code",
      "source": [
        "def is_isogram(s):\n",
        "  s = s.lower()\n",
        "  for i in range(len(s)):\n",
        "    for j in range(i+1, len(s)):\n",
        "      if s[i] == s[j]:\n",
        "        return False\n",
        "  return True\n",
        "\n",
        "print(is_isogram(\"Algorism\"))"
      ],
      "metadata": {
        "colab": {
          "base_uri": "https://localhost:8080/"
        },
        "id": "jVjTcw-UtHIw",
        "outputId": "26819515-4ae2-4390-d254-af7254476567"
      },
      "execution_count": 13,
      "outputs": [
        {
          "output_type": "stream",
          "name": "stdout",
          "text": [
            "True\n"
          ]
        }
      ]
    },
    {
      "cell_type": "markdown",
      "source": [
        "Question5\n",
        "\n",
        "Create a function that takes a string and returns True or False, depending on whether the\n",
        "characters are in order or not.\n",
        "\n",
        "Examples\n",
        "\n",
        "is_in_order(&quot;abc&quot;) ➞ True\n",
        "\n",
        "is_in_order(&quot;edabit&quot;) ➞ False\n",
        "\n",
        "is_in_order(&quot;123&quot;) ➞ True\n",
        "\n",
        "is_in_order(&quot;xyzz&quot;) ➞ True\n",
        "\n",
        "Notes\n",
        "\n",
        "You don&#39;t have to handle empty strings."
      ],
      "metadata": {
        "id": "fyvd08xntKIr"
      }
    },
    {
      "cell_type": "code",
      "source": [
        "def is_in_order(string):\n",
        "  for i in range(1, len(string)):\n",
        "    if ord(string[i]) != (ord(string[i-1]) + 1):\n",
        "      return False\n",
        "  return True\n",
        "\n",
        "print(is_in_order(\"edabit\"))\n",
        "\n",
        ""
      ],
      "metadata": {
        "colab": {
          "base_uri": "https://localhost:8080/"
        },
        "id": "vuUZVRAgtOxK",
        "outputId": "4a5aaa5b-8e91-4ebc-d6ec-b18c08f40f23"
      },
      "execution_count": 10,
      "outputs": [
        {
          "output_type": "stream",
          "name": "stdout",
          "text": [
            "False\n"
          ]
        }
      ]
    },
    {
      "cell_type": "code",
      "source": [],
      "metadata": {
        "id": "i_cyUhXYzMsN"
      },
      "execution_count": null,
      "outputs": []
    }
  ]
}