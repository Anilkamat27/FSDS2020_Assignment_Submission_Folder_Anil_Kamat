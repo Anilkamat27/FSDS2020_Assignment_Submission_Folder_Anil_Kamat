{
  "nbformat": 4,
  "nbformat_minor": 0,
  "metadata": {
    "colab": {
      "provenance": []
    },
    "kernelspec": {
      "name": "python3",
      "display_name": "Python 3"
    },
    "language_info": {
      "name": "python"
    }
  },
  "cells": [
    {
      "cell_type": "markdown",
      "source": [
        "1. Write a Python program to find sum of elements in list?"
      ],
      "metadata": {
        "id": "7zkMKJf8iApo"
      }
    },
    {
      "cell_type": "code",
      "execution_count": 1,
      "metadata": {
        "colab": {
          "base_uri": "https://localhost:8080/"
        },
        "id": "bgpI23dzh3jT",
        "outputId": "ee2d4130-580e-479f-e354-7622a20a4912"
      },
      "outputs": [
        {
          "output_type": "stream",
          "name": "stdout",
          "text": [
            "258\n"
          ]
        }
      ],
      "source": [
        "list = [1,2,3,4,5,6,34,23,45,12,89,34]\n",
        "sum=0\n",
        "for i in list:\n",
        "  sum += i\n",
        "print(sum)"
      ]
    },
    {
      "cell_type": "markdown",
      "source": [
        "2. Write a Python program to Multiply all numbers in the list?"
      ],
      "metadata": {
        "id": "Nh6DxDQAifQ3"
      }
    },
    {
      "cell_type": "code",
      "source": [
        "list = [1,2,3,4,5,6,34,23,45,12,89,34]\n",
        "multi=1\n",
        "for i in list:\n",
        "  multi *= i\n",
        "print(multi)"
      ],
      "metadata": {
        "colab": {
          "base_uri": "https://localhost:8080/"
        },
        "id": "cx00j0WLiak3",
        "outputId": "ff281b4a-e991-461c-c1cb-f74d24bd6333"
      },
      "execution_count": 4,
      "outputs": [
        {
          "output_type": "stream",
          "name": "stdout",
          "text": [
            "920029881600\n"
          ]
        }
      ]
    },
    {
      "cell_type": "markdown",
      "source": [
        "3. Write a Python program to find smallest number in a list?"
      ],
      "metadata": {
        "id": "SNH3DsBhit_G"
      }
    },
    {
      "cell_type": "code",
      "source": [
        "list = [100,27,13,42,5,61,34,23,45,12,89,34]\n",
        "min = list[0]\n",
        "for i in list:\n",
        "  if i < min:\n",
        "    min = i\n",
        "print(min)"
      ],
      "metadata": {
        "colab": {
          "base_uri": "https://localhost:8080/"
        },
        "id": "ZCT26M30iicL",
        "outputId": "df807fe9-d69b-4d0d-93a0-f2b6f42feefc"
      },
      "execution_count": 5,
      "outputs": [
        {
          "output_type": "stream",
          "name": "stdout",
          "text": [
            "5\n"
          ]
        }
      ]
    },
    {
      "cell_type": "markdown",
      "source": [
        "4. Write a Python program to find largest number in a list?"
      ],
      "metadata": {
        "id": "uGJ17tw0jfzl"
      }
    },
    {
      "cell_type": "code",
      "source": [
        "list = [100,27,13,42,5,61,61,34,23,45,12,89,34]\n",
        "max = list[0]\n",
        "for i in list:\n",
        "  if i > max:\n",
        "    max = i\n",
        "print(max)"
      ],
      "metadata": {
        "colab": {
          "base_uri": "https://localhost:8080/"
        },
        "id": "IquVJggqjcna",
        "outputId": "a60d9994-4c14-4c22-d76c-5dc2486bcb5b"
      },
      "execution_count": 7,
      "outputs": [
        {
          "output_type": "stream",
          "name": "stdout",
          "text": [
            "100\n"
          ]
        }
      ]
    },
    {
      "cell_type": "markdown",
      "source": [
        "5. Write a Python program to find second largest number in a list?"
      ],
      "metadata": {
        "id": "jTEkoFAMj3qS"
      }
    },
    {
      "cell_type": "code",
      "source": [
        "list = [100,27,13,42,5,61,61,34,23,45,12,89,34]\n",
        "list.sort()\n",
        "print(list[len(list)-2])"
      ],
      "metadata": {
        "colab": {
          "base_uri": "https://localhost:8080/"
        },
        "id": "MX5GgLr2jtT5",
        "outputId": "1e49d465-3dd7-49d3-a30e-003a4d61e489"
      },
      "execution_count": 10,
      "outputs": [
        {
          "output_type": "stream",
          "name": "stdout",
          "text": [
            "89\n"
          ]
        }
      ]
    },
    {
      "cell_type": "markdown",
      "source": [
        "6. Write a Python program to find N largest elements from a list?"
      ],
      "metadata": {
        "id": "En0U8kL0lB_D"
      }
    },
    {
      "cell_type": "code",
      "source": [
        "list = [100,27,13,42,5,61,61,34,23,45,12,89,34]\n",
        "N = int(input(\"Enter Nth required : \"))\n",
        "list.sort()\n",
        "if N <= len(list):\n",
        "  print(list[len(list)-N])"
      ],
      "metadata": {
        "colab": {
          "base_uri": "https://localhost:8080/"
        },
        "id": "Dgb9-Ai8kdlX",
        "outputId": "6e3ea22a-c8a2-4104-f64e-ac54a50c15b8"
      },
      "execution_count": 13,
      "outputs": [
        {
          "output_type": "stream",
          "name": "stdout",
          "text": [
            "Enter Nth required : 5\n",
            "45\n"
          ]
        }
      ]
    },
    {
      "cell_type": "markdown",
      "source": [
        "7. Write a Python program to print even numbers in a list?"
      ],
      "metadata": {
        "id": "ghQNJSlRlpuC"
      }
    },
    {
      "cell_type": "code",
      "source": [
        "list = [1,2,3,4,5,6,34,23,45,12,89,34]\n",
        "for i in list:\n",
        "  if i % 2 == 0:\n",
        "    print(i,end = \" \")"
      ],
      "metadata": {
        "colab": {
          "base_uri": "https://localhost:8080/"
        },
        "id": "WhAqOwjGleRA",
        "outputId": "44a74c07-e635-4fc4-bcfa-4d157f391641"
      },
      "execution_count": 15,
      "outputs": [
        {
          "output_type": "stream",
          "name": "stdout",
          "text": [
            "2 4 6 34 12 34 "
          ]
        }
      ]
    },
    {
      "cell_type": "markdown",
      "source": [
        "8. Write a Python program to print odd numbers in a List?"
      ],
      "metadata": {
        "id": "DFOtwwhgmDo6"
      }
    },
    {
      "cell_type": "code",
      "source": [
        "list = [1,2,3,4,5,6,34,23,45,12,89,34]\n",
        "for i in list:\n",
        "  if i % 2 != 0:\n",
        "    print(i,end = \" \")"
      ],
      "metadata": {
        "colab": {
          "base_uri": "https://localhost:8080/"
        },
        "id": "dpgoqepgl6q1",
        "outputId": "0b0799d3-af61-4f23-ecff-6fcdd43e594e"
      },
      "execution_count": 16,
      "outputs": [
        {
          "output_type": "stream",
          "name": "stdout",
          "text": [
            "1 3 5 23 45 89 "
          ]
        }
      ]
    },
    {
      "cell_type": "markdown",
      "source": [
        "9. Write a Python program to Remove empty List from List?"
      ],
      "metadata": {
        "id": "up523Rj_mKxB"
      }
    },
    {
      "cell_type": "code",
      "source": [
        "list = [1,2,[],3,4,[],5,6,34,[],23,45,12,[],89,34]\n",
        "print(\"before Removng empty list from list\")\n",
        "print(list)\n",
        "for i in list:\n",
        "  if i == []:\n",
        "    list.remove(i)\n",
        "print(\"After Removng empty list from list\")\n",
        "print(list)"
      ],
      "metadata": {
        "colab": {
          "base_uri": "https://localhost:8080/"
        },
        "id": "X82VXYLpmHxl",
        "outputId": "5cc0398b-89fa-411b-ee6d-09dc1900565c"
      },
      "execution_count": 19,
      "outputs": [
        {
          "output_type": "stream",
          "name": "stdout",
          "text": [
            "before Removng empty list from list\n",
            "[1, 2, [], 3, 4, [], 5, 6, 34, [], 23, 45, 12, [], 89, 34]\n",
            "After Removng empty list from list\n",
            "[1, 2, 3, 4, 5, 6, 34, 23, 45, 12, 89, 34]\n"
          ]
        }
      ]
    },
    {
      "cell_type": "markdown",
      "source": [
        "10. Write a Python program to Cloning or Copying a list?"
      ],
      "metadata": {
        "id": "Nq02r9Rrm8kn"
      }
    },
    {
      "cell_type": "code",
      "source": [
        "list = [1, 2, 3, 4, 5, 6, 34, 23, 45, 12, 89, 34]\n",
        "cloned_list = list\n",
        "copied_list = list.copy()\n",
        "print(cloned_list)\n",
        "print(copied_list)"
      ],
      "metadata": {
        "colab": {
          "base_uri": "https://localhost:8080/"
        },
        "id": "w-ZurWMRmovb",
        "outputId": "26d2d953-97ad-4bbe-b2a2-85f9f5dbf62d"
      },
      "execution_count": 20,
      "outputs": [
        {
          "output_type": "stream",
          "name": "stdout",
          "text": [
            "[1, 2, 3, 4, 5, 6, 34, 23, 45, 12, 89, 34]\n",
            "[1, 2, 3, 4, 5, 6, 34, 23, 45, 12, 89, 34]\n"
          ]
        }
      ]
    },
    {
      "cell_type": "markdown",
      "source": [
        "11. Write a Python program to Count occurrences of an element in a list?"
      ],
      "metadata": {
        "id": "_zjo1q1zn1gH"
      }
    },
    {
      "cell_type": "code",
      "source": [
        "list = [1,22, 21, 31, 42, 5, 6,31, 34, 23, 45, 12, 21,89,42, 34]\n",
        "N = int(input(\"Enter number whose occurences you want to check : \"))\n",
        "count = 0\n",
        "for i in list:\n",
        "  if i == N:\n",
        "    count += 1\n",
        "print(count)"
      ],
      "metadata": {
        "colab": {
          "base_uri": "https://localhost:8080/"
        },
        "id": "L4e1KsF4nxPy",
        "outputId": "32fd1225-57d2-4198-d2d0-48d7e4a8cb04"
      },
      "execution_count": 21,
      "outputs": [
        {
          "output_type": "stream",
          "name": "stdout",
          "text": [
            "Enter number whose occurences you want to check : 21\n",
            "2\n"
          ]
        }
      ]
    },
    {
      "cell_type": "code",
      "source": [],
      "metadata": {
        "id": "iWswWST2ogyR"
      },
      "execution_count": null,
      "outputs": []
    }
  ]
}