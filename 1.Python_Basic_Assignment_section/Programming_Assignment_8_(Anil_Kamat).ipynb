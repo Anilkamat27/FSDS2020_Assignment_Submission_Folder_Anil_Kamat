{
  "nbformat": 4,
  "nbformat_minor": 0,
  "metadata": {
    "colab": {
      "provenance": []
    },
    "kernelspec": {
      "name": "python3",
      "display_name": "Python 3"
    },
    "language_info": {
      "name": "python"
    }
  },
  "cells": [
    {
      "cell_type": "markdown",
      "source": [
        "1.Write a Python Program to Add Two Matrices?"
      ],
      "metadata": {
        "id": "NzllEUvDWTs8"
      }
    },
    {
      "cell_type": "code",
      "execution_count": 13,
      "metadata": {
        "id": "-gMrYVTwNnxs",
        "colab": {
          "base_uri": "https://localhost:8080/"
        },
        "outputId": "19c92b00-2511-4ef3-f514-6032c2d164d6"
      },
      "outputs": [
        {
          "output_type": "stream",
          "name": "stdout",
          "text": [
            "[[12 14 16]\n",
            " [18 20 22]\n",
            " [24 26 28]]\n"
          ]
        }
      ],
      "source": [
        "import numpy as np\n",
        "A = [[21,29,3],\n",
        "     [45,5,61],\n",
        "     [7,82,9]]\n",
        "\n",
        "B = [[11,12,13],\n",
        "     [14,15,16],\n",
        "     [17,18,19]]\n",
        "\n",
        "result = np.zeros((len(A),len(A[0])),dtype=int)\n",
        "\n",
        "for i in range(len(A)):\n",
        "  for j in range(len(A[i])):\n",
        "    result[i][j] = int(A[i][j] + B[i][j])\n",
        "\n",
        "print(result)"
      ]
    },
    {
      "cell_type": "markdown",
      "source": [
        "2.Write a Python Program to Multiply Two Matrices?\n"
      ],
      "metadata": {
        "id": "84Cu-_CoYjUG"
      }
    },
    {
      "cell_type": "code",
      "source": [
        "import numpy as np\n",
        "A = [[1,241,3],\n",
        "     [49,5,6],\n",
        "     [70,8,9]]\n",
        "\n",
        "B = [[13,12,17],\n",
        "     [14,15,16],\n",
        "     [12,18,19]]\n",
        "\n",
        "result = np.zeros((len(A),len(A[0])),dtype=int)\n",
        "\n",
        "for i in range(len(A)):\n",
        "  for j in range(len(A[i])):\n",
        "    result[i][j] = int(A[i][j] * B[i][j])\n",
        "\n",
        "print(result)"
      ],
      "metadata": {
        "colab": {
          "base_uri": "https://localhost:8080/"
        },
        "id": "WUqLcXTnXgmG",
        "outputId": "7c9641fc-d642-4eb0-8159-d16b60184211"
      },
      "execution_count": 15,
      "outputs": [
        {
          "output_type": "stream",
          "name": "stdout",
          "text": [
            "[[  13 2892   51]\n",
            " [ 686   75   96]\n",
            " [ 840  144  171]]\n"
          ]
        }
      ]
    },
    {
      "cell_type": "markdown",
      "source": [
        "3.Write a Python Program to Transpose a Matrix?\n"
      ],
      "metadata": {
        "id": "DxydzDGVY8mc"
      }
    },
    {
      "cell_type": "code",
      "source": [
        "A = [[13,24,39],\n",
        "     [42,54,6],\n",
        "     [76,8,94]]\n",
        "\n",
        "result = np.zeros((len(A),len(A[0])),dtype=int)\n",
        "\n",
        "for i in range(len(A)):\n",
        "  for j in range(len(A[i])):\n",
        "    result[j][i] = A[i][j]\n",
        "\n",
        "print(result)"
      ],
      "metadata": {
        "colab": {
          "base_uri": "https://localhost:8080/"
        },
        "id": "FhWTHHTiYAKD",
        "outputId": "89105c39-ccd5-49a0-c511-b81fa5cf8196"
      },
      "execution_count": 16,
      "outputs": [
        {
          "output_type": "stream",
          "name": "stdout",
          "text": [
            "[[13 42 76]\n",
            " [24 54  8]\n",
            " [39  6 94]]\n"
          ]
        }
      ]
    },
    {
      "cell_type": "markdown",
      "source": [
        "4.Write a Python Program to Sort Words in Alphabetic Order?"
      ],
      "metadata": {
        "id": "8oFpK8Kxai6T"
      }
    },
    {
      "cell_type": "code",
      "source": [
        "string = input(\"Input any sentence : \")\n",
        "words = string.split()\n",
        "sorted_word = sorted(words)\n",
        "print(sorted_word)"
      ],
      "metadata": {
        "colab": {
          "base_uri": "https://localhost:8080/"
        },
        "id": "RZWTYP7BawsA",
        "outputId": "1dec9f5a-3140-42f6-b9da-f5548751c034"
      },
      "execution_count": 20,
      "outputs": [
        {
          "output_type": "stream",
          "name": "stdout",
          "text": [
            "Input any sentence : every object will remain at rest unless compelled to change its state \n",
            "['at', 'change', 'compelled', 'every', 'its', 'object', 'remain', 'rest', 'state', 'to', 'unless', 'will']\n"
          ]
        }
      ]
    },
    {
      "cell_type": "markdown",
      "source": [
        "5.Write a Python Program to Remove Punctuation From a String?\n"
      ],
      "metadata": {
        "id": "mkkqhKiYasx-"
      }
    },
    {
      "cell_type": "code",
      "source": [
        "punctuations = '''!()-[]{};:'\"\\,<>./?@#$%^&*_~'''\n",
        "new_sent = \"\"\n",
        "string = input(\"Input any sentence : \")\n",
        "words = string.split()\n",
        "i=0\n",
        "for word in words:\n",
        "  if i!=0 :\n",
        "    new_sent += \" \"\n",
        "  i =1\n",
        "  for char in word:\n",
        "    if char not in punctuations:\n",
        "        new_sent += char\n",
        "\n",
        "print(new_sent)"
      ],
      "metadata": {
        "colab": {
          "base_uri": "https://localhost:8080/"
        },
        "id": "x4fJ7k-4adQv",
        "outputId": "79a9e820-cb1c-4e4b-db72-88dcfd47168d"
      },
      "execution_count": 25,
      "outputs": [
        {
          "output_type": "stream",
          "name": "stdout",
          "text": [
            "Input any sentence : The theory of relativity revolutionized our understanding of space, time, and gravity.\n",
            "The theory of relativity revolutionized our understanding of space time and gravity\n"
          ]
        }
      ]
    },
    {
      "cell_type": "code",
      "source": [],
      "metadata": {
        "id": "FpjnnRjGiR59"
      },
      "execution_count": 25,
      "outputs": []
    }
  ]
}