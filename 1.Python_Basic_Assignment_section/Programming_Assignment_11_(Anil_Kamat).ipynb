{
  "nbformat": 4,
  "nbformat_minor": 0,
  "metadata": {
    "colab": {
      "provenance": []
    },
    "kernelspec": {
      "name": "python3",
      "display_name": "Python 3"
    },
    "language_info": {
      "name": "python"
    }
  },
  "cells": [
    {
      "cell_type": "markdown",
      "source": [
        " 1.\tWrite a Python program to find words which are greater than given length k?"
      ],
      "metadata": {
        "id": "ReOd0_YyHp4d"
      }
    },
    {
      "cell_type": "code",
      "execution_count": 3,
      "metadata": {
        "id": "OGJ2mx6dp1Nd",
        "colab": {
          "base_uri": "https://localhost:8080/"
        },
        "outputId": "3422b553-2e9a-4a5f-dd1e-c1d997e4a867"
      },
      "outputs": [
        {
          "output_type": "stream",
          "name": "stdout",
          "text": [
            "Enter Sentence : Black holes are incredibly dense objects in space that have such strong gravitational pull that nothing, not even light, can escape their grasp.\n",
            "Enter Length : 4\n",
            "Black holes incredibly dense objects space strong gravitational nothing light escape their grasp "
          ]
        }
      ],
      "source": [
        "text = input(\"Enter Sentence : \")\n",
        "length = int(input(\"Enter Length : \"))\n",
        "words = text.split()\n",
        "for i in words:\n",
        "  if len(i) > length:\n",
        "    if i[len(i)-1] == ',' or i[len(i)-1] == '.':\n",
        "      print(i[:len(i)-1], end = \" \")\n",
        "    else :\n",
        "      print(i, end = \" \")"
      ]
    },
    {
      "cell_type": "markdown",
      "source": [
        "2. Write a Python program for removing i-th character from a string?"
      ],
      "metadata": {
        "id": "PVwW4ULXQmbn"
      }
    },
    {
      "cell_type": "code",
      "source": [
        "String = input(\"Enter Sentence : \")\n",
        "N = int(input(\"Enter Nth number : \"))\n",
        "String = String[0:N-1] + String[N:len(String)]\n",
        "print(String)"
      ],
      "metadata": {
        "colab": {
          "base_uri": "https://localhost:8080/"
        },
        "id": "VS8lUPwCIlnT",
        "outputId": "39baa3a9-120e-4fe5-b83a-987c225c0348"
      },
      "execution_count": 6,
      "outputs": [
        {
          "output_type": "stream",
          "name": "stdout",
          "text": [
            "Enter Sentence : Vladivostok\n",
            "Enter Nth number : 4\n",
            "Vlaivostok\n"
          ]
        }
      ]
    },
    {
      "cell_type": "markdown",
      "source": [
        "3.\tWrite a Python program to split and join a string?"
      ],
      "metadata": {
        "id": "jpCg1N87SVQe"
      }
    },
    {
      "cell_type": "code",
      "source": [
        "String_N = \"\"\n",
        "String = input(\"Enter Sentence : \")\n",
        "words = String.split()\n",
        "String_N = \" \".join(words)\n",
        "print(String_N)"
      ],
      "metadata": {
        "colab": {
          "base_uri": "https://localhost:8080/"
        },
        "id": "c9tPi_VkRaw0",
        "outputId": "4c7496ab-1400-4a02-8f79-b153f92bede8"
      },
      "execution_count": 11,
      "outputs": [
        {
          "output_type": "stream",
          "name": "stdout",
          "text": [
            "Enter Sentence : Be Proud of yourself's for how hard you're trying\n",
            "Be Proud of yourself's for how hard you're trying\n"
          ]
        }
      ]
    },
    {
      "cell_type": "markdown",
      "source": [
        "4. Write a Python to check if a given string is binary string or not?"
      ],
      "metadata": {
        "id": "2HGc8ia7VAiG"
      }
    },
    {
      "cell_type": "code",
      "source": [
        "def is_binary(string):\n",
        "    for char in string:\n",
        "        if char != '0' and char != '1':\n",
        "            return False\n",
        "    return True\n",
        "\n",
        "String = input(\"Enter Sentence : \")\n",
        "if is_binary(String):\n",
        "    print(\"It is a binary string.\")\n",
        "else:\n",
        "    print(\"It is not a binary string.\")"
      ],
      "metadata": {
        "colab": {
          "base_uri": "https://localhost:8080/"
        },
        "id": "6oeHCEUQSF0K",
        "outputId": "392de20c-a9cf-403d-b430-4b9baf6ebcd0"
      },
      "execution_count": 13,
      "outputs": [
        {
          "output_type": "stream",
          "name": "stdout",
          "text": [
            "Enter Sentence : 0101010111111010101010000111100110000\n",
            "It is a binary string.\n"
          ]
        }
      ]
    },
    {
      "cell_type": "markdown",
      "source": [
        "5. Write a Python program to find uncommon words from two Strings?"
      ],
      "metadata": {
        "id": "tTp3xWcqV9Ga"
      }
    },
    {
      "cell_type": "code",
      "source": [
        "str1 = input(\"Enter Sentence : \")\n",
        "str2 = input(\"Enter Sentence : \")\n",
        "\n",
        "word1 = str1.split(' ')\n",
        "word2 = str2.split(' ')\n",
        "common = set()\n",
        "for word in word1:\n",
        "    common.add(word)\n",
        "for word2 in word2:\n",
        "    common.add(word)\n",
        "print(common)\n",
        "#Russia is our best friend\n",
        "#Russia helped in our all difficult times"
      ],
      "metadata": {
        "colab": {
          "base_uri": "https://localhost:8080/"
        },
        "id": "KxLwJUsOVdhP",
        "outputId": "14b2b629-a345-42be-a0e1-513844707e09"
      },
      "execution_count": 17,
      "outputs": [
        {
          "output_type": "stream",
          "name": "stdout",
          "text": [
            "Enter Sentence : Russia is our best friend\n",
            "Enter Sentence : Russia helped in our all difficult times \n",
            "{'friend', 'Russia', 'is', 'best', 'our'}\n"
          ]
        }
      ]
    },
    {
      "cell_type": "markdown",
      "source": [
        "6. Write a Python to find all duplicate characters in string?"
      ],
      "metadata": {
        "id": "X0jCtYDlfO71"
      }
    },
    {
      "cell_type": "code",
      "source": [
        "string = input(\"Enter Sentence : \")\n",
        "word1 = string.split(' ')\n",
        "present = set()\n",
        "for word in word1:\n",
        "  count = 0\n",
        "  for i in range(0,len(word1)):\n",
        "    if word1[i] == word:\n",
        "      count +=1\n",
        "  if count > 1:\n",
        "    present.add(word)\n",
        "\n",
        "print(present)"
      ],
      "metadata": {
        "colab": {
          "base_uri": "https://localhost:8080/"
        },
        "id": "0Hb_fh5EcylF",
        "outputId": "5d9e4386-ecd7-4991-9f12-7f269870aab1"
      },
      "execution_count": 23,
      "outputs": [
        {
          "output_type": "stream",
          "name": "stdout",
          "text": [
            "Enter Sentence : The cat jumped over the cat and landed on the cat\n",
            "{'the', 'cat'}\n"
          ]
        }
      ]
    },
    {
      "cell_type": "markdown",
      "source": [
        "7. Write a Python Program to check if a string contains any special character?"
      ],
      "metadata": {
        "id": "WWNi6tCgkCQz"
      }
    },
    {
      "cell_type": "code",
      "source": [
        "s='[@_!#$%^&*()<>?/\\|}{~:]'\n",
        "string = input(\"Enter Sentence : \")\n",
        "charge = False\n",
        "word1 = string.split(' ')\n",
        "for word in word1:\n",
        "  for i in word:\n",
        "    if i in s:\n",
        "      charge = True\n",
        "\n",
        "if charge :\n",
        "  print(\"string contains special character\")\n",
        "else :\n",
        "  print(\"string doesn't contains any special character\")"
      ],
      "metadata": {
        "colab": {
          "base_uri": "https://localhost:8080/"
        },
        "id": "8wdhEEFFiFjf",
        "outputId": "a3ee9486-e464-4771-ff33-9c0399c83569"
      },
      "execution_count": 26,
      "outputs": [
        {
          "output_type": "stream",
          "name": "stdout",
          "text": [
            "Enter Sentence : Anil's email address is janil294@gmail.com.\n",
            "string contains special character\n"
          ]
        }
      ]
    },
    {
      "cell_type": "code",
      "source": [],
      "metadata": {
        "id": "nPbTCnG3kQE3"
      },
      "execution_count": null,
      "outputs": []
    }
  ]
}