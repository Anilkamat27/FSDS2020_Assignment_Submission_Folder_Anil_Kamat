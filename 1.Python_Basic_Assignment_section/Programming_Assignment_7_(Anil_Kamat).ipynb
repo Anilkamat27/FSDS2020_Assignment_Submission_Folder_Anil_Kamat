{
  "nbformat": 4,
  "nbformat_minor": 0,
  "metadata": {
    "colab": {
      "provenance": []
    },
    "kernelspec": {
      "name": "python3",
      "display_name": "Python 3"
    },
    "language_info": {
      "name": "python"
    }
  },
  "cells": [
    {
      "cell_type": "markdown",
      "source": [
        "1.Write a Python Program to find sum of array?"
      ],
      "metadata": {
        "id": "4nSq5hO0wMBC"
      }
    },
    {
      "cell_type": "code",
      "execution_count": null,
      "metadata": {
        "colab": {
          "base_uri": "https://localhost:8080/"
        },
        "id": "1axKWVR3viY7",
        "outputId": "d52e6a1f-09d8-4c42-a578-692057f3a8df"
      },
      "outputs": [
        {
          "output_type": "stream",
          "name": "stdout",
          "text": [
            "45\n"
          ]
        }
      ],
      "source": [
        "arr = [1,2,3,4,5,6,7,8,9]\n",
        "sum = 0\n",
        "for i in arr:\n",
        "  sum = sum + i\n",
        "print(sum)\n"
      ]
    },
    {
      "cell_type": "markdown",
      "source": [
        "2.Write a Python Program to find largest element in an array?"
      ],
      "metadata": {
        "id": "WsmqP9qrwycO"
      }
    },
    {
      "cell_type": "code",
      "source": [
        "arr = [1,2,6,7,8,9,3,4,5,]\n",
        "max = 0\n",
        "for i in arr:\n",
        "  if i > max :\n",
        "    max = i\n",
        "print(max)"
      ],
      "metadata": {
        "colab": {
          "base_uri": "https://localhost:8080/"
        },
        "id": "evrEdwW5wqxd",
        "outputId": "1a3d8d5a-4f72-4f4f-b767-f7a6197ed9af"
      },
      "execution_count": null,
      "outputs": [
        {
          "output_type": "stream",
          "name": "stdout",
          "text": [
            "9\n"
          ]
        }
      ]
    },
    {
      "cell_type": "markdown",
      "source": [
        "3.Write a Python Program for array rotation?"
      ],
      "metadata": {
        "id": "SO6j7yiXxgid"
      }
    },
    {
      "cell_type": "code",
      "source": [
        "arr = [1,2,5,6,7,2,3,4,5,8,9]\n",
        "n = int(input(\"enter index from where rotation required : \"))\n",
        "arr_2 = arr.copy()\n",
        "i1=0\n",
        "for i in range(n,len(arr)):\n",
        "  arr[i1] = arr_2[i]\n",
        "  i1 += 1\n",
        "\n",
        "for i in range(0,n):\n",
        "  arr[i1] = arr_2[i]\n",
        "  i1 +=1\n",
        "\n",
        "print(arr)\n",
        "\n"
      ],
      "metadata": {
        "colab": {
          "base_uri": "https://localhost:8080/"
        },
        "id": "-ep68dCvxLae",
        "outputId": "87dc72de-e722-4f4e-9031-10183804aadf"
      },
      "execution_count": 4,
      "outputs": [
        {
          "output_type": "stream",
          "name": "stdout",
          "text": [
            "enter index from where rotation required : 4\n",
            "[7, 2, 3, 4, 5, 8, 9, 1, 2, 5, 6]\n"
          ]
        }
      ]
    },
    {
      "cell_type": "markdown",
      "source": [
        "4.Write a Python Program to Split the array and add the first part to the end?\n"
      ],
      "metadata": {
        "id": "ZK_iwZEQFozX"
      }
    },
    {
      "cell_type": "code",
      "source": [
        "def splitAdd(arr, n):\n",
        "    if n <= 0:\n",
        "        return arr\n",
        "    else:\n",
        "        return arr[n:] + arr[:n]\n",
        "\n",
        "arr = [1, 2, 3, 4, 5, 3, 4,]\n",
        "n = n = int(input(\"enter index from where split is required : \"))\n",
        "res = splitAdd(arr, n)\n",
        "print(res)\n"
      ],
      "metadata": {
        "id": "GHopV1MJxnIX",
        "colab": {
          "base_uri": "https://localhost:8080/"
        },
        "outputId": "a073fc77-16a7-4395-90f1-fc70a334fda2"
      },
      "execution_count": 5,
      "outputs": [
        {
          "output_type": "stream",
          "name": "stdout",
          "text": [
            "enter index from where split is required : 3\n",
            "[4, 5, 3, 4, 1, 2, 3]\n"
          ]
        }
      ]
    },
    {
      "cell_type": "markdown",
      "source": [
        "5.Write a Python Program to check if given array is Monotonic?"
      ],
      "metadata": {
        "id": "Ua-ard7iHnaY"
      }
    },
    {
      "cell_type": "code",
      "source": [
        "def monotonic(arr):\n",
        "  n= len(arr)\n",
        "  increasing = False\n",
        "  decreasing = False\n",
        "  for i in range(1,n):\n",
        "    if arr[i-1] >arr[i]:\n",
        "      decreasing = True\n",
        "    elif arr[i-1] < arr[i]:\n",
        "      increasing = True\n",
        "  if decreasing == increasing:\n",
        "    return False\n",
        "  else:\n",
        "    return True\n",
        "\n",
        "\n",
        "\n",
        "array1 = [1, 2, 3, 4, 5]\n",
        "array2 = [5, 4, 3, 2, 1]\n",
        "print(monotonic(array1), \"array is monotonic\")\n",
        "print(monotonic(array2), \"array is monotonic\")\n"
      ],
      "metadata": {
        "colab": {
          "base_uri": "https://localhost:8080/"
        },
        "id": "DDEqszRbHgOW",
        "outputId": "7715c03c-9036-4117-8c91-db68777d1df4"
      },
      "execution_count": 11,
      "outputs": [
        {
          "output_type": "stream",
          "name": "stdout",
          "text": [
            "True array is monotonic\n",
            "True array is monotonic\n"
          ]
        }
      ]
    },
    {
      "cell_type": "code",
      "source": [],
      "metadata": {
        "id": "vuNvP3ysIR3Z"
      },
      "execution_count": null,
      "outputs": []
    }
  ]
}