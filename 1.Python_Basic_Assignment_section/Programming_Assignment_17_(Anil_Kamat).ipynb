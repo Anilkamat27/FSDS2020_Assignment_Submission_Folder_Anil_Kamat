{
  "nbformat": 4,
  "nbformat_minor": 0,
  "metadata": {
    "colab": {
      "provenance": []
    },
    "kernelspec": {
      "name": "python3",
      "display_name": "Python 3"
    },
    "language_info": {
      "name": "python"
    }
  },
  "cells": [
    {
      "cell_type": "markdown",
      "source": [
        "**Question1.** Create a function that takes three arguments a, b, c and returns the sum of the\n",
        "numbers that are evenly divided by c from the range a, b inclusive.\n",
        "\n",
        "Examples\n",
        "\n",
        "evenly_divisible(1, 10, 20) ➞ 0\n",
        "\n",
        "No number between 1 and 10 can be evenly divided by 20.\n",
        "\n",
        "evenly_divisible(1, 10, 2) ➞ 30\n",
        "\n",
        "2 + 4 + 6 + 8 + 10 = 30\n",
        "\n",
        "evenly_divisible(1, 10, 3) ➞ 18\n",
        "\n",
        "*3* + 6 + 9 = 18"
      ],
      "metadata": {
        "id": "sT9iWqBB_1eK"
      }
    },
    {
      "cell_type": "code",
      "execution_count": null,
      "metadata": {
        "colab": {
          "base_uri": "https://localhost:8080/"
        },
        "id": "F9T99b7-_bRD",
        "outputId": "35b31df8-b9f1-40c3-fbbb-cd797e8ec4ef"
      },
      "outputs": [
        {
          "output_type": "stream",
          "name": "stdout",
          "text": [
            "Enter a : 1\n",
            "Enter b : 10\n",
            "Enter c : 2\n",
            "30\n"
          ]
        }
      ],
      "source": [
        "def evenly_divided(a,b,c):\n",
        "  sum = 0\n",
        "  for i in range(a,b+1):\n",
        "    if i % c ==0:\n",
        "      sum += i\n",
        "  return sum\n",
        "\n",
        "a = int(input(\"Enter a : \"))\n",
        "b = int(input(\"Enter b : \"))\n",
        "c = int(input(\"Enter c : \"))\n",
        "print(evenly_divided(a,b,c))"
      ]
    },
    {
      "cell_type": "markdown",
      "source": [
        "**Question2.** Create a function that returns True if a given inequality expression is correct and\n",
        "False otherwise.\n",
        "\n",
        "Examples\n",
        "\n",
        "correct_signs(&quot;3 &lt; 7 &lt; 11&quot;) ➞ True\n",
        "\n",
        "correct_signs(&quot;13 &gt; 44 &gt; 33 &gt; 1&quot;) ➞ False\n",
        "\n",
        "correct_signs(&quot;1 &lt; 2 &lt; 6 &lt; 9 &gt; 3&quot;) ➞ True"
      ],
      "metadata": {
        "id": "mCl8k_JvALlH"
      }
    },
    {
      "cell_type": "code",
      "source": [
        "def correct_signs(expression):\n",
        "    list_1 = expression.split()\n",
        "    for i in range(1, len(list_1), 2):\n",
        "        operator = list_1[i]\n",
        "        first = int(list_1[i-1])\n",
        "        second= int(list_1[i+1])\n",
        "\n",
        "        if operator == '<':\n",
        "          if first > second:\n",
        "            return False\n",
        "        elif operator == '>':\n",
        "          if first < second:\n",
        "            return False\n",
        "    return True\n",
        "\n",
        "exp = input()\n",
        "print(correct_signs(exp))\n"
      ],
      "metadata": {
        "id": "JVyH8u5UASTR",
        "colab": {
          "base_uri": "https://localhost:8080/"
        },
        "outputId": "d8b9fbb7-efe0-4737-9373-a22ed2883395"
      },
      "execution_count": 6,
      "outputs": [
        {
          "output_type": "stream",
          "name": "stdout",
          "text": [
            "13 > 44 > 33 > 1\n",
            "False\n"
          ]
        }
      ]
    },
    {
      "cell_type": "markdown",
      "source": [
        "Question3. Create a function that replaces all the vowels in a string with a specified character.\n",
        "\n",
        "Examples\n",
        "\n",
        "replace_vowels(&quot;the aardvark&quot;, &quot;#&quot;) ➞ &quot;th# ##rdv#rk&quot;\n",
        "\n",
        "replace_vowels(&quot;minnie mouse&quot;, &quot;?&quot;) ➞ &quot;m?nn?? m??s?&quot;\n",
        "\n",
        "replace_vowels(&quot;shakespeare&quot;, &quot;*&quot;) ➞ &quot;sh*k*sp**r*&quot;"
      ],
      "metadata": {
        "id": "wA_J9jv3AYv4"
      }
    },
    {
      "cell_type": "code",
      "source": [
        "def replace_Vowel(string):\n",
        "  string_L = list(string)\n",
        "  vowels = ['a','e','i','o','u']\n",
        "  for i in range(0,len(string)):\n",
        "    if string_L[i] in vowels:\n",
        "      string_L[i] = \"#\"\n",
        "  ring = ''.join(map(str, string_L))\n",
        "  return ring\n",
        "\n",
        "s = input()\n",
        "print(replace_Vowel(s))\n"
      ],
      "metadata": {
        "id": "8D2uP9djAbom",
        "colab": {
          "base_uri": "https://localhost:8080/"
        },
        "outputId": "8b8063fc-496a-4638-f4d2-2bcd32df70c2"
      },
      "execution_count": null,
      "outputs": [
        {
          "output_type": "stream",
          "name": "stdout",
          "text": [
            "the aardvark\n",
            "th# ##rdv#rk\n"
          ]
        }
      ]
    },
    {
      "cell_type": "markdown",
      "source": [
        "Question4. Write a function that calculates the factorial of a number recursively.\n",
        "\n",
        "Examples\n",
        "\n",
        "factorial(5) ➞ 120\n",
        "\n",
        "factorial(3) ➞ 6\n",
        "\n",
        "factorial(1) ➞ 1\n",
        "\n",
        "factorial(0) ➞ 1"
      ],
      "metadata": {
        "id": "AOfd8ryNAf5X"
      }
    },
    {
      "cell_type": "code",
      "source": [
        "def fact(n):\n",
        "  if n == 1:\n",
        "    return 1\n",
        "  elif n > 1:\n",
        "    return n * fact(n-1)\n",
        "\n",
        "n = int(input(\"Enter a number: \"))\n",
        "print(fact(n))\n"
      ],
      "metadata": {
        "id": "N6sEdMgeAk39",
        "colab": {
          "base_uri": "https://localhost:8080/"
        },
        "outputId": "5ba52fd7-86e3-44fd-d027-711260bebe87"
      },
      "execution_count": 3,
      "outputs": [
        {
          "output_type": "stream",
          "name": "stdout",
          "text": [
            "Enter a number: 5\n",
            "120\n"
          ]
        }
      ]
    },
    {
      "cell_type": "markdown",
      "source": [
        "Question 5\n",
        "Hamming distance is the number of characters that differ between two strings.\n",
        "\n",
        "To illustrate:\n",
        "\n",
        "String1: &quot;abcbba&quot;\n",
        "\n",
        "String2: &quot;abcbda&quot;\n",
        "\n",
        "Hamming Distance: 1 - &quot;b&quot; vs. &quot;d&quot; is the only difference.\n",
        "\n",
        "Create a function that computes the hamming distance between two strings.\n",
        "\n",
        "Examples\n",
        "\n",
        "hamming_distance(&quot;abcde&quot;, &quot;bcdef&quot;) ➞ 5\n",
        "\n",
        "hamming_distance(&quot;abcde&quot;, &quot;abcde&quot;) ➞ 0\n",
        "\n",
        "hamming_distance(&quot;strong&quot;, &quot;strung&quot;) ➞ 1"
      ],
      "metadata": {
        "id": "nADJW8TiAohW"
      }
    },
    {
      "cell_type": "code",
      "source": [
        "def Hamming(String_1 , String_2):\n",
        "  count =0\n",
        "  if len(String_1) == len(String_2):\n",
        "    for i in range(0,len(String_1)):\n",
        "      if String_1[i] != String_2[i]:\n",
        "        count +=1\n",
        "    return count\n",
        "  else :\n",
        "    return min(len(String_1 ),len(String_2))\n",
        "\n",
        "first = input()\n",
        "second = input()\n",
        "print(Hamming(first,second))"
      ],
      "metadata": {
        "colab": {
          "base_uri": "https://localhost:8080/"
        },
        "id": "DQV_L76WAzEJ",
        "outputId": "caa51e8c-9fe0-4985-b85b-08d63d4d4773"
      },
      "execution_count": 8,
      "outputs": [
        {
          "output_type": "stream",
          "name": "stdout",
          "text": [
            "abcde\n",
            "bcdef\n",
            "5\n"
          ]
        }
      ]
    },
    {
      "cell_type": "code",
      "source": [],
      "metadata": {
        "id": "RNuosffZHSn3"
      },
      "execution_count": null,
      "outputs": []
    }
  ]
}