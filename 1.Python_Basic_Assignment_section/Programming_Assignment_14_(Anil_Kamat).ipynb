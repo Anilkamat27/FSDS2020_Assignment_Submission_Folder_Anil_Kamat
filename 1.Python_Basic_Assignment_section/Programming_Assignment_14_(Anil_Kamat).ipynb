{
  "nbformat": 4,
  "nbformat_minor": 0,
  "metadata": {
    "colab": {
      "provenance": []
    },
    "kernelspec": {
      "name": "python3",
      "display_name": "Python 3"
    },
    "language_info": {
      "name": "python"
    }
  },
  "cells": [
    {
      "cell_type": "markdown",
      "source": [
        "**Question 1:**\n",
        "\n",
        "Define a class with a generator which can iterate the numbers, which are divisible by\n",
        "7, between a given range 0 and n."
      ],
      "metadata": {
        "id": "2go5zaiAiLFx"
      }
    },
    {
      "cell_type": "code",
      "source": [
        "def generator(n):\n",
        "  R_list = range(1,n+1)\n",
        "  for i in R_list:\n",
        "    if i % 7 == 0:\n",
        "      yield i\n",
        "\n",
        "n = int(input('Enter n : '))\n",
        "print(list(generator(n)))\n"
      ],
      "metadata": {
        "colab": {
          "base_uri": "https://localhost:8080/"
        },
        "id": "UV3vj6EqjUCQ",
        "outputId": "ed082bc7-2526-4ab8-d5a0-b2350b30d1df"
      },
      "execution_count": null,
      "outputs": [
        {
          "output_type": "stream",
          "name": "stdout",
          "text": [
            "Enter n : 56\n",
            "[7, 14, 21, 28, 35, 42, 49, 56]\n"
          ]
        }
      ]
    },
    {
      "cell_type": "markdown",
      "source": [
        "**Question 2:**\n",
        "\n",
        "Write a program to compute the frequency of the words from the input. The output\n",
        "should output after sorting the key alphanumerically.\n",
        "Suppose the following input is supplied to the program:\n",
        "\n",
        "New to Python or choosing between Python 2 and Python 3? Read Python 2 or\n",
        "\n",
        "Python 3.\n",
        "\n",
        "Then, the output should be:\n",
        "\n",
        "2:2\n",
        "\n",
        "3.:1\n",
        "\n",
        "3?:1\n",
        "\n",
        "New:1\n",
        "\n",
        "Python:5\n",
        "\n",
        "Read:1\n",
        "\n",
        "and:1\n",
        "\n",
        "between:1\n",
        "\n",
        "choosing:1\n",
        "\n",
        "or:2\n",
        "\n",
        "to:1"
      ],
      "metadata": {
        "id": "I96NKi5RrRky"
      }
    },
    {
      "cell_type": "code",
      "source": [
        "String = input(\"Enter String : \").split(\" \")\n",
        "dict_1 = {}\n",
        "for i in String :\n",
        "  if i != \"\":\n",
        "    count = 0\n",
        "    for j in String:\n",
        "      if i == j :\n",
        "        count +=1\n",
        "    dict_1[i] = count\n",
        "\n",
        "sorted_dict = dict(sorted(dict_1.items()))\n",
        "\n",
        "for key,value in sorted_dict.items():\n",
        "  print(f\"{key}:{value}\")\n",
        "\n"
      ],
      "metadata": {
        "id": "-QEt_MFooXsb",
        "colab": {
          "base_uri": "https://localhost:8080/"
        },
        "outputId": "7cec766b-7411-4131-bdfe-f84104f63c86"
      },
      "execution_count": 14,
      "outputs": [
        {
          "output_type": "stream",
          "name": "stdout",
          "text": [
            "Enter String : New to Python or choosing between Python 2 and Python 3? Read Python 2 or  Python 3.\n",
            "2:2\n",
            "3.:1\n",
            "3?:1\n",
            "New:1\n",
            "Python:5\n",
            "Read:1\n",
            "and:1\n",
            "between:1\n",
            "choosing:1\n",
            "or:2\n",
            "to:1\n"
          ]
        }
      ]
    },
    {
      "cell_type": "markdown",
      "source": [
        "**Question 3:**\n",
        "\n",
        "Define a class Person and its two child classes: Male and Female. All classes have a\n",
        "method &quot;getGender&quot; which can print &quot;Male&quot; for Male class and &quot;Female&quot; for Female\n",
        "class."
      ],
      "metadata": {
        "id": "h0bjlSZwgYr4"
      }
    },
    {
      "cell_type": "code",
      "source": [
        "class Person:\n",
        "  def getGender(self):\n",
        "    print(\"Unknown\")\n",
        "\n",
        "class Male(Person):\n",
        "  def getGender(self):\n",
        "    print(\"Male\")\n",
        "\n",
        "class Female(Person):\n",
        "  def getGender(self):\n",
        "    print(\"Female\")\n",
        "\n",
        "Anisha = Female()\n",
        "Anil = Male()\n",
        "Anil.getGender()\n",
        "Anisha.getGender()"
      ],
      "metadata": {
        "colab": {
          "base_uri": "https://localhost:8080/"
        },
        "id": "sIVgOc9ic0BR",
        "outputId": "282998a0-2417-43b9-a606-19f7dc76da3f"
      },
      "execution_count": 15,
      "outputs": [
        {
          "output_type": "stream",
          "name": "stdout",
          "text": [
            "Male\n",
            "Female\n"
          ]
        }
      ]
    },
    {
      "cell_type": "markdown",
      "source": [
        "**Question 4:**\n",
        "\n",
        "Please write a program to generate all sentences where subject is in [&quot;I&quot;, &quot;You&quot;] and\n",
        "verb is in [&quot;Play&quot;, &quot;Love&quot;] and the object is in [&quot;Hockey&quot;,&quot;Football&quot;]."
      ],
      "metadata": {
        "id": "lSIQJwVyifuo"
      }
    },
    {
      "cell_type": "code",
      "source": [
        "subjects = [\"I\", \"You\"]\n",
        "verbs = [\"Play\", \"Love\"]\n",
        "objects = [\"Hockey\", \"Football\"]\n",
        "\n",
        "sentences = []\n",
        "\n",
        "for subject in subjects:\n",
        "  for verb in verbs:\n",
        "    for obj in objects:\n",
        "      sentence = f\"{subject} {verb} {obj}.\"\n",
        "      sentences.append(sentence)\n",
        "\n",
        "for sentence in sentences:\n",
        "  print(sentence)\n"
      ],
      "metadata": {
        "colab": {
          "base_uri": "https://localhost:8080/"
        },
        "id": "k0Z0cEaviZOr",
        "outputId": "db6876be-8735-46bb-aeae-9c75b079ba41"
      },
      "execution_count": 17,
      "outputs": [
        {
          "output_type": "stream",
          "name": "stdout",
          "text": [
            "I Play Hockey.\n",
            "I Play Football.\n",
            "I Love Hockey.\n",
            "I Love Football.\n",
            "You Play Hockey.\n",
            "You Play Football.\n",
            "You Love Hockey.\n",
            "You Love Football.\n"
          ]
        }
      ]
    },
    {
      "cell_type": "markdown",
      "source": [
        "Question 5:\n",
        "\n",
        "Please write a program to compress and decompress the string \"hello world!hello world!hello world!hello world!\"."
      ],
      "metadata": {
        "id": "o9gX_3humayl"
      }
    },
    {
      "cell_type": "code",
      "source": [
        "import zlib\n",
        "\n",
        "def compress(string):\n",
        "  compressed = zlib.compress(bytes(string, 'utf-8'))\n",
        "  return compressed\n",
        "\n",
        "def decompress(compressed):\n",
        "  decompressed = zlib.decompress(compressed).decode('utf-8')\n",
        "  return decompressed\n",
        "\n",
        "string = \"hello world!hello world!hello world!hello world!\"\n",
        "print(\"Original string:\", string)\n",
        "compressed = compress(string)\n",
        "print(\"Compressed string:\", compressed)\n",
        "decompressed = decompress(compressed)\n",
        "print(\"Decompressed string:\", decompressed)\n"
      ],
      "metadata": {
        "colab": {
          "base_uri": "https://localhost:8080/"
        },
        "id": "VdUrbsMYlVvA",
        "outputId": "ac2423c5-1c1b-4c16-e160-ce8afc73c8e2"
      },
      "execution_count": 19,
      "outputs": [
        {
          "output_type": "stream",
          "name": "stdout",
          "text": [
            "Original string: hello world!hello world!hello world!hello world!\n",
            "Compressed string: b'x\\x9c\\xcbH\\xcd\\xc9\\xc9W(\\xcf/\\xcaIQ\\xcc \\x82\\r\\x00\\xbd[\\x11\\xf5'\n",
            "Decompressed string: hello world!hello world!hello world!hello world!\n"
          ]
        }
      ]
    },
    {
      "cell_type": "markdown",
      "source": [
        "**Question 6:**\n",
        "\n",
        "**Please** write a binary search function which searches an item in a sorted list. The function should return the index of element to be searched in the list."
      ],
      "metadata": {
        "id": "U8klC9xwneDE"
      }
    },
    {
      "cell_type": "code",
      "source": [
        "def BinarySearch(arr, x):\n",
        "  i = 0\n",
        "  j = len(arr) - 1\n",
        "  while j >= i:\n",
        "    mid = i + (j-i) //2\n",
        "    if arr[mid]== x:\n",
        "      return mid\n",
        "    elif arr[mid] > x:\n",
        "      j = mid -1\n",
        "    elif arr[mid] < x:\n",
        "      i = mid+1\n",
        "  return -1\n",
        "\n",
        "arr = [2,4,5,6,7,8,23,45,67,89]\n",
        "n = int(input('Enter n : '))\n",
        "res = BinarySearch(arr, n)\n",
        "print(\"Searched element is present at the index\", res)"
      ],
      "metadata": {
        "colab": {
          "base_uri": "https://localhost:8080/"
        },
        "id": "yyTQAO6unO3f",
        "outputId": "ae23c6fa-5c37-4979-e2ba-a8c6f2739f55"
      },
      "execution_count": 21,
      "outputs": [
        {
          "output_type": "stream",
          "name": "stdout",
          "text": [
            "Enter n : 8\n",
            "Searched element is present at the index 5\n"
          ]
        }
      ]
    },
    {
      "cell_type": "code",
      "source": [],
      "metadata": {
        "id": "u9cBdpbOofoh"
      },
      "execution_count": null,
      "outputs": []
    }
  ]
}