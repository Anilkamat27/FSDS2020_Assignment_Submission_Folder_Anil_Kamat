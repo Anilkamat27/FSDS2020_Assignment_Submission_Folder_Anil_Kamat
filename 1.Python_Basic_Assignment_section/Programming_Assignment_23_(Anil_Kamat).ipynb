{
  "nbformat": 4,
  "nbformat_minor": 0,
  "metadata": {
    "colab": {
      "provenance": []
    },
    "kernelspec": {
      "name": "python3",
      "display_name": "Python 3"
    },
    "language_info": {
      "name": "python"
    }
  },
  "cells": [
    {
      "cell_type": "markdown",
      "source": [
        "Question 1\n",
        "\n",
        "Create a function that takes a number as an argument and returns True or False depending\n",
        "on whether the number is symmetrical or not. A number is symmetrical when it is the same as\n",
        "its reverse.\n",
        "\n",
        "Examples\n",
        "\n",
        "is_symmetrical(7227) ➞ True\n",
        "\n",
        "is_symmetrical(12567) ➞ False\n",
        "\n",
        "is_symmetrical(44444444) ➞ True\n",
        "\n",
        "is_symmetrical(9939) ➞ False\n",
        "\n",
        "is_symmetrical(1112111) ➞ True"
      ],
      "metadata": {
        "id": "DyCvqhy5OLFO"
      }
    },
    {
      "cell_type": "code",
      "execution_count": 7,
      "metadata": {
        "colab": {
          "base_uri": "https://localhost:8080/"
        },
        "id": "UDU0KtbcNmX9",
        "outputId": "5ea6ecd0-84ae-47a6-dba0-652503c07545"
      },
      "outputs": [
        {
          "output_type": "stream",
          "name": "stdout",
          "text": [
            "7227\n",
            "True\n"
          ]
        }
      ],
      "source": [
        "def is_symetrical(num_1):\n",
        "  num = list(str(num_1))\n",
        "  i=0\n",
        "  while i < len(num)/2:\n",
        "    if num[i] != num[(len(num)-1)-i]:\n",
        "      return False\n",
        "    i += 1\n",
        "  return True\n",
        "n = int(input())\n",
        "print(is_symetrical(n))\n"
      ]
    },
    {
      "cell_type": "markdown",
      "source": [
        "Question 2\n",
        "\n",
        "Given a string of numbers separated by a comma and space, return the product of the\n",
        "numbers.\n",
        "\n",
        "Examples\n",
        "\n",
        "multiply_nums(&quot;2, 3&quot;) ➞ 6\n",
        "\n",
        "multiply_nums(&quot;1, 2, 3, 4&quot;) ➞ 24\n",
        "\n",
        "multiply_nums(&quot;54, 75, 453, 0&quot;) ➞ 0\n",
        "\n",
        "multiply_nums(&quot;10, -2&quot;) ➞ -20"
      ],
      "metadata": {
        "id": "2IUnB1xxR2Q6"
      }
    },
    {
      "cell_type": "code",
      "source": [
        "def multiply_nums(string):\n",
        "  list_1 = string.split(\",\")\n",
        "  product =1\n",
        "  for i in list_1:\n",
        "    product *= int(i)\n",
        "  return product\n",
        "\n",
        "print(multiply_nums(\"54, 75, 453, 0\"))\n",
        "\n"
      ],
      "metadata": {
        "colab": {
          "base_uri": "https://localhost:8080/"
        },
        "id": "oo2eKwmWRubm",
        "outputId": "a57bf1e5-1535-4668-be6c-abdbc2f8eeb0"
      },
      "execution_count": 10,
      "outputs": [
        {
          "output_type": "stream",
          "name": "stdout",
          "text": [
            "0\n"
          ]
        }
      ]
    },
    {
      "cell_type": "markdown",
      "source": [
        "Question 3\n",
        "\n",
        "Create a function that squares every digit of a number.\n",
        "\n",
        "Examples\n",
        "\n",
        "square_digits(9119) ➞ 811181\n",
        "\n",
        "square_digits(2483) ➞ 416649\n",
        "\n",
        "square_digits(3212) ➞ 9414\n",
        "\n",
        "Notes\n",
        "\n",
        "The function receives an integer and must return an integer."
      ],
      "metadata": {
        "id": "Gnn-NBc5T27Q"
      }
    },
    {
      "cell_type": "code",
      "source": [
        "def square_digits(num):\n",
        "  string = str(num)\n",
        "  res = []\n",
        "  for i in string:\n",
        "    res.append(str(int(i)**2))\n",
        "  num = \"\".join(res)\n",
        "  return num\n",
        "\n",
        "print(square_digits(9119))"
      ],
      "metadata": {
        "colab": {
          "base_uri": "https://localhost:8080/"
        },
        "id": "deOej2F-Tm-P",
        "outputId": "6aee2554-824e-4017-8874-3b4d83c66ab3"
      },
      "execution_count": 13,
      "outputs": [
        {
          "output_type": "stream",
          "name": "stdout",
          "text": [
            "811181\n"
          ]
        }
      ]
    },
    {
      "cell_type": "markdown",
      "source": [
        "Question 4\n",
        "\n",
        "Create a function that sorts a list and removes all duplicate items from it.\n",
        "\n",
        "Examples\n",
        "\n",
        "setify([1, 3, 3, 5, 5]) ➞ [1, 3, 5]\n",
        "\n",
        "setify([4, 4, 4, 4]) ➞ [4]\n",
        "\n",
        "setify([5, 7, 8, 9, 10, 15]) ➞ [5, 7, 8, 9, 10, 15]\n",
        "\n",
        "setify([3, 3, 3, 2, 1]) ➞ [1, 2, 3]"
      ],
      "metadata": {
        "id": "mC9_QMLrWajP"
      }
    },
    {
      "cell_type": "code",
      "source": [
        "def setify(lst):\n",
        "  list_1 = set(lst)\n",
        "  return list(list_1)\n",
        "\n",
        "print(setify([1,3,3,5,5]))"
      ],
      "metadata": {
        "colab": {
          "base_uri": "https://localhost:8080/"
        },
        "id": "CBqnJ7alWFXl",
        "outputId": "c70fbae6-6c6b-424c-bc42-f06de8cb680c"
      },
      "execution_count": 14,
      "outputs": [
        {
          "output_type": "stream",
          "name": "stdout",
          "text": [
            "[1, 3, 5]\n"
          ]
        }
      ]
    },
    {
      "cell_type": "markdown",
      "source": [
        "Question 5\n",
        "\n",
        "Create a function that returns the mean of all digits.\n",
        "\n",
        "Examples\n",
        "\n",
        "mean(42) ➞ 3\n",
        "\n",
        "mean(12345) ➞ 3\n",
        "\n",
        "mean(666) ➞ 6\n",
        "\n",
        "Notes\n",
        "\n",
        " The mean of all digits is the sum of digits / how many digits there are (e.g. mean of digits in\n",
        "\n",
        "512 is (5+1+2)/3(number of digits) = 8/3=2).\n",
        "\n",
        " The mean will always be an integer."
      ],
      "metadata": {
        "id": "rAqbQv3eW5SX"
      }
    },
    {
      "cell_type": "code",
      "source": [
        "def mean(num):\n",
        "  string = str(num)\n",
        "  product = 1\n",
        "  for i in string:\n",
        "    product += int(i)\n",
        "  mean = product / len(string)\n",
        "  return int(mean)\n",
        "\n",
        "n = int(input())\n",
        "print(mean(n))\n",
        "\n"
      ],
      "metadata": {
        "colab": {
          "base_uri": "https://localhost:8080/"
        },
        "id": "b8S9WXEIW2L6",
        "outputId": "8198d8db-2021-4bcc-e0b3-b4302aa2138e"
      },
      "execution_count": 22,
      "outputs": [
        {
          "output_type": "stream",
          "name": "stdout",
          "text": [
            "12345\n",
            "3\n"
          ]
        }
      ]
    },
    {
      "cell_type": "code",
      "source": [],
      "metadata": {
        "id": "VeAZQIETXxfW"
      },
      "execution_count": null,
      "outputs": []
    }
  ]
}