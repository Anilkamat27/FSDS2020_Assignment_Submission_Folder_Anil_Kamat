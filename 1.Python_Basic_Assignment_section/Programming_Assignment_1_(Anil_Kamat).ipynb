{
  "nbformat": 4,
  "nbformat_minor": 0,
  "metadata": {
    "colab": {
      "provenance": []
    },
    "kernelspec": {
      "name": "python3",
      "display_name": "Python 3"
    },
    "language_info": {
      "name": "python"
    }
  },
  "cells": [
    {
      "cell_type": "markdown",
      "source": [
        "1. Write a Python program to print &quot;Hello Python&quot;?"
      ],
      "metadata": {
        "id": "L99s559AqU5h"
      }
    },
    {
      "cell_type": "code",
      "execution_count": 2,
      "metadata": {
        "colab": {
          "base_uri": "https://localhost:8080/"
        },
        "id": "AlJwg-v8qH99",
        "outputId": "7f39e46c-3858-451e-a846-dae9b81897ae"
      },
      "outputs": [
        {
          "output_type": "stream",
          "name": "stdout",
          "text": [
            "Hello Python\n"
          ]
        }
      ],
      "source": [
        "print(\"Hello Python\")"
      ]
    },
    {
      "cell_type": "markdown",
      "source": [
        "2. Write a Python program to do arithmetical operations addition and division.?"
      ],
      "metadata": {
        "id": "rc6TutW7qXmi"
      }
    },
    {
      "cell_type": "code",
      "source": [
        "a = 10\n",
        "b = 5\n",
        "sum = a + b #perform addition operation\n",
        "print(sum)\n",
        "division = a / b # perform division operation\n",
        "print(division)"
      ],
      "metadata": {
        "colab": {
          "base_uri": "https://localhost:8080/"
        },
        "id": "28HG488kqdNP",
        "outputId": "54c45b8b-4a5c-4713-c293-8a8a41852877"
      },
      "execution_count": 1,
      "outputs": [
        {
          "output_type": "stream",
          "name": "stdout",
          "text": [
            "15\n",
            "2.0\n"
          ]
        }
      ]
    },
    {
      "cell_type": "markdown",
      "source": [
        "3. Write a Python program to find the area of a triangle?"
      ],
      "metadata": {
        "id": "6QPf3Ol2qhZ9"
      }
    },
    {
      "cell_type": "code",
      "source": [
        "a = float(input('first side: '))\n",
        "b = float(input('second side: '))\n",
        "c = float(input('third side: '))\n",
        "s = (a + b + c) / 2\n",
        "area = (s*(s-a)*(s-b)*(s-c))**0.5\n",
        "print(area)\n"
      ],
      "metadata": {
        "colab": {
          "base_uri": "https://localhost:8080/"
        },
        "id": "EOpssidNqiDn",
        "outputId": "e0986c48-5de1-4e27-895e-462f515e6b9a"
      },
      "execution_count": 3,
      "outputs": [
        {
          "output_type": "stream",
          "name": "stdout",
          "text": [
            "first side: 23\n",
            "second side: 22\n",
            "third side: 15\n",
            "158.74507866387543\n"
          ]
        }
      ]
    },
    {
      "cell_type": "markdown",
      "source": [
        "4. Write a Python program to swap two variables?"
      ],
      "metadata": {
        "id": "t8-ceQE7qisk"
      }
    },
    {
      "cell_type": "code",
      "source": [
        "a = 2\n",
        "b = 6\n",
        "print(\"before Swap a :\" , a ,\"b :\",b)\n",
        "c = a #using third variable c\n",
        "a = b\n",
        "b = c\n",
        "print(\"After Swap a :\" , a ,\"b :\",b)"
      ],
      "metadata": {
        "colab": {
          "base_uri": "https://localhost:8080/"
        },
        "id": "Mouaeh53qlA-",
        "outputId": "0f3aa7e4-7206-4a95-f110-036d9b478ab5"
      },
      "execution_count": 4,
      "outputs": [
        {
          "output_type": "stream",
          "name": "stdout",
          "text": [
            "before Swap a : 2 b : 6\n",
            "6\n",
            "2\n"
          ]
        }
      ]
    },
    {
      "cell_type": "markdown",
      "source": [
        "5. Write a Python program to generate a random number?"
      ],
      "metadata": {
        "id": "Rx10nCUIqlst"
      }
    },
    {
      "cell_type": "code",
      "source": [
        "import random\n",
        "print(random.randint(0,5))"
      ],
      "metadata": {
        "colab": {
          "base_uri": "https://localhost:8080/"
        },
        "id": "w0eYQvEJqnq-",
        "outputId": "63da6c99-82ec-470f-d54b-edfd69e9e57e"
      },
      "execution_count": 6,
      "outputs": [
        {
          "output_type": "stream",
          "name": "stdout",
          "text": [
            "4\n"
          ]
        }
      ]
    },
    {
      "cell_type": "code",
      "source": [],
      "metadata": {
        "id": "Oq77QmXMsePa"
      },
      "execution_count": 5,
      "outputs": []
    }
  ]
}