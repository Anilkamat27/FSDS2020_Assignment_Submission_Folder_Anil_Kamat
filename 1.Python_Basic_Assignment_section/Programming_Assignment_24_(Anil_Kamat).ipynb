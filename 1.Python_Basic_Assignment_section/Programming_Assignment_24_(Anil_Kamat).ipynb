{
  "nbformat": 4,
  "nbformat_minor": 0,
  "metadata": {
    "colab": {
      "provenance": []
    },
    "kernelspec": {
      "name": "python3",
      "display_name": "Python 3"
    },
    "language_info": {
      "name": "python"
    }
  },
  "cells": [
    {
      "cell_type": "markdown",
      "source": [
        "Question1\n",
        "\n",
        "Create a function that takes an integer and returns a list from 1 to the given number, where:\n",
        "\n",
        "1. If the number can be divided evenly by 4, amplify it by 10 (i.e. return 10 times the\n",
        "number).\n",
        "\n",
        "2. If the number cannot be divided evenly by 4, simply return the number.\n",
        "\n",
        "Examples\n",
        "\n",
        "amplify(4) ➞ [1, 2, 3, 40]\n",
        "\n",
        "amplify(3) ➞ [1, 2, 3]\n",
        "\n",
        "amplify(25) ➞ [1, 2, 3, 40, 5, 6, 7, 80, 9, 10, 11, 120, 13, 14, 15, 160,\n",
        "17, 18, 19, 200, 21, 22, 23, 240, 25]\n",
        "\n",
        "Notes\n",
        "\n",
        " The given integer will always be equal to or greater than 1.\n",
        "\n",
        " Include the number (see example above).\n",
        "\n",
        " To perform this problem with its intended purpose, try doing it with list\n",
        "comprehensions. If that&#39;s too difficult, just solve the challenge any way you can."
      ],
      "metadata": {
        "id": "jPif3WqhbOGr"
      }
    },
    {
      "cell_type": "code",
      "execution_count": null,
      "metadata": {
        "colab": {
          "base_uri": "https://localhost:8080/"
        },
        "id": "Wx9mGtyDbGVf",
        "outputId": "a248ef8c-cd31-4b74-a451-75614c0eaa6e"
      },
      "outputs": [
        {
          "output_type": "stream",
          "name": "stdout",
          "text": [
            "25\n",
            "[1, 2, 3, 160, 5, 6, 7, 320, 9, 10, 11, 480, 13, 14, 15, 640, 17, 18, 19, 800, 21, 22, 23, 960, 25]\n"
          ]
        }
      ],
      "source": [
        "def amplify(num):\n",
        "  list_1 = [n * 40 if n % 4 == 0 else n for n in range(1, num+1)]\n",
        "  return list_1\n",
        "\n",
        "n = int(input())\n",
        "print(amplify(n))"
      ]
    },
    {
      "cell_type": "markdown",
      "source": [
        "Question2\n",
        "\n",
        "Create a function that takes a list of numbers and return the number that&#39;s unique.\n",
        "\n",
        "Examples\n",
        "\n",
        "unique([3, 3, 3, 7, 3, 3]) ➞ 7\n",
        "\n",
        "unique([0, 0, 0.77, 0, 0]) ➞ 0.77\n",
        "\n",
        "unique([0, 1, 1, 1, 1, 1, 1, 1]) ➞ 0\n",
        "\n",
        "Notes\n",
        "\n",
        "Test cases will always have exactly one unique number while all others are the same."
      ],
      "metadata": {
        "id": "Z6rzIuFYc52j"
      }
    },
    {
      "cell_type": "code",
      "source": [
        "def unique(list_1):\n",
        "  count =0\n",
        "  for i in  list_1:\n",
        "    count = 0\n",
        "    for j in list_1:\n",
        "      if i == j :\n",
        "        count +=1\n",
        "    if count == 1:\n",
        "      return i\n",
        "print(unique([0, 0, 0.77, 0, 0]))\n"
      ],
      "metadata": {
        "colab": {
          "base_uri": "https://localhost:8080/"
        },
        "id": "SPpVLigEc1x2",
        "outputId": "e7572422-4529-44c5-f5a9-403fe44e9eca"
      },
      "execution_count": null,
      "outputs": [
        {
          "output_type": "stream",
          "name": "stdout",
          "text": [
            "0.77\n"
          ]
        }
      ]
    },
    {
      "cell_type": "markdown",
      "source": [
        "Question3\n",
        "\n",
        "Your task is to create a Circle constructor that creates a circle with a radius provided by an\n",
        "argument. The circles constructed must have two getters getArea() (PIr^2) and\n",
        "getPerimeter() (2PI*r) which give both respective areas and perimeter (circumference).\n",
        "\n",
        "For help with this class, I have provided you with a Rectangle constructor which you can use\n",
        "as a base example.\n",
        "\n",
        "Examples\n",
        "\n",
        "circy = Circle(11)\n",
        "\n",
        "circy.getArea()\n",
        "\n",
        "Should return 380.132711084365\n",
        "\n",
        "circy = Circle(4.44)\n",
        "\n",
        "circy.getPerimeter()\n",
        "\n",
        "Should return 27.897342763877365\n",
        "\n",
        "Notes\n",
        "Round results up to the nearest integer."
      ],
      "metadata": {
        "id": "ilIeCFGNec0f"
      }
    },
    {
      "cell_type": "code",
      "source": [
        "import math\n",
        "class Circle():\n",
        "  def __init__(self,radius):\n",
        "    self.radius = radius\n",
        "\n",
        "  def getArea(self):\n",
        "    area = math.pi *(self.radius**2)\n",
        "    print(area)\n",
        "\n",
        "  def getPerimeter(self):\n",
        "    perimeter = 2* math.pi *self.radius\n",
        "    print(perimeter)\n",
        "\n",
        "circy = Circle(11)\n",
        "circy.getArea()\n",
        "circy.getPerimeter()"
      ],
      "metadata": {
        "colab": {
          "base_uri": "https://localhost:8080/"
        },
        "id": "Iawvx59ReUhL",
        "outputId": "cf1cd63b-3e3e-40ef-f091-567726fe05c5"
      },
      "execution_count": null,
      "outputs": [
        {
          "output_type": "stream",
          "name": "stdout",
          "text": [
            "380.132711084365\n",
            "69.11503837897544\n"
          ]
        }
      ]
    },
    {
      "cell_type": "markdown",
      "source": [
        "Question4\n",
        "\n",
        "Create a function that takes a list of strings and return a list, sorted from shortest to longest.\n",
        "\n",
        "Examples\n",
        "\n",
        "sort_by_length([&quot;Google&quot;, &quot;Apple&quot;, &quot;Microsoft&quot;])\n",
        "➞ [&quot;Apple&quot;, &quot;Google&quot;, &quot;Microsoft&quot;]\n",
        "\n",
        "sort_by_length([&quot;Leonardo&quot;, &quot;Michelangelo&quot;, &quot;Raphael&quot;, &quot;Donatello&quot;])\n",
        "➞ [&quot;Raphael&quot;, &quot;Leonardo&quot;, &quot;Donatello&quot;, &quot;Michelangelo&quot;]\n",
        "\n",
        "sort_by_length([&quot;Turing&quot;, &quot;Einstein&quot;, &quot;Jung&quot;])\n",
        "➞ [&quot;Jung&quot;, &quot;Turing&quot;, &quot;Einstein&quot;]\n",
        "\n",
        "Notes\n",
        "\n",
        "All test cases contain lists with strings of different lengths, so you won&#39;t have to deal with\n",
        "multiple strings of the same length."
      ],
      "metadata": {
        "id": "uKvybXTAhZFi"
      }
    },
    {
      "cell_type": "code",
      "source": [
        "def sort_by_length(list_1):\n",
        "  for i in range(0,len(list_1)):\n",
        "    for j in range(i + 1,len(list_1)):\n",
        "      if len(list_1[i]) >len(list_1[j]):\n",
        "        list_1[i], list_1[j] = list_1[j], list_1[i]\n",
        "  return list_1\n",
        "\n",
        "print(sort_by_length([\"Leonardo\", \"Michelangelo\", \"Raphael\", \"Donatello\"]))"
      ],
      "metadata": {
        "colab": {
          "base_uri": "https://localhost:8080/"
        },
        "id": "rXBEjU9GfmX9",
        "outputId": "888b1364-94e3-4d6a-dcbd-0ef207eb0f83"
      },
      "execution_count": null,
      "outputs": [
        {
          "output_type": "stream",
          "name": "stdout",
          "text": [
            "['Raphael', 'Leonardo', 'Donatello', 'Michelangelo']\n"
          ]
        }
      ]
    },
    {
      "cell_type": "markdown",
      "source": [
        "Question5\n",
        "\n",
        "Create a function that validates whether three given integers form a Pythagorean triplet. The\n",
        "sum of the squares of the two smallest integers must equal the square of the largest number to\n",
        "be validated.\n",
        "\n",
        "Examples\n",
        "\n",
        "is_triplet(3, 4, 5) ➞ True\n",
        "\n",
        "3² + 4² = 25\n",
        "\n",
        "5² = 25\n",
        "\n",
        "is_triplet(13, 5, 12) ➞ True\n",
        "\n",
        "5² + 12² = 169\n",
        "\n",
        "13² = 169\n",
        "\n",
        "is_triplet(1, 2, 3) ➞ False\n",
        "\n",
        "1² + 2² = 5\n",
        "\n",
        "3² = 9\n",
        "\n",
        "Notes\n",
        "\n",
        "Numbers may not be given in a sorted order."
      ],
      "metadata": {
        "id": "6BJYe5ALlA7F"
      }
    },
    {
      "cell_type": "code",
      "source": [
        "def is_triplet(a,b,c):\n",
        "   if a**2 + b**2 == c**2:\n",
        "    return True\n",
        "   else:\n",
        "    return False\n",
        "\n",
        "print(is_triplet(3, 4, 5))"
      ],
      "metadata": {
        "id": "YIi2u675jPTZ",
        "colab": {
          "base_uri": "https://localhost:8080/"
        },
        "outputId": "4c1c9949-3c52-4a44-aca3-d8fc8a041488"
      },
      "execution_count": 18,
      "outputs": [
        {
          "output_type": "stream",
          "name": "stdout",
          "text": [
            "True\n"
          ]
        }
      ]
    },
    {
      "cell_type": "code",
      "source": [],
      "metadata": {
        "id": "kw4cTLu7xAbv"
      },
      "execution_count": null,
      "outputs": []
    }
  ]
}