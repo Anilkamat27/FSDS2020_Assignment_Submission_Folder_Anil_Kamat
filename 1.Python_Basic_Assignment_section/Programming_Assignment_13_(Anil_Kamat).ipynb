{
  "nbformat": 4,
  "nbformat_minor": 0,
  "metadata": {
    "colab": {
      "provenance": []
    },
    "kernelspec": {
      "name": "python3",
      "display_name": "Python 3"
    },
    "language_info": {
      "name": "python"
    }
  },
  "cells": [
    {
      "cell_type": "markdown",
      "source": [
        "**Question 1**:\n",
        "Write a program that calculates and prints the value according to the given formula:\n",
        "\n",
        "Q = Square root of [(2 * C * D)/H]\n",
        "\n",
        "Following are the fixed values of C and H:\n",
        "\n",
        "C is 50. H is 30.\n",
        "\n",
        "D is the variable whose values should be input to your program in a comma-separated sequence.\n",
        "\n",
        "Example\n",
        "Let us assume the following comma separated input sequence is given to the program:\n",
        "\n",
        "100,150,180\n",
        "\n",
        "The output of the program should be:\n",
        "\n",
        "18,22,24"
      ],
      "metadata": {
        "id": "V8MqTuWgKy1f"
      }
    },
    {
      "cell_type": "code",
      "execution_count": 18,
      "metadata": {
        "colab": {
          "base_uri": "https://localhost:8080/"
        },
        "id": "cjUXlIviKjsL",
        "outputId": "620becc0-7084-4da0-ebab-6bfe3ab37504"
      },
      "outputs": [
        {
          "output_type": "stream",
          "name": "stdout",
          "text": [
            "Input Sequence in comma seprated form : 100,150,180\n",
            "18,22,24\n"
          ]
        }
      ],
      "source": [
        "C= 50\n",
        "H =30\n",
        "D = list(input(\"Input Sequence in comma seprated form : \").split(','))\n",
        "res =[]\n",
        "for i in D:\n",
        "  res.append(str(int(((2 * C * int(i))/H)**0.5)))\n",
        "\n",
        "string =','.join(res)\n",
        "\n",
        "print(string)\n",
        ""
      ]
    },
    {
      "cell_type": "markdown",
      "source": [
        "**Question 2:**\n",
        "Write a program which takes 2 digits, X,Y as input and generates a 2-dimensional array.\n",
        "\n",
        "The element value in the i-th row and j-th column of the array should be i*j.\n",
        "\n",
        "Note: i=0,1.., X-1; j=0,1,¡Y-1.\n",
        "\n",
        "**Example**\n",
        "Suppose the following inputs are given to the program:\n",
        "\n",
        "3,5\n",
        "\n",
        "Then, the output of the program should be:\n",
        "[[0, 0, 0, 0, 0], [0, 1, 2, 3, 4], [0, 2, 4, 6, 8]]"
      ],
      "metadata": {
        "id": "hGqkOsXYLOXg"
      }
    },
    {
      "cell_type": "code",
      "source": [
        "import numpy as np\n",
        "i = int(input(\"Enter value of i: \"))\n",
        "j = int(input(\"Enter value of j: \"))\n",
        "matrix = np.zeros((i,j), dtype = int)\n",
        "for x in range(0,i):\n",
        "  for y in range(0,j):\n",
        "    matrix[x][y] += (x*y)\n",
        "# I think the desired output should be printed as instructed in code, I have made every effort to print it exactly as mentioned.\n",
        "print(\"[\",end=\"\")\n",
        "for x in range(0,i):\n",
        "  temp = []\n",
        "  for y in range(0,j):\n",
        "    temp.append(str(matrix[x][y]))\n",
        "  string =','.join(temp)\n",
        "  print(\"[\"+string+\"]\", end=\"\")\n",
        "  if x != (i-1):\n",
        "    print(\",\",end=\"\")\n",
        "print(\"]\")"
      ],
      "metadata": {
        "colab": {
          "base_uri": "https://localhost:8080/"
        },
        "id": "9wsaX_FhLRnC",
        "outputId": "f326d3f4-1dd5-42eb-df86-2dcbea4f33e9"
      },
      "execution_count": 40,
      "outputs": [
        {
          "output_type": "stream",
          "name": "stdout",
          "text": [
            "Enter value of i: 3\n",
            "Enter value of j: 5\n",
            "[[0,0,0,0,0],[0,1,2,3,4],[0,2,4,6,8]]\n"
          ]
        }
      ]
    },
    {
      "cell_type": "markdown",
      "source": [
        "**Question 3:**\n",
        "Write a program that accepts a comma separated sequence of words as input and prints the words in a comma-separated sequence after sorting them alphabetically.\n",
        "\n",
        "Suppose the following input is supplied to the program:\n",
        "\n",
        "without,hello,bag,world\n",
        "\n",
        "Then, the output should be:\n",
        "bag,hello,without,world"
      ],
      "metadata": {
        "id": "R_TiHxCyLeJv"
      }
    },
    {
      "cell_type": "code",
      "source": [
        "bag = list(input(\"Input Sequence in comma seprated form : \").split(','))\n",
        "bag.sort()\n",
        "string =','.join(bag)\n",
        "print(string)"
      ],
      "metadata": {
        "colab": {
          "base_uri": "https://localhost:8080/"
        },
        "id": "CULn0s2KLkUW",
        "outputId": "53d10803-aac1-4d31-ac29-8d4414d30f81"
      },
      "execution_count": 41,
      "outputs": [
        {
          "output_type": "stream",
          "name": "stdout",
          "text": [
            "Input Sequence in comma seprated form : without,hello,bag,world\n",
            "bag,hello,without,world\n"
          ]
        }
      ]
    },
    {
      "cell_type": "markdown",
      "source": [
        "**Question 4:**\n",
        "\n",
        "Write a program that accepts a sequence of whitespace separated words as input and prints the words after removing all duplicate words and sorting them alphanumerically.\n",
        "\n",
        "Suppose the following input is supplied to the program:\n",
        "\n",
        "hello world and practice makes perfect and hello world again\n",
        "\n",
        "Then, the output should be:\n",
        "\n",
        "again and hello makes perfect practice world"
      ],
      "metadata": {
        "id": "hb9JLXG9LrIC"
      }
    },
    {
      "cell_type": "code",
      "source": [
        "bag = input(\"Input Sequence in comma-separated form: \").split(' ')\n",
        "bag2 = set(bag)\n",
        "bag3 = list(bag2)\n",
        "bag3.sort()\n",
        "string = ' '.join(bag3)\n",
        "print(string)"
      ],
      "metadata": {
        "colab": {
          "base_uri": "https://localhost:8080/"
        },
        "id": "SgdCIfaRL2kH",
        "outputId": "b4bb88a6-c7c0-4fdf-e79d-cc78bbebf93e"
      },
      "execution_count": 52,
      "outputs": [
        {
          "output_type": "stream",
          "name": "stdout",
          "text": [
            "Input Sequence in comma-separated form: hello world and practice makes perfect and hello world again\n",
            "again and hello makes perfect practice world\n"
          ]
        }
      ]
    },
    {
      "cell_type": "markdown",
      "source": [
        "**Question 5:**\n",
        "\n",
        "Write a program that accepts a sentence and calculate the number of letters and digits.\n",
        "\n",
        "Suppose the following input is supplied to the program:\n",
        "\n",
        "hello world! 123\n",
        "\n",
        "Then, the output should be:\n",
        "\n",
        "LETTERS 10\n",
        "\n",
        "DIGITS 3"
      ],
      "metadata": {
        "id": "QgpHBDdeL4Aw"
      }
    },
    {
      "cell_type": "code",
      "source": [
        "bag = input(\"Input Sequence in comma-separated form: \")\n",
        "letter = 0\n",
        "digits =0\n",
        "for i in bag:\n",
        "  if i.isalpha():\n",
        "    letter += 1\n",
        "  if i.isdigit():\n",
        "    digits += 1\n",
        "print(\"LETTERS\",letter)\n",
        "print(\"DIGITS\",digits)"
      ],
      "metadata": {
        "colab": {
          "base_uri": "https://localhost:8080/"
        },
        "id": "3leB2cKOL__J",
        "outputId": "d527e4f4-7e26-4a35-b7ea-e92567287294"
      },
      "execution_count": 57,
      "outputs": [
        {
          "output_type": "stream",
          "name": "stdout",
          "text": [
            "Input Sequence in comma-separated form: hello world! 123\n",
            "LETTERS 10\n",
            "DIGITS 3\n"
          ]
        }
      ]
    },
    {
      "cell_type": "markdown",
      "source": [
        "Question 6:\n",
        "A website requires the users to input username and password to register. Write a program to\n",
        "check the validity of password input by users.\n",
        "Following are the criteria for checking the password:\n",
        "1. At least 1 letter between [a-z]\n",
        "2. At least 1 number between [0-9]\n",
        "1. At least 1 letter between [A-Z]\n",
        "3. At least 1 character from [$#@]\n",
        "4. Minimum length of transaction password: 6\n",
        "5. Maximum length of transaction password: 12\n",
        "Your program should accept a sequence of comma separated passwords and will check them\n",
        "according to the above criteria. Passwords that match the criteria are to be printed, each\n",
        "separated by a comma.\n",
        "Example\n",
        "If the following passwords are given as input to the program:\n",
        "ABd1234@1,a F1#,2w3E*,2We3345\n",
        "Then, the output of the program should be:\n",
        "ABd1234@1"
      ],
      "metadata": {
        "id": "M5NWIn9xMAtK"
      }
    },
    {
      "cell_type": "code",
      "source": [
        "Password = input(\"Enter password: \")\n",
        "def pass_validator(password):\n",
        "  CL = 0\n",
        "  CN = 0\n",
        "  CCL = 0\n",
        "  CS = 0\n",
        "  for i in password:\n",
        "    if i.isdigit():\n",
        "      CN += 1\n",
        "    elif i.islower():\n",
        "      CL += 1\n",
        "    elif i.isupper():\n",
        "      CCL += 1\n",
        "    else:\n",
        "      CS += 1\n",
        "\n",
        "  if CL > 0 and CN > 0 and CCL > 0 and CS > 0 and 6 <= len(password) <= 12:\n",
        "    return True\n",
        "\n",
        "passwords = Password.split(\",\")\n",
        "valid_passwords = []\n",
        "\n",
        "for i in passwords:\n",
        "    res = pass_validator(i)\n",
        "    if res:\n",
        "        print(i)\n",
        "\n",
        "\n"
      ],
      "metadata": {
        "colab": {
          "base_uri": "https://localhost:8080/"
        },
        "id": "MqhIQpWoMGRP",
        "outputId": "81fe7ad0-499d-4c16-ce20-aaf8bf41883e"
      },
      "execution_count": 69,
      "outputs": [
        {
          "output_type": "stream",
          "name": "stdout",
          "text": [
            "Enter password: ABd1234@1,a F1#,2w3E*,2We3345\n",
            "ABd1234@1\n"
          ]
        }
      ]
    },
    {
      "cell_type": "code",
      "source": [],
      "metadata": {
        "id": "WSorL70zmUaQ"
      },
      "execution_count": null,
      "outputs": []
    }
  ]
}