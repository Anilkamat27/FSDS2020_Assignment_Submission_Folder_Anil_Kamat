{
  "nbformat": 4,
  "nbformat_minor": 0,
  "metadata": {
    "colab": {
      "provenance": []
    },
    "kernelspec": {
      "name": "python3",
      "display_name": "Python 3"
    },
    "language_info": {
      "name": "python"
    }
  },
  "cells": [
    {
      "cell_type": "markdown",
      "source": [
        "1.Write a Python Program to Display Fibonacci Sequence Using Recursion?"
      ],
      "metadata": {
        "id": "DipxEQA_wqlN"
      }
    },
    {
      "cell_type": "code",
      "execution_count": 3,
      "metadata": {
        "id": "AFp4XcbdtrE0",
        "colab": {
          "base_uri": "https://localhost:8080/"
        },
        "outputId": "4cb318b9-6fd9-46be-be86-9c28bb4bdeac"
      },
      "outputs": [
        {
          "output_type": "stream",
          "name": "stdout",
          "text": [
            "Enter number : 5\n",
            "0 1 1 2 3 "
          ]
        }
      ],
      "source": [
        "def recursion(n):\n",
        "  if n <= 1:\n",
        "    return n\n",
        "  else:\n",
        "    return (recursion(n-1) + recursion(n-2))\n",
        "\n",
        "n = int(input(\"Enter number : \"))\n",
        "\n",
        "if n <= 0:\n",
        "  print('only positive number are allowed')\n",
        "else:\n",
        "  for i in range(n):\n",
        "    print(recursion(i),end = \" \")"
      ]
    },
    {
      "cell_type": "markdown",
      "source": [
        "\\2.Write a Python Program to Find Factorial of Number Using Recursion?"
      ],
      "metadata": {
        "id": "fSPiepg0vqJy"
      }
    },
    {
      "cell_type": "code",
      "source": [
        "def fibo(n):\n",
        "  if n == 1:\n",
        "      return n\n",
        "  else:\n",
        "      return n*fibo(n-1)\n",
        "number = int(input(\"Enter number : \"))\n",
        "print(fibo(number))"
      ],
      "metadata": {
        "colab": {
          "base_uri": "https://localhost:8080/"
        },
        "id": "3aU6p3g2vn4H",
        "outputId": "5431862c-54d0-4b82-8cb7-eb16f8f1d4d2"
      },
      "execution_count": null,
      "outputs": [
        {
          "output_type": "stream",
          "name": "stdout",
          "text": [
            "Enter number : 4\n",
            "24\n"
          ]
        }
      ]
    },
    {
      "cell_type": "markdown",
      "source": [
        "3.\tWrite a Python Program to calculate your Body Mass Index?"
      ],
      "metadata": {
        "id": "2IhnYtclyV5p"
      }
    },
    {
      "cell_type": "code",
      "source": [
        "weight = float(input(\"Enter Weight : \"))\n",
        "\n",
        "height = float(input(\"Enter height : \"))\n",
        "\n",
        "BMI = weight / height ** 2\n",
        "print(BMI)\n"
      ],
      "metadata": {
        "colab": {
          "base_uri": "https://localhost:8080/"
        },
        "id": "c37ohzzbyWoL",
        "outputId": "648bb81d-5db4-40f8-d00d-f09f54bee013"
      },
      "execution_count": null,
      "outputs": [
        {
          "output_type": "stream",
          "name": "stdout",
          "text": [
            "Enter Weight : 90\n",
            "Enter height : 5.8\n",
            "2.67538644470868\n"
          ]
        }
      ]
    },
    {
      "cell_type": "markdown",
      "source": [
        "4.Write a Python Program to calculate the natural logarithm of any number?"
      ],
      "metadata": {
        "id": "i80NczbZvCX9"
      }
    },
    {
      "cell_type": "code",
      "source": [
        "import math\n",
        "try:\n",
        "  number = int(input(\"Enter number : \"))\n",
        "  print(math.log(number))\n",
        "except ValueError as e:\n",
        "  print(\"enter a valid input\")"
      ],
      "metadata": {
        "colab": {
          "base_uri": "https://localhost:8080/"
        },
        "id": "2Pp0X2RNvQBW",
        "outputId": "98cdf801-2ddd-42c2-9f0e-892dc05a00ff"
      },
      "execution_count": null,
      "outputs": [
        {
          "output_type": "stream",
          "name": "stdout",
          "text": [
            "Enter number : 2\n",
            "0.6931471805599453\n"
          ]
        }
      ]
    },
    {
      "cell_type": "markdown",
      "source": [
        "5.Write a Python Program for cube sum of first n natural numbers?"
      ],
      "metadata": {
        "id": "yVIr6qyAuUfT"
      }
    },
    {
      "cell_type": "code",
      "source": [
        "try:\n",
        "  number = int(input(\"Enter number : \"))\n",
        "  sum = 0\n",
        "  while number > 0:\n",
        "    sum += number*number*number\n",
        "    number -= 1\n",
        "  print(\"Cube sum\",sum)\n",
        "except ValueError as e:\n",
        "  print(\"enter a valid input\")"
      ],
      "metadata": {
        "id": "QuAokdhOyXLG",
        "colab": {
          "base_uri": "https://localhost:8080/"
        },
        "outputId": "71984c0d-8587-4287-b020-6c08e9a52d94"
      },
      "execution_count": null,
      "outputs": [
        {
          "output_type": "stream",
          "name": "stdout",
          "text": [
            "Enter number : 3\n",
            "Cube sum 36\n"
          ]
        }
      ]
    },
    {
      "cell_type": "code",
      "source": [],
      "metadata": {
        "id": "o6_-b030u7k_"
      },
      "execution_count": null,
      "outputs": []
    }
  ]
}