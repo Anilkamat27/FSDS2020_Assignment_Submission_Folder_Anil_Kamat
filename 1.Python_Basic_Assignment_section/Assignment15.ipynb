{
  "nbformat": 4,
  "nbformat_minor": 0,
  "metadata": {
    "colab": {
      "provenance": []
    },
    "kernelspec": {
      "name": "python3",
      "display_name": "Python 3"
    },
    "language_info": {
      "name": "python"
    }
  },
  "cells": [
    {
      "cell_type": "markdown",
      "source": [
        "1.How many seconds are in an hour? Use the interactive interpreter as a calculator and multiply the number of seconds in a minute (60) by the number of minutes in an hour (also 60)."
      ],
      "metadata": {
        "id": "_v24ZYz9KKjj"
      }
    },
    {
      "cell_type": "code",
      "execution_count": null,
      "metadata": {
        "colab": {
          "base_uri": "https://localhost:8080/"
        },
        "id": "qtRNAXgpJ8MF",
        "outputId": "29a9ea83-94a3-4099-b04f-6fb22fc5a6e3"
      },
      "outputs": [
        {
          "output_type": "stream",
          "name": "stdout",
          "text": [
            "3600\n"
          ]
        }
      ],
      "source": [
        "number_of_seconds_in_minute = 60\n",
        "number_of_minutes_in_hour = 60\n",
        "number_of_seconds_in_hour = number_of_seconds_in_minute*number_of_minutes_in_hour\n",
        "print(number_of_seconds_in_hour)"
      ]
    },
    {
      "cell_type": "markdown",
      "source": [
        "2. Assign the result from the previous task (seconds in an hour) to a variable called seconds_per_hour."
      ],
      "metadata": {
        "id": "cxlnL43zKtTo"
      }
    },
    {
      "cell_type": "code",
      "source": [
        "seconds_per_hour  = 3600 * 60"
      ],
      "metadata": {
        "id": "M1UdiWX_KjUr"
      },
      "execution_count": null,
      "outputs": []
    },
    {
      "cell_type": "markdown",
      "source": [
        "3. How many seconds do you think there are in a day? Make use of the variables seconds per hour and minutes per hour."
      ],
      "metadata": {
        "id": "K2D2vRczLGrz"
      }
    },
    {
      "cell_type": "code",
      "source": [
        "seconds_per_day = seconds_per_hour * 24\n",
        "print(Seconds_per_day)"
      ],
      "metadata": {
        "colab": {
          "base_uri": "https://localhost:8080/"
        },
        "id": "hafyduGfLAMl",
        "outputId": "b5c26fe1-1a37-4739-994c-71eb0b62eb0c"
      },
      "execution_count": null,
      "outputs": [
        {
          "output_type": "stream",
          "name": "stdout",
          "text": [
            "5184000\n"
          ]
        }
      ]
    },
    {
      "cell_type": "markdown",
      "source": [
        "5. Divide seconds_per_day by seconds_per_hour. Use floating-point (/) division.\n"
      ],
      "metadata": {
        "id": "kqOkt3yIOGSm"
      }
    },
    {
      "cell_type": "code",
      "source": [
        "seconds_per_day = seconds_per_day / seconds_per_hour\n",
        "print(seconds_per_hour)"
      ],
      "metadata": {
        "colab": {
          "base_uri": "https://localhost:8080/"
        },
        "id": "2McZJuOZN3xF",
        "outputId": "cfb20290-49fb-433d-96f3-f8d606f68fa8"
      },
      "execution_count": null,
      "outputs": [
        {
          "output_type": "stream",
          "name": "stdout",
          "text": [
            "24.0\n"
          ]
        }
      ]
    },
    {
      "cell_type": "markdown",
      "source": [
        "6. Divide seconds_per_day by seconds_per_hour, using integer (//) division. Did this number agree with the floating-point value from the previous question ,aside from the final .0?"
      ],
      "metadata": {
        "id": "iJkrp6F6OXlV"
      }
    },
    {
      "cell_type": "code",
      "source": [
        "output = seconds_per_day // seconds_per_hour\n",
        "if seconds_per_hour == output:\n",
        "  print(\"agree\")"
      ],
      "metadata": {
        "id": "QYtqm_qlORe6"
      },
      "execution_count": null,
      "outputs": []
    },
    {
      "cell_type": "markdown",
      "source": [
        "7. Write a generator, genPrimes, that returns the sequence of prime numbers on successive calls to its next() method: 2, 3, 5, 7, 11, ..."
      ],
      "metadata": {
        "id": "VEkCZ09Hahto"
      }
    },
    {
      "cell_type": "code",
      "source": [
        "def gen_primes():\n",
        "    n = 2\n",
        "    primes = []\n",
        "    while True:\n",
        "        flag = True\n",
        "        for p in primes:\n",
        "            if n % p == 0:\n",
        "                flag = False\n",
        "                break\n",
        "        if flag:\n",
        "            primes.append(n)\n",
        "            yield n\n",
        "        n += 1"
      ],
      "metadata": {
        "id": "wS_Qt1B4YmcU"
      },
      "execution_count": 18,
      "outputs": []
    }
  ]
}