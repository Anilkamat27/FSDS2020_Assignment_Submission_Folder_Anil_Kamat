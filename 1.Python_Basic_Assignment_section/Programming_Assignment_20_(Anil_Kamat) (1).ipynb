{
  "nbformat": 4,
  "nbformat_minor": 0,
  "metadata": {
    "colab": {
      "provenance": []
    },
    "kernelspec": {
      "name": "python3",
      "display_name": "Python 3"
    },
    "language_info": {
      "name": "python"
    }
  },
  "cells": [
    {
      "cell_type": "markdown",
      "source": [
        "Question1\n",
        "\n",
        "Create a function that takes a list of strings and integers, and filters out the list so that it\n",
        "returns a list of integers only.\n",
        "\n",
        "Examples\n",
        "\n",
        "filter_list([1, 2, 3, &quot;a&quot;, &quot;b&quot;, 4]) ➞ [1, 2, 3, 4]\n",
        "\n",
        "filter_list([&quot;A&quot;, 0, &quot;Edabit&quot;, 1729, &quot;Python&quot;, &quot;1729&quot;]) ➞ [0, 1729]\n",
        "\n",
        "filter_list([&quot;Nothing&quot;, &quot;here&quot;]) ➞ []"
      ],
      "metadata": {
        "id": "IU3pqU7glpNm"
      }
    },
    {
      "cell_type": "code",
      "execution_count": 1,
      "metadata": {
        "id": "rSgbQrXZle78",
        "colab": {
          "base_uri": "https://localhost:8080/"
        },
        "outputId": "85b05776-edad-4c2c-899b-aa412b1c0d6c"
      },
      "outputs": [
        {
          "output_type": "stream",
          "name": "stdout",
          "text": [
            "[1, 2, 123]\n"
          ]
        }
      ],
      "source": [
        "def filter_list(l):\n",
        "  list_1 = []\n",
        "  for x in l:\n",
        "    if type(x) == int:\n",
        "      list_1.append(x)\n",
        "  return list_1\n",
        "\n",
        "l = [1, 2, \"aasf\", \"1\", \"123\", 123]\n",
        "print(filter_list(l))\n"
      ]
    },
    {
      "cell_type": "markdown",
      "source": [
        "Example 2\n",
        "\n",
        "Given a list of numbers, create a function which returns the list but with each element&#39;s\n",
        "index in the list added to itself. This means you add 0 to the number at index 0, add 1 to the\n",
        "number at index 1, etc\n",
        "\n",
        "Examples\n",
        "\n",
        "add_indexes([0, 0, 0, 0, 0]) ➞ [0, 1, 2, 3, 4]\n",
        "\n",
        "add_indexes([1, 2, 3, 4, 5]) ➞ [1, 3, 5, 7, 9]\n",
        "\n",
        "add_indexes([5, 4, 3, 2, 1]) ➞ [5, 5, 5, 5, 5]"
      ],
      "metadata": {
        "id": "LXvUJRhHuBQp"
      }
    },
    {
      "cell_type": "code",
      "source": [
        "def add_indexes(list_1):\n",
        "  for i in range(0,len(list_1)):\n",
        "    list_1[i] = list_1[i] + i\n",
        "  return list_1\n",
        "\n",
        "list_1 = [5,4,3,2,1]\n",
        "print(add_indexes(list_1))"
      ],
      "metadata": {
        "colab": {
          "base_uri": "https://localhost:8080/"
        },
        "id": "WV4MgZfhtvws",
        "outputId": "d959e4d7-ecbc-4d92-c543-a119294158eb"
      },
      "execution_count": null,
      "outputs": [
        {
          "output_type": "stream",
          "name": "stdout",
          "text": [
            "[5, 5, 5, 5, 5]\n"
          ]
        }
      ]
    },
    {
      "cell_type": "markdown",
      "source": [
        "Question3\n",
        "\n",
        "Create a function that takes the height and radius of a cone as arguments and returns the\n",
        "volume of the cone rounded to the nearest hundredth. See the resources tab for the formula.\n",
        "\n",
        "Examples\n",
        "\n",
        "cone_volume(3, 2) ➞ 12.57\n",
        "\n",
        "cone_volume(15, 6) ➞ 565.49\n",
        "\n",
        "cone_volume(18, 0) ➞ 0"
      ],
      "metadata": {
        "id": "PcYf-7kYwSfu"
      }
    },
    {
      "cell_type": "code",
      "source": [
        "import math\n",
        "def cone_volume(h,r):\n",
        "  volume = (1/3)* math.pi *(r**2)*h\n",
        "  return round(volume,2)\n",
        "\n",
        "h = int(input(\"h :\"))\n",
        "r = int(input(\"r :\"))\n",
        "print(cone_volume(h,r))"
      ],
      "metadata": {
        "colab": {
          "base_uri": "https://localhost:8080/"
        },
        "id": "fUNU4yXnwNtm",
        "outputId": "a72d1ea3-f76c-4139-aa85-fadf7780ef3c"
      },
      "execution_count": null,
      "outputs": [
        {
          "output_type": "stream",
          "name": "stdout",
          "text": [
            "h :15\n",
            "r :6\n",
            "565.49\n"
          ]
        }
      ]
    },
    {
      "cell_type": "markdown",
      "source": [
        "Question4\n",
        "\n",
        "This Triangular Number Sequence is generated from a pattern of dots that form a triangle.\n",
        "\n",
        "The first 5 numbers of the sequence, or dots, are:\n",
        "\n",
        "1, 3, 6, 10, 15\n",
        "\n",
        "This means that the first triangle has just one dot, the second one has three dots, the third one\n",
        "has 6 dots and so on.\n",
        "\n",
        "Write a function that gives the number of dots with its corresponding triangle number of the\n",
        "sequence.\n",
        "\n",
        "Examples\n",
        "\n",
        "triangle(1) ➞ 1\n",
        "\n",
        "triangle(6) ➞ 21\n",
        "\n",
        "triangle(215) ➞ 23220"
      ],
      "metadata": {
        "id": "9u_4hBy-yKce"
      }
    },
    {
      "cell_type": "code",
      "source": [
        "def triangle(n):\n",
        "    n = (n * (n + 1)) // 2\n",
        "    return n\n",
        "\n",
        "n = int(input())\n",
        "print(triangle(n))\n"
      ],
      "metadata": {
        "colab": {
          "base_uri": "https://localhost:8080/"
        },
        "id": "T-RO7BhVxN_P",
        "outputId": "230a2e22-08a8-469b-9216-83a1bf532f59"
      },
      "execution_count": null,
      "outputs": [
        {
          "output_type": "stream",
          "name": "stdout",
          "text": [
            "6\n",
            "21\n"
          ]
        }
      ]
    },
    {
      "cell_type": "markdown",
      "source": [
        "Question 5\n",
        "\n",
        "Create a function that takes a list of numbers between 1 and 10 (excluding one number) and returns the missing number.\n",
        "\n",
        "Examples\n",
        "\n",
        "missing_num([1, 2, 3, 4, 6, 7, 8, 9, 10]) ➞ 5\n",
        "\n",
        "missing_num([7, 2, 3, 6, 5, 9, 1, 4, 8]) ➞ 10\n",
        "\n",
        "missing_num([10, 5, 1, 2, 4, 6, 8, 3, 9]) ➞ 7"
      ],
      "metadata": {
        "id": "BbzlLac800QV"
      }
    },
    {
      "cell_type": "code",
      "source": [
        "def missing_num(list_1):\n",
        "    total = 55\n",
        "    sum_list = sum(list_1)\n",
        "    return total - sum_list\n",
        "\n",
        "list_1 = [1, 2, 3, 4, 6, 7, 8, 9, 10]\n",
        "print(missing_num(list_1))"
      ],
      "metadata": {
        "colab": {
          "base_uri": "https://localhost:8080/"
        },
        "id": "jhU-F0tyzQ1J",
        "outputId": "0c87ea9e-306b-4617-9e48-b434b8a194e0"
      },
      "execution_count": null,
      "outputs": [
        {
          "output_type": "stream",
          "name": "stdout",
          "text": [
            "5\n"
          ]
        }
      ]
    },
    {
      "cell_type": "code",
      "source": [],
      "metadata": {
        "id": "Ee6maZJ-0Y1V"
      },
      "execution_count": null,
      "outputs": []
    }
  ]
}