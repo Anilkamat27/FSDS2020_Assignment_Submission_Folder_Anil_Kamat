{
  "nbformat": 4,
  "nbformat_minor": 0,
  "metadata": {
    "colab": {
      "provenance": []
    },
    "kernelspec": {
      "name": "python3",
      "display_name": "Python 3"
    },
    "language_info": {
      "name": "python"
    }
  },
  "cells": [
    {
      "cell_type": "markdown",
      "source": [
        "1. Make a class called Thing with no contents and print it. Then, create an object called example from this class and also print it. Are the printed values the same or different?"
      ],
      "metadata": {
        "id": "UWILTzI11qEH"
      }
    },
    {
      "cell_type": "code",
      "execution_count": null,
      "metadata": {
        "colab": {
          "base_uri": "https://localhost:8080/"
        },
        "id": "LPEK2EmG1GeW",
        "outputId": "b032de55-f96a-496c-e7fa-eeb629119fa2"
      },
      "outputs": [
        {
          "output_type": "stream",
          "name": "stdout",
          "text": [
            "<class '__main__.Thing'>\n",
            "<__main__.Thing object at 0x7f9bf27488e0>\n"
          ]
        }
      ],
      "source": [
        "class Thing:\n",
        "  pass\n",
        "\n",
        "example = Thing()\n",
        "print(Thing)\n",
        "print(example)"
      ]
    },
    {
      "cell_type": "markdown",
      "source": [
        "2. Create a new class called Thing2 and add the value 'abc' to the letters class attribute. Letters should be printed."
      ],
      "metadata": {
        "id": "_exnzxWW3mu9"
      }
    },
    {
      "cell_type": "code",
      "source": [
        "class Thing2:\n",
        "  letters = 'abc'\n",
        "\n",
        "print(Thing2.letters)"
      ],
      "metadata": {
        "id": "K4AgrtrJ2Nef",
        "colab": {
          "base_uri": "https://localhost:8080/"
        },
        "outputId": "ec5398eb-bae4-419f-96d7-ba5a5c97715f"
      },
      "execution_count": 21,
      "outputs": [
        {
          "output_type": "stream",
          "name": "stdout",
          "text": [
            "abc\n"
          ]
        }
      ]
    },
    {
      "cell_type": "markdown",
      "source": [
        "3. Make yet another class called, of course, Thing3. This time, assign the value 'xyz' to an instance (object) attribute called letters. Print letters. Do you need to make an object from the class to do this?"
      ],
      "metadata": {
        "id": "X9Uv6Fei3yT9"
      }
    },
    {
      "cell_type": "code",
      "source": [
        "class Thing3:\n",
        "  def __init__(self):\n",
        "    self.letters = 'xyz'\n",
        "\n",
        "example = Thing3()\n",
        "print(example.letters)\n"
      ],
      "metadata": {
        "colab": {
          "base_uri": "https://localhost:8080/"
        },
        "id": "nC8dqkFW6HVe",
        "outputId": "852bc477-024b-4d0c-c251-2edf5f45759b"
      },
      "execution_count": null,
      "outputs": [
        {
          "output_type": "stream",
          "name": "stdout",
          "text": [
            "xyz\n"
          ]
        }
      ]
    },
    {
      "cell_type": "markdown",
      "source": [
        "4. Create an Element class with the instance attributes name, symbol, and number. Create a class object with the values 'Hydrogen,' 'H,' and 1."
      ],
      "metadata": {
        "id": "xVzzHdwHAvHN"
      }
    },
    {
      "cell_type": "code",
      "source": [
        "class Element:\n",
        "  def __init__(self,name,symbol,number):\n",
        "    self.name = name\n",
        "    self.symbol = symbol\n",
        "    self.number = number\n",
        "\n",
        "element1 = Element('Hydrogen' ,'H',1)"
      ],
      "metadata": {
        "id": "7P8zodTkAqj4"
      },
      "execution_count": 4,
      "outputs": []
    },
    {
      "cell_type": "code",
      "source": [
        "print(element1.name,\" \",element1.symbol,\" \",element1.number)"
      ],
      "metadata": {
        "colab": {
          "base_uri": "https://localhost:8080/"
        },
        "id": "xxk9AZquc9B0",
        "outputId": "e2a36f0e-ae57-4401-de90-ec884a8425e4"
      },
      "execution_count": 6,
      "outputs": [
        {
          "output_type": "stream",
          "name": "stdout",
          "text": [
            "Hydrogen   H   1\n"
          ]
        }
      ]
    },
    {
      "cell_type": "markdown",
      "source": [
        "5.\tMake a dictionary with these keys and values: 'name': 'Hydrogen', 'symbol': 'H', 'number': 1. Then, create an object called hydrogen from class Element using this dictionary."
      ],
      "metadata": {
        "id": "esBm2r8Od5NW"
      }
    },
    {
      "cell_type": "code",
      "source": [
        "dictionary = {'name': 'Hydrogen', 'symbol': 'H', 'number': 1}\n",
        "\n",
        "hydrogen = Element(dictionary['name'],dictionary['symbol'],dictionary['number'])"
      ],
      "metadata": {
        "id": "acJt0z6Vdtnk"
      },
      "execution_count": 7,
      "outputs": []
    },
    {
      "cell_type": "code",
      "source": [
        "print(hydrogen.name,\" \",hydrogen.symbol,\" \",hydrogen.number)"
      ],
      "metadata": {
        "colab": {
          "base_uri": "https://localhost:8080/"
        },
        "id": "e5EeH2p6eyZ-",
        "outputId": "8f651528-d5c1-428a-8ed7-7c7ff699cb92"
      },
      "execution_count": 8,
      "outputs": [
        {
          "output_type": "stream",
          "name": "stdout",
          "text": [
            "Hydrogen   H   1\n"
          ]
        }
      ]
    },
    {
      "cell_type": "markdown",
      "source": [
        "6.\tFor the Element class, define a method called dump() that prints the values of the object’s attributes (name, symbol, and number). Create the hydrogen object from this new definition and use dump() to print its attributes."
      ],
      "metadata": {
        "id": "WQXjEL3Ee-M4"
      }
    },
    {
      "cell_type": "code",
      "source": [
        "class Element():\n",
        "  def __init__(self,name,symbol,number):\n",
        "    self.name = name\n",
        "    self.symbol = symbol\n",
        "    self.number = number\n",
        "\n",
        "  def dump(self):\n",
        "    return self.name,self.symbol,self.number\n",
        "\n",
        "hydrogen= Element(dictionary['name'],dictionary['symbol'],dictionary['number'])\n",
        "print(hydrogen.dump())"
      ],
      "metadata": {
        "colab": {
          "base_uri": "https://localhost:8080/"
        },
        "id": "bO3Q-opYev8t",
        "outputId": "fdfcc003-430d-4a68-d116-d48179d6da7b"
      },
      "execution_count": 11,
      "outputs": [
        {
          "output_type": "stream",
          "name": "stdout",
          "text": [
            "('Hydrogen', 'H', 1)\n"
          ]
        }
      ]
    },
    {
      "cell_type": "markdown",
      "source": [
        "7.\tCall print(hydrogen). In the definition of Element, change the name of method dump to __str__, create a new hydrogen object, and call print(hydrogen) again."
      ],
      "metadata": {
        "id": "-pYoJGvMlWsL"
      }
    },
    {
      "cell_type": "code",
      "source": [
        "class Element():\n",
        "  def __init__(self,name,symbol,number):\n",
        "    self.name = name\n",
        "    self.symbol = symbol\n",
        "    self.number = number\n",
        "\n",
        "  def __str__(self):\n",
        "     return f\"{self.name} ,{self.symbol} ,{self.number}\"\n",
        "\n",
        "hydrogen = Element('Hydrogen','H',1)\n",
        "print(hydrogen)"
      ],
      "metadata": {
        "colab": {
          "base_uri": "https://localhost:8080/"
        },
        "id": "ccfCW_yCku_p",
        "outputId": "8ac48e0f-6f63-4604-cb26-d0d71753f0d3"
      },
      "execution_count": 1,
      "outputs": [
        {
          "output_type": "stream",
          "name": "stdout",
          "text": [
            "Hydrogen ,H ,1\n"
          ]
        }
      ]
    },
    {
      "cell_type": "markdown",
      "source": [
        "8. Modify Element to make the attributes name, symbol, and number private. Define a getter property for each to return its value."
      ],
      "metadata": {
        "id": "MLzfyWIQ5xdK"
      }
    },
    {
      "cell_type": "code",
      "source": [
        "class Element():\n",
        "  def __init__(self,name,symbol,number):\n",
        "    self.__name = name\n",
        "    self.__symbol = symbol\n",
        "    self.__number = number\n",
        "\n",
        "  def getter(self):\n",
        "     print(self.__name ,self.__symbol ,self.__number)\n",
        "\n",
        "hydrogen = Element(\"Hydrogen\",\"H\",1)\n",
        "\n",
        "print(hydrogen.getter())\n"
      ],
      "metadata": {
        "colab": {
          "base_uri": "https://localhost:8080/"
        },
        "id": "i5reHSOBmufW",
        "outputId": "6c3f4a72-681f-4dd1-dcaa-599aa96321bd"
      },
      "execution_count": 8,
      "outputs": [
        {
          "output_type": "stream",
          "name": "stdout",
          "text": [
            "Hydrogen H 1\n",
            "None\n"
          ]
        }
      ]
    },
    {
      "cell_type": "markdown",
      "source": [
        "9. Define three classes: Bear, Rabbit, and Octothorpe. For each, define only one method: eats(). This should return 'berries' (Bear), 'clover' (Rabbit), or 'campers' (Octothorpe). Create one object from each and print what it eats."
      ],
      "metadata": {
        "id": "4v80pi537iaT"
      }
    },
    {
      "cell_type": "code",
      "source": [
        "class Bear:\n",
        "  def eats(self):\n",
        "    return \"berries\"\n",
        "class Rabbit:\n",
        "  def eats(self):\n",
        "    return \"clover\"\n",
        "class Octothorpe:\n",
        "  def eats(self):\n",
        "    return \"campers\"\n",
        "\n",
        "bear = Bear()\n",
        "print(bear.eats())\n",
        "\n",
        "rabbit = Rabbit()\n",
        "print(rabbit.eats())\n",
        "\n",
        "octothorpe = Octothorpe()\n",
        "print(octothorpe.eats())"
      ],
      "metadata": {
        "colab": {
          "base_uri": "https://localhost:8080/"
        },
        "id": "KGBWijyP6kD6",
        "outputId": "1c379f8c-2afc-435f-ac93-d149a6cdddc9"
      },
      "execution_count": 10,
      "outputs": [
        {
          "output_type": "stream",
          "name": "stdout",
          "text": [
            "berries\n",
            "clover\n",
            "campers\n"
          ]
        }
      ]
    },
    {
      "cell_type": "markdown",
      "source": [
        "10.\tDefine these classes: Laser, Claw, and SmartPhone. Each has only one method: does(). This returns 'disintegrate' (Laser), 'crush' (Claw), or 'ring' (SmartPhone). Then, define the class Robot that has one instance (object) of each of these. Define a does() method for the Robot that prints what its component objects do."
      ],
      "metadata": {
        "id": "gQajYZB5C4aE"
      }
    },
    {
      "cell_type": "code",
      "source": [
        "class Laser():\n",
        "  def does(self):\n",
        "    return 'disintegrate'\n",
        "\n",
        "class Claw():\n",
        "  def does(self):\n",
        "    return 'crush'\n",
        "\n",
        "class SmartPhone():\n",
        "  def does(self):\n",
        "    return 'ring'\n",
        "\n",
        "class Robot():\n",
        "  def __init__(self,laser,claw,smartphone):\n",
        "    self.laser = Laser()\n",
        "    self.claw = Claw()\n",
        "    self.smartphone = SmartPhone()\n",
        "\n",
        "  def does(self,):\n",
        "    print(laser.does(),rabit.does(),smart.does())\n",
        "\n",
        "robot = Robot(laser,rabit,smart)\n",
        "print(robot.does())\n",
        "\n"
      ],
      "metadata": {
        "colab": {
          "base_uri": "https://localhost:8080/"
        },
        "id": "wVOS-AsoCvuU",
        "outputId": "8c72880b-9c30-4a80-e85a-30e4d92ecac4"
      },
      "execution_count": 20,
      "outputs": [
        {
          "output_type": "stream",
          "name": "stdout",
          "text": [
            "disintegrate crush ring\n",
            "None\n"
          ]
        }
      ]
    },
    {
      "cell_type": "code",
      "source": [],
      "metadata": {
        "id": "T-CgqViqD3wV"
      },
      "execution_count": null,
      "outputs": []
    }
  ]
}