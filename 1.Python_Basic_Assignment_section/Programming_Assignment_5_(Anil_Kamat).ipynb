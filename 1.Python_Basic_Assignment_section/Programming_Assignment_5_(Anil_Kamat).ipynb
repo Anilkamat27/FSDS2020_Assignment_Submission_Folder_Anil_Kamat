{
  "nbformat": 4,
  "nbformat_minor": 0,
  "metadata": {
    "colab": {
      "provenance": []
    },
    "kernelspec": {
      "name": "python3",
      "display_name": "Python 3"
    },
    "language_info": {
      "name": "python"
    }
  },
  "cells": [
    {
      "cell_type": "markdown",
      "source": [
        "1. 1.\tWrite a Python Program to Find LCM?"
      ],
      "metadata": {
        "id": "WeSar3HpdV71"
      }
    },
    {
      "cell_type": "code",
      "execution_count": 10,
      "metadata": {
        "colab": {
          "base_uri": "https://localhost:8080/"
        },
        "id": "Y90IPkjh8CLj",
        "outputId": "b58dfd5e-6dce-41ea-af03-59179574d6f7"
      },
      "outputs": [
        {
          "output_type": "stream",
          "name": "stdout",
          "text": [
            "Enter First no 12\n",
            "Enter Second no 7\n",
            "LCM :  84\n"
          ]
        }
      ],
      "source": [
        "try:\n",
        "  first_No = int(input(\"Enter First no \"))\n",
        "  second_No = int(input(\"Enter Second no \"))\n",
        "\n",
        "  maxl = max(first_No,second_No)\n",
        "  while True:\n",
        "    if (maxl % first_No == 0) and (maxl % second_No == 0):\n",
        "      lcm = maxl\n",
        "      break\n",
        "    maxl += 1\n",
        "  print(\"LCM : \", lcm)\n",
        "except ValueError as e:\n",
        "  print(\"Enter Valid input\")"
      ]
    },
    {
      "cell_type": "markdown",
      "source": [
        "2. Write a Python Program to Find HCF?"
      ],
      "metadata": {
        "id": "X0lMK6Niho0A"
      }
    },
    {
      "cell_type": "code",
      "source": [
        "try:\n",
        "  first_No = int(input(\"Enter First no \"))\n",
        "  second_No = int(input(\"Enter Second no \"))\n",
        "  hcf =0\n",
        "  minh = min(first_No,second_No)\n",
        "  for i in range(2,minh+1):\n",
        "    if (minh % i == 0) and (minh % i == 0):\n",
        "      hcf = i\n",
        "\n",
        "  print(\"HCF : \", hcf)\n",
        "except ValueError as e:\n",
        "  print(\"Enter Valid input\")"
      ],
      "metadata": {
        "colab": {
          "base_uri": "https://localhost:8080/"
        },
        "id": "nxp7kxjGeh48",
        "outputId": "8817f95d-430f-43d4-a8f9-3ca6fe432445"
      },
      "execution_count": 14,
      "outputs": [
        {
          "output_type": "stream",
          "name": "stdout",
          "text": [
            "Enter First no 12\n",
            "Enter Second no 4\n",
            "HCF :  4\n"
          ]
        }
      ]
    },
    {
      "cell_type": "markdown",
      "source": [
        "3.Write a Python Program to Convert Decimal to Binary, Octal and Hexadecimal?"
      ],
      "metadata": {
        "id": "_6Sg_4Y4jyc_"
      }
    },
    {
      "cell_type": "code",
      "source": [
        "try:\n",
        "  number = int(input(\"Enter First no : \"))\n",
        "  print(bin(number), \"in binary.\")\n",
        "  print(oct(number), \"in octal.\")\n",
        "  print(hex(number), \"in hexadecimal.\")\n",
        "except ValueError as e:\n",
        "  print(\"Enter valid input\")"
      ],
      "metadata": {
        "colab": {
          "base_uri": "https://localhost:8080/"
        },
        "id": "sDvSrqUSjO7K",
        "outputId": "79540ca2-33a6-4be3-c3ab-9f17a51d3c41"
      },
      "execution_count": 17,
      "outputs": [
        {
          "output_type": "stream",
          "name": "stdout",
          "text": [
            "Enter First no : 12\n",
            "0b1100 in binary.\n",
            "0o14 in octal.\n",
            "0xc in hexadecimal.\n"
          ]
        }
      ]
    },
    {
      "cell_type": "markdown",
      "source": [
        "4.Write a Python Program To Find ASCII value of a character?"
      ],
      "metadata": {
        "id": "ZRqqZv8olBA2"
      }
    },
    {
      "cell_type": "code",
      "source": [
        "character = input(\"Enter any valid character : \")\n",
        "print(\"The ASCII value of\" + character + \"is\", ord(character))"
      ],
      "metadata": {
        "colab": {
          "base_uri": "https://localhost:8080/"
        },
        "id": "JnfAkrlMkPYU",
        "outputId": "97a5ba8d-3701-4bdd-8c14-5fcfa5724708"
      },
      "execution_count": 19,
      "outputs": [
        {
          "output_type": "stream",
          "name": "stdout",
          "text": [
            "Enter any valid character : G\n",
            "The ASCII value ofGis 71\n"
          ]
        }
      ]
    },
    {
      "cell_type": "markdown",
      "source": [
        "5.Write a Python Program to Make a Simple Calculator with 4 basic mathematical operations?"
      ],
      "metadata": {
        "id": "AbKeZ7lclV28"
      }
    },
    {
      "cell_type": "code",
      "source": [
        "first_No = int(input(\"Enter First no \"))\n",
        "second_No = int(input(\"Enter Second no \"))\n",
        "Operation = input(\"Enter Valid Operation ( + , - , / , *) : \")\n",
        "def add(x,y):\n",
        "  return x + y\n",
        "\n",
        "def mul(x,y):\n",
        "  return x * y\n",
        "\n",
        "def div(x,y):\n",
        "  return x / y\n",
        "\n",
        "def sub(x,y):\n",
        "  return x - y\n",
        "\n",
        "if Operation == '+':\n",
        "  print('addition',add(first_No,second_No))\n",
        "elif Operation == '-' :\n",
        "  print('subtraction',sub(first_No,second_No))\n",
        "elif Operation == '*' :\n",
        "  print('multiplication',mul(first_No,second_No))\n",
        "elif Operation == '/' :\n",
        "  print('division',div(first_No,second_No))"
      ],
      "metadata": {
        "colab": {
          "base_uri": "https://localhost:8080/"
        },
        "id": "ovKmd4pqlOpo",
        "outputId": "5cd85742-3e5f-42a8-d43f-b6bbf4252ab0"
      },
      "execution_count": 21,
      "outputs": [
        {
          "output_type": "stream",
          "name": "stdout",
          "text": [
            "Enter First no 12\n",
            "Enter Second no 4\n",
            "Enter Valid Operation ( + , - , / , *) : /\n",
            "division 3.0\n"
          ]
        }
      ]
    },
    {
      "cell_type": "code",
      "source": [],
      "metadata": {
        "id": "R99_ZnAqmemX"
      },
      "execution_count": null,
      "outputs": []
    }
  ]
}