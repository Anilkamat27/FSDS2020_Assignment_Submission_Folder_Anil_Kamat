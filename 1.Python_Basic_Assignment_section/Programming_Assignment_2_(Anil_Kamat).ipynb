{
  "nbformat": 4,
  "nbformat_minor": 0,
  "metadata": {
    "colab": {
      "provenance": []
    },
    "kernelspec": {
      "name": "python3",
      "display_name": "Python 3"
    },
    "language_info": {
      "name": "python"
    }
  },
  "cells": [
    {
      "cell_type": "markdown",
      "source": [
        "1.Write a Python program to convert kilometers to miles?"
      ],
      "metadata": {
        "id": "-SUuD6Nu-P_o"
      }
    },
    {
      "cell_type": "code",
      "execution_count": 4,
      "metadata": {
        "colab": {
          "base_uri": "https://localhost:8080/"
        },
        "id": "4ZJjuLmB92br",
        "outputId": "bf99fab9-6ce0-4bff-bb4a-9dbc0f5991e3"
      },
      "outputs": [
        {
          "output_type": "stream",
          "name": "stdout",
          "text": [
            "enter Kilometer :3\n",
            "no of miles : 1.8641182099494202\n"
          ]
        }
      ],
      "source": [
        "kilometers = int(input(\"enter Kilometer :\"))\n",
        "miles = kilometers / 1.60934\n",
        "print(\"no of miles :\" , miles)"
      ]
    },
    {
      "cell_type": "markdown",
      "source": [
        "2.Write a Python program to convert Celsius to Fahrenheit?"
      ],
      "metadata": {
        "id": "t_1kWksSANl-"
      }
    },
    {
      "cell_type": "code",
      "source": [
        "c = int(input(\"enter Celcius :\"))\n",
        "F = c * 1.8000+ 32.00\n",
        "print(F)"
      ],
      "metadata": {
        "colab": {
          "base_uri": "https://localhost:8080/"
        },
        "id": "aeK9WveX_Qg6",
        "outputId": "905fef57-f061-4d40-b395-4dd578a48fe5"
      },
      "execution_count": 11,
      "outputs": [
        {
          "output_type": "stream",
          "name": "stdout",
          "text": [
            "enter Celcius :16\n",
            "60.8\n"
          ]
        }
      ]
    },
    {
      "cell_type": "markdown",
      "source": [
        "3.Write a Python program to display calendar?"
      ],
      "metadata": {
        "id": "AG74r_EmAm7T"
      }
    },
    {
      "cell_type": "code",
      "source": [
        "import calendar\n",
        "print(calendar.month(2022,11))"
      ],
      "metadata": {
        "colab": {
          "base_uri": "https://localhost:8080/"
        },
        "id": "4VJggVrXAWpL",
        "outputId": "efa4fc9f-20a5-4aca-af9b-502e36a16e01"
      },
      "execution_count": 6,
      "outputs": [
        {
          "output_type": "stream",
          "name": "stdout",
          "text": [
            "   November 2022\n",
            "Mo Tu We Th Fr Sa Su\n",
            "    1  2  3  4  5  6\n",
            " 7  8  9 10 11 12 13\n",
            "14 15 16 17 18 19 20\n",
            "21 22 23 24 25 26 27\n",
            "28 29 30\n",
            "\n"
          ]
        }
      ]
    },
    {
      "cell_type": "markdown",
      "source": [
        "4.Write a Python program to solve quadratic equation?"
      ],
      "metadata": {
        "id": "YOauT4k-A1AD"
      }
    },
    {
      "cell_type": "code",
      "source": [
        "import cmath\n",
        "\n",
        "a = int(input(\"enter a coefficient :\"))\n",
        "b = int(input(\"enter b coefficient :\"))\n",
        "c = int(input(\"enter c coefficient :\"))\n",
        "\n",
        "D = (b**2) - (4*a*c)\n",
        "\n",
        "root1 = (-b-cmath.sqrt(D))/(2*a)\n",
        "root2 = (-b +cmath.sqrt(D))/(2*a)\n",
        "\n",
        "print(root1,root2)"
      ],
      "metadata": {
        "colab": {
          "base_uri": "https://localhost:8080/"
        },
        "id": "-GJZmKz8AvpO",
        "outputId": "68413cbf-44d5-44a2-ea2a-e7d9a441d833"
      },
      "execution_count": 9,
      "outputs": [
        {
          "output_type": "stream",
          "name": "stdout",
          "text": [
            "enter a coefficient :2\n",
            "enter b coefficient :-5\n",
            "enter c coefficient :3\n",
            "(1+0j) (1.5+0j)\n"
          ]
        }
      ]
    },
    {
      "cell_type": "markdown",
      "source": [
        "5.Write a Python program to swap two variables without temp variable?"
      ],
      "metadata": {
        "id": "DUWWeainB6j4"
      }
    },
    {
      "cell_type": "code",
      "source": [
        "a = 10\n",
        "b = 5\n",
        "a = a + b\n",
        "b = a - b\n",
        "a = a - b\n",
        "\n",
        "print(\"After swapping a =\", a ,\"b =\", b )"
      ],
      "metadata": {
        "colab": {
          "base_uri": "https://localhost:8080/"
        },
        "id": "4uqtoKztBX6d",
        "outputId": "7ab5b734-9c5f-44b5-c4b7-5578916f7fa5"
      },
      "execution_count": 10,
      "outputs": [
        {
          "output_type": "stream",
          "name": "stdout",
          "text": [
            "After swapping a = 5 b = 10\n"
          ]
        }
      ]
    },
    {
      "cell_type": "code",
      "source": [],
      "metadata": {
        "id": "M_HRZ7ovCVc7"
      },
      "execution_count": null,
      "outputs": []
    }
  ]
}