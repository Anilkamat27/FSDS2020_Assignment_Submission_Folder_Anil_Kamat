{
  "nbformat": 4,
  "nbformat_minor": 0,
  "metadata": {
    "colab": {
      "provenance": []
    },
    "kernelspec": {
      "name": "python3",
      "display_name": "Python 3"
    },
    "language_info": {
      "name": "python"
    }
  },
  "cells": [
    {
      "cell_type": "markdown",
      "source": [
        "1.Write a Python Program to Find the Factorial of a Number?"
      ],
      "metadata": {
        "id": "MBfVtgcvFLV5"
      }
    },
    {
      "cell_type": "code",
      "execution_count": null,
      "metadata": {
        "colab": {
          "base_uri": "https://localhost:8080/"
        },
        "id": "UJlhBTknE1AJ",
        "outputId": "276cff58-1e56-478e-8db4-8d37719a97da"
      },
      "outputs": [
        {
          "output_type": "stream",
          "name": "stdout",
          "text": [
            "Enter Number :5\n",
            "factorial is : 120\n"
          ]
        }
      ],
      "source": [
        "try:\n",
        "  number = int(input(\"Enter Number :\"))\n",
        "  fact = 1\n",
        "  flag = 0\n",
        "  if number < 0:\n",
        "    flag = 1\n",
        "  elif number ==1 :\n",
        "    pass\n",
        "  else :\n",
        "    fact=1\n",
        "    for i in range(1,number+1):\n",
        "      fact = fact * i\n",
        "  if flag == 0:\n",
        "    print(\"factorial is :\" ,fact)\n",
        "except ValueError as e:\n",
        "  print(\"please enter a valid input\")\n"
      ]
    },
    {
      "cell_type": "markdown",
      "source": [
        "2. Write a Python Program to Display the multiplication Table?"
      ],
      "metadata": {
        "id": "85fP9c3CKN5b"
      }
    },
    {
      "cell_type": "code",
      "source": [
        "try:\n",
        "  number = int(input(\"Enter Number :\"))\n",
        "  if number > 0:\n",
        "    for i in range(1,11):\n",
        "      print(f\"{number} * {i} =  {number * i}\")\n",
        "  else :\n",
        "    print(\"enter valid input\")\n",
        "except ValueError as e:\n",
        "  print(\"enter valid input\")\n",
        "\n",
        "\n"
      ],
      "metadata": {
        "colab": {
          "base_uri": "https://localhost:8080/"
        },
        "id": "p9qWE6eXHszV",
        "outputId": "4c263b72-b2e3-4dc4-bfe9-0ce35b09ec11"
      },
      "execution_count": null,
      "outputs": [
        {
          "output_type": "stream",
          "name": "stdout",
          "text": [
            "Enter Number :112\n",
            "112 * 1 =  112\n",
            "112 * 2 =  224\n",
            "112 * 3 =  336\n",
            "112 * 4 =  448\n",
            "112 * 5 =  560\n",
            "112 * 6 =  672\n",
            "112 * 7 =  784\n",
            "112 * 8 =  896\n",
            "112 * 9 =  1008\n",
            "112 * 10 =  1120\n"
          ]
        }
      ]
    },
    {
      "cell_type": "markdown",
      "source": [
        "3.Write a Python Program to Print the Fibonacci sequence?"
      ],
      "metadata": {
        "id": "CJMcFwF_MRC8"
      }
    },
    {
      "cell_type": "code",
      "source": [
        "try:\n",
        "  number = int(input(\"Enter Number :\"))\n",
        "  x,y = 0,1\n",
        "  count = 0\n",
        "  while count < number:\n",
        "   print(x , end=\" \")\n",
        "   temp = x + y\n",
        "   x = y\n",
        "   y = temp\n",
        "   count += 1\n",
        "except ValueError as e:\n",
        "  print(\"enter valid input\")"
      ],
      "metadata": {
        "colab": {
          "base_uri": "https://localhost:8080/"
        },
        "id": "mykWCdc1LK59",
        "outputId": "a6055d5d-12bd-4ca7-ee0a-f67b254bd3c2"
      },
      "execution_count": null,
      "outputs": [
        {
          "output_type": "stream",
          "name": "stdout",
          "text": [
            "Enter Number :6\n",
            "0 1 1 2 3 5 "
          ]
        }
      ]
    },
    {
      "cell_type": "markdown",
      "source": [
        "Write a Python Program to Check Armstrong Number?"
      ],
      "metadata": {
        "id": "8y6VyVvBOOf0"
      }
    },
    {
      "cell_type": "code",
      "source": [
        "try :\n",
        "  number = int(input(\"Enter Number : \"))\n",
        "  def number_of_digits(number):\n",
        "    divider = 10\n",
        "    count = 0\n",
        "    digits =[]\n",
        "    while number > 0:\n",
        "      count += 1\n",
        "      digits.append(number % divider)\n",
        "      number = number//divider\n",
        "    return count , digits\n",
        "\n",
        "  count , digits = number_of_digits(number)\n",
        "  SOP = 0\n",
        "  for i in digits:\n",
        "    SOP += i**3\n",
        "  print(SOP)\n",
        "  if SOP == number:\n",
        "    print(\"yes it is Armstrong number\")\n",
        "  else :\n",
        "    print(\"it is not a Armstrong number\")\n",
        "\n",
        "except ValueError as e:\n",
        "  print(\"enter a valid input\")"
      ],
      "metadata": {
        "id": "Ev23l9tUNgmW",
        "colab": {
          "base_uri": "https://localhost:8080/"
        },
        "outputId": "fd623d10-e616-47e4-df6f-bbf9f04c3113"
      },
      "execution_count": 34,
      "outputs": [
        {
          "output_type": "stream",
          "name": "stdout",
          "text": [
            "Enter Number : 407\n",
            "407\n",
            "yes it is Armstrong number\n"
          ]
        }
      ]
    },
    {
      "cell_type": "markdown",
      "source": [
        "Write a Python Program to Find Armstrong Number in an Interval?"
      ],
      "metadata": {
        "id": "8kdy0vq8oAR_"
      }
    },
    {
      "cell_type": "code",
      "source": [
        "try :\n",
        "  start = int(input(\"Enter starting point of range : \"))\n",
        "  end = int(input(\"Enter ending point of range : \"))\n",
        "\n",
        "  def number_of_digits(number):\n",
        "    divider = 10\n",
        "    count = 0\n",
        "    digits =[]\n",
        "    while number > 0:\n",
        "      count += 1\n",
        "      digits.append(number % divider)\n",
        "      number = number//divider\n",
        "    return count , digits\n",
        "\n",
        "  def Armstrong(number):\n",
        "    count , digits = number_of_digits(number)\n",
        "    SOP = 0\n",
        "    for i in digits:\n",
        "      SOP += i**3\n",
        "    if SOP == number:\n",
        "      return True\n",
        "    else :\n",
        "      return False\n",
        "\n",
        "  Armstrong_list =[]\n",
        "\n",
        "  for i in range(start,end):\n",
        "    if Armstrong(i) :\n",
        "      Armstrong_list.append(i)\n",
        "  print(Armstrong_list)\n",
        "\n",
        "except ValueError as e:\n",
        "  print(\"enter a valid input\")"
      ],
      "metadata": {
        "colab": {
          "base_uri": "https://localhost:8080/"
        },
        "id": "cDjRYc7NhHV8",
        "outputId": "eb8b12eb-e98f-46cf-e238-cf806e9d3d6d"
      },
      "execution_count": 33,
      "outputs": [
        {
          "output_type": "stream",
          "name": "stdout",
          "text": [
            "Enter starting point of range : 1\n",
            "Enter ending point of range : 500\n",
            "[1, 153, 370, 371, 407]\n"
          ]
        }
      ]
    },
    {
      "cell_type": "markdown",
      "source": [
        "Write a Python Program to Find the Sum of Natural Numbers?"
      ],
      "metadata": {
        "id": "VI8s8_Q0qq0U"
      }
    },
    {
      "cell_type": "code",
      "source": [
        "try:\n",
        "  number = int(input(\"Enter number : \"))\n",
        "  sum = 0\n",
        "  while number > 0:\n",
        "    sum += number\n",
        "    number -= 1\n",
        "  print(sum)\n",
        "except ValueError as e:\n",
        "  print(\"enter a valid input\")\n"
      ],
      "metadata": {
        "colab": {
          "base_uri": "https://localhost:8080/"
        },
        "id": "e7vGHRbOhJLc",
        "outputId": "6e2f42cb-86e6-4890-a1b5-5f2000cf7da4"
      },
      "execution_count": 40,
      "outputs": [
        {
          "output_type": "stream",
          "name": "stdout",
          "text": [
            "Enter number : 3\n",
            "6\n"
          ]
        }
      ]
    },
    {
      "cell_type": "code",
      "source": [],
      "metadata": {
        "id": "54uGdGRbsGy2"
      },
      "execution_count": null,
      "outputs": []
    }
  ]
}